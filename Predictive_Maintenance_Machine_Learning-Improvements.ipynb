{
 "cells": [
  {
   "cell_type": "markdown",
   "metadata": {
    "collapsed": false
   },
   "source": [
    "## Predictive Maintenance Example: Machine Learning Modeling Improvements\n",
    "#### Supplement to 'Operationalizing Predictive Maintenance on a Distributed Network of Equipment'\n",
    "###### Melissa Perry\n",
    "###### UWEX Data Science Masters Program Capstone\n",
    "###### December 12, 2021"
   ]
  },
  {
   "cell_type": "code",
   "execution_count": 3,
   "metadata": {
    "collapsed": false
   },
   "outputs": [
   ],
   "source": [
    "# computational imports\n",
    "import pandas as pd\n",
    "import numpy as np\n",
    "from sklearn.linear_model import LinearRegression\n",
    "from sklearn.metrics import mean_squared_error\n",
    "from sklearn.ensemble import RandomForestRegressor\n",
    "from sklearn.model_selection import GridSearchCV, cross_val_score, KFold, RandomizedSearchCV\n",
    "import xgboost as xgb\n",
    "from scipy.stats import uniform, randint\n",
    "from GPyOpt.methods import BayesianOptimization\n",
    "from tpot import TPOTRegressor\n",
    "from pprint import pprint\n",
    "from sklearn.preprocessing import StandardScaler\n",
    "from sklearn.feature_selection import RFE\n",
    "from statsmodels.stats.outliers_influence import variance_inflation_factor as vif\n",
    "import statsmodels.formula.api as smf\n",
    "\n",
    "# plotting imports\n",
    "import matplotlib.pyplot as plt\n",
    "import seaborn as sns\n",
    "sns.set_style(\"darkgrid\")\n",
    "\n",
    "# for reading files from urls\n",
    "import urllib.request\n",
    "# display imports\n",
    "from IPython.display import display, IFrame\n",
    "from IPython.core.display import HTML\n",
    "\n",
    "# # import notebook styling for tables and width etc.\n",
    "# response = urllib.request.urlopen('https://raw.githubusercontent.com/DataScienceUWL/DS775v2/master/ds755.css')\n",
    "# HTML(response.read().decode(\"utf-8\"));\n",
    "\n",
    "# import warnings\n",
    "import warnings"
   ]
  },
  {
   "cell_type": "code",
   "execution_count": 4,
   "metadata": {
    "collapsed": false
   },
   "outputs": [
   ],
   "source": [
    "# import data from previous notebook.\n",
    "X_train = pd.read_csv('x_train.csv').iloc[: , 2:]\n",
    "y_train = pd.read_csv('y_train.csv')['RUL']\n",
    "X_test = pd.read_csv('x_test.csv').iloc[: , 2:]\n",
    "y_test = pd.read_csv('y_test.csv')['RUL']"
   ]
  },
  {
   "cell_type": "code",
   "execution_count": 5,
   "metadata": {
    "collapsed": false
   },
   "outputs": [
   ],
   "source": [
    "#bring in useful functions from previous notebook. \n",
    "def my_regression_results(model):\n",
    "    score_test = model.score(X_test,y_test)\n",
    "    print('Model r-squared score from test data: {:0.4f}'.format(score_test))\n",
    "   \n",
    "    y_pred = model.predict(X_test)\n",
    "    # import matplotlib.pyplot as plt\n",
    "    plt.figure(figsize=(9,6))\n",
    "    plt.plot(y_test,y_pred,'k.')\n",
    "    plt.xlabel('Test Values')\n",
    "    plt.ylabel('Predicted Values');\n",
    "\n",
    "    # from sklearn.metrics import mean_squared_error\n",
    "    mse = mean_squared_error(y_test,y_pred)\n",
    "    rmse = np.sqrt(mse)\n",
    "    print('Mean squared error on test data: {:0.2f}'.format(mse))\n",
    "    print('Root mean squared error on test data: {:0.2f}'.format(rmse))\n",
    "\n",
    "#write a function to display results in a short list with no visuals.\n",
    "def my_short_regression_results(model):\n",
    "    score_test = model.score(X_test,y_test)\n",
    "    y_pred = model.predict(X_test)\n",
    "    mse = mean_squared_error(y_test,y_pred)\n",
    "    rmse = np.sqrt(mse)\n",
    "    return(score_test, mse, rmse)"
   ]
  },
  {
   "cell_type": "markdown",
   "metadata": {
    "collapsed": false
   },
   "source": [
    "#### Proposed Methods to Improve Model Performance\n",
    "1. Scale the data to symmetry for tree based models.\n",
    "2. Add lagged aggregates to capture degradation over time for all models. \n",
    "3. Use hyperparameter tuning for tree-based models. "
   ]
  },
  {
   "cell_type": "markdown",
   "metadata": {
    "collapsed": false
   },
   "source": [
    "##### Proposal 1: Scaling the Data for the tree-based regression models."
   ]
  },
  {
   "cell_type": "code",
   "execution_count": 6,
   "metadata": {
    "collapsed": false
   },
   "outputs": [
    {
     "data": {
      "text/html": [
       "<div>\n",
       "<style scoped>\n",
       "    .dataframe tbody tr th:only-of-type {\n",
       "        vertical-align: middle;\n",
       "    }\n",
       "\n",
       "    .dataframe tbody tr th {\n",
       "        vertical-align: top;\n",
       "    }\n",
       "\n",
       "    .dataframe thead th {\n",
       "        text-align: right;\n",
       "    }\n",
       "</style>\n",
       "<table border=\"1\" class=\"dataframe\">\n",
       "  <thead>\n",
       "    <tr style=\"text-align: right;\">\n",
       "      <th></th>\n",
       "      <th>T30</th>\n",
       "      <th>T50</th>\n",
       "      <th>P30</th>\n",
       "      <th>Ps30</th>\n",
       "      <th>phi</th>\n",
       "      <th>NRc</th>\n",
       "      <th>BPR</th>\n",
       "      <th>htBleed</th>\n",
       "      <th>W31</th>\n",
       "      <th>W32</th>\n",
       "      <th>Nf_diff</th>\n",
       "      <th>NRf_diff</th>\n",
       "    </tr>\n",
       "  </thead>\n",
       "  <tbody>\n",
       "    <tr>\n",
       "      <th>0</th>\n",
       "      <td>-0.134255</td>\n",
       "      <td>-0.925936</td>\n",
       "      <td>1.121141</td>\n",
       "      <td>-0.266467</td>\n",
       "      <td>0.334262</td>\n",
       "      <td>-0.269071</td>\n",
       "      <td>-0.603816</td>\n",
       "      <td>-0.781710</td>\n",
       "      <td>1.348493</td>\n",
       "      <td>1.194427</td>\n",
       "      <td>-0.516338</td>\n",
       "      <td>-1.058890</td>\n",
       "    </tr>\n",
       "    <tr>\n",
       "      <th>1</th>\n",
       "      <td>0.211528</td>\n",
       "      <td>-0.643726</td>\n",
       "      <td>0.431930</td>\n",
       "      <td>-0.191583</td>\n",
       "      <td>1.174899</td>\n",
       "      <td>-0.642845</td>\n",
       "      <td>-0.275852</td>\n",
       "      <td>-0.781710</td>\n",
       "      <td>1.016528</td>\n",
       "      <td>1.236922</td>\n",
       "      <td>-0.798093</td>\n",
       "      <td>-0.363646</td>\n",
       "    </tr>\n",
       "    <tr>\n",
       "      <th>2</th>\n",
       "      <td>-0.413166</td>\n",
       "      <td>-0.525953</td>\n",
       "      <td>1.008155</td>\n",
       "      <td>-1.015303</td>\n",
       "      <td>1.364721</td>\n",
       "      <td>-0.551629</td>\n",
       "      <td>-0.649144</td>\n",
       "      <td>-2.073094</td>\n",
       "      <td>0.739891</td>\n",
       "      <td>0.503423</td>\n",
       "      <td>-0.234584</td>\n",
       "      <td>-0.919841</td>\n",
       "    </tr>\n",
       "    <tr>\n",
       "      <th>3</th>\n",
       "      <td>-1.261314</td>\n",
       "      <td>-0.784831</td>\n",
       "      <td>1.222827</td>\n",
       "      <td>-1.539489</td>\n",
       "      <td>1.961302</td>\n",
       "      <td>-0.520176</td>\n",
       "      <td>-1.971665</td>\n",
       "      <td>-0.781710</td>\n",
       "      <td>0.352598</td>\n",
       "      <td>0.777792</td>\n",
       "      <td>0.188048</td>\n",
       "      <td>-0.224597</td>\n",
       "    </tr>\n",
       "    <tr>\n",
       "      <th>4</th>\n",
       "      <td>-1.251528</td>\n",
       "      <td>-0.301518</td>\n",
       "      <td>0.714393</td>\n",
       "      <td>-0.977861</td>\n",
       "      <td>1.052871</td>\n",
       "      <td>-0.521748</td>\n",
       "      <td>-0.339845</td>\n",
       "      <td>-0.136018</td>\n",
       "      <td>0.463253</td>\n",
       "      <td>1.059552</td>\n",
       "      <td>-0.516338</td>\n",
       "      <td>-0.780793</td>\n",
       "    </tr>\n",
       "    <tr>\n",
       "      <th>...</th>\n",
       "      <td>...</td>\n",
       "      <td>...</td>\n",
       "      <td>...</td>\n",
       "      <td>...</td>\n",
       "      <td>...</td>\n",
       "      <td>...</td>\n",
       "      <td>...</td>\n",
       "      <td>...</td>\n",
       "      <td>...</td>\n",
       "      <td>...</td>\n",
       "      <td>...</td>\n",
       "      <td>...</td>\n",
       "    </tr>\n",
       "    <tr>\n",
       "      <th>20626</th>\n",
       "      <td>1.216258</td>\n",
       "      <td>2.188375</td>\n",
       "      <td>-2.189329</td>\n",
       "      <td>1.980044</td>\n",
       "      <td>-2.607969</td>\n",
       "      <td>-0.322542</td>\n",
       "      <td>1.425294</td>\n",
       "      <td>2.446751</td>\n",
       "      <td>-1.805173</td>\n",
       "      <td>-2.921113</td>\n",
       "      <td>1.315066</td>\n",
       "      <td>2.278282</td>\n",
       "    </tr>\n",
       "    <tr>\n",
       "      <th>20627</th>\n",
       "      <td>2.279706</td>\n",
       "      <td>2.738351</td>\n",
       "      <td>-2.833345</td>\n",
       "      <td>1.867718</td>\n",
       "      <td>-2.350355</td>\n",
       "      <td>-0.380207</td>\n",
       "      <td>1.913240</td>\n",
       "      <td>1.155367</td>\n",
       "      <td>-2.856395</td>\n",
       "      <td>-1.203764</td>\n",
       "      <td>1.878576</td>\n",
       "      <td>1.722087</td>\n",
       "    </tr>\n",
       "    <tr>\n",
       "      <th>20628</th>\n",
       "      <td>1.946971</td>\n",
       "      <td>2.138377</td>\n",
       "      <td>-2.742957</td>\n",
       "      <td>2.054927</td>\n",
       "      <td>-1.902919</td>\n",
       "      <td>-0.141684</td>\n",
       "      <td>3.265092</td>\n",
       "      <td>3.092444</td>\n",
       "      <td>-2.081810</td>\n",
       "      <td>-3.292481</td>\n",
       "      <td>2.019453</td>\n",
       "      <td>2.000184</td>\n",
       "    </tr>\n",
       "    <tr>\n",
       "      <th>20629</th>\n",
       "      <td>2.403666</td>\n",
       "      <td>1.955051</td>\n",
       "      <td>-3.036719</td>\n",
       "      <td>3.178182</td>\n",
       "      <td>-2.363913</td>\n",
       "      <td>-0.233948</td>\n",
       "      <td>2.579834</td>\n",
       "      <td>1.155367</td>\n",
       "      <td>-2.911722</td>\n",
       "      <td>-2.085072</td>\n",
       "      <td>2.160330</td>\n",
       "      <td>1.861136</td>\n",
       "    </tr>\n",
       "    <tr>\n",
       "      <th>20630</th>\n",
       "      <td>1.607712</td>\n",
       "      <td>2.578358</td>\n",
       "      <td>-2.912435</td>\n",
       "      <td>2.466787</td>\n",
       "      <td>-2.865584</td>\n",
       "      <td>-0.336696</td>\n",
       "      <td>1.638604</td>\n",
       "      <td>1.801059</td>\n",
       "      <td>-2.469103</td>\n",
       "      <td>-2.194080</td>\n",
       "      <td>2.301208</td>\n",
       "      <td>2.278282</td>\n",
       "    </tr>\n",
       "  </tbody>\n",
       "</table>\n",
       "<p>20631 rows × 12 columns</p>\n",
       "</div>"
      ],
      "text/plain": [
       "            T30       T50       P30      Ps30       phi       NRc       BPR  \\\n",
       "0     -0.134255 -0.925936  1.121141 -0.266467  0.334262 -0.269071 -0.603816   \n",
       "1      0.211528 -0.643726  0.431930 -0.191583  1.174899 -0.642845 -0.275852   \n",
       "2     -0.413166 -0.525953  1.008155 -1.015303  1.364721 -0.551629 -0.649144   \n",
       "3     -1.261314 -0.784831  1.222827 -1.539489  1.961302 -0.520176 -1.971665   \n",
       "4     -1.251528 -0.301518  0.714393 -0.977861  1.052871 -0.521748 -0.339845   \n",
       "...         ...       ...       ...       ...       ...       ...       ...   \n",
       "20626  1.216258  2.188375 -2.189329  1.980044 -2.607969 -0.322542  1.425294   \n",
       "20627  2.279706  2.738351 -2.833345  1.867718 -2.350355 -0.380207  1.913240   \n",
       "20628  1.946971  2.138377 -2.742957  2.054927 -1.902919 -0.141684  3.265092   \n",
       "20629  2.403666  1.955051 -3.036719  3.178182 -2.363913 -0.233948  2.579834   \n",
       "20630  1.607712  2.578358 -2.912435  2.466787 -2.865584 -0.336696  1.638604   \n",
       "\n",
       "        htBleed       W31       W32   Nf_diff  NRf_diff  \n",
       "0     -0.781710  1.348493  1.194427 -0.516338 -1.058890  \n",
       "1     -0.781710  1.016528  1.236922 -0.798093 -0.363646  \n",
       "2     -2.073094  0.739891  0.503423 -0.234584 -0.919841  \n",
       "3     -0.781710  0.352598  0.777792  0.188048 -0.224597  \n",
       "4     -0.136018  0.463253  1.059552 -0.516338 -0.780793  \n",
       "...         ...       ...       ...       ...       ...  \n",
       "20626  2.446751 -1.805173 -2.921113  1.315066  2.278282  \n",
       "20627  1.155367 -2.856395 -1.203764  1.878576  1.722087  \n",
       "20628  3.092444 -2.081810 -3.292481  2.019453  2.000184  \n",
       "20629  1.155367 -2.911722 -2.085072  2.160330  1.861136  \n",
       "20630  1.801059 -2.469103 -2.194080  2.301208  2.278282  \n",
       "\n",
       "[20631 rows x 12 columns]"
      ]
     },
     "execution_count": 6,
     "metadata": {
     },
     "output_type": "execute_result"
    }
   ],
   "source": [
    "#implement standard scaling routine for train and test sets. \n",
    "scaler = StandardScaler()\n",
    "scaler = StandardScaler().fit(X_train.values)\n",
    "features = scaler.transform(X_train.values)\n",
    "X_train_scaled = pd.DataFrame(features, columns = X_train.columns)\n",
    "X_train_scaled"
   ]
  },
  {
   "cell_type": "code",
   "execution_count": 7,
   "metadata": {
    "collapsed": false
   },
   "outputs": [
    {
     "data": {
      "text/html": [
       "<div>\n",
       "<style scoped>\n",
       "    .dataframe tbody tr th:only-of-type {\n",
       "        vertical-align: middle;\n",
       "    }\n",
       "\n",
       "    .dataframe tbody tr th {\n",
       "        vertical-align: top;\n",
       "    }\n",
       "\n",
       "    .dataframe thead th {\n",
       "        text-align: right;\n",
       "    }\n",
       "</style>\n",
       "<table border=\"1\" class=\"dataframe\">\n",
       "  <thead>\n",
       "    <tr style=\"text-align: right;\">\n",
       "      <th></th>\n",
       "      <th>T30</th>\n",
       "      <th>T50</th>\n",
       "      <th>P30</th>\n",
       "      <th>Ps30</th>\n",
       "      <th>phi</th>\n",
       "      <th>NRc</th>\n",
       "      <th>BPR</th>\n",
       "      <th>htBleed</th>\n",
       "      <th>W31</th>\n",
       "      <th>W32</th>\n",
       "      <th>Nf_diff</th>\n",
       "      <th>NRf_diff</th>\n",
       "    </tr>\n",
       "  </thead>\n",
       "  <tbody>\n",
       "    <tr>\n",
       "      <th>0</th>\n",
       "      <td>-1.603619</td>\n",
       "      <td>-1.355943</td>\n",
       "      <td>1.451228</td>\n",
       "      <td>-1.427840</td>\n",
       "      <td>0.739155</td>\n",
       "      <td>-0.657866</td>\n",
       "      <td>-1.537896</td>\n",
       "      <td>-0.356332</td>\n",
       "      <td>0.291274</td>\n",
       "      <td>0.994198</td>\n",
       "      <td>-0.607375</td>\n",
       "      <td>-0.842309</td>\n",
       "    </tr>\n",
       "    <tr>\n",
       "      <th>1</th>\n",
       "      <td>-0.791580</td>\n",
       "      <td>0.032832</td>\n",
       "      <td>0.423689</td>\n",
       "      <td>0.292920</td>\n",
       "      <td>0.667113</td>\n",
       "      <td>-0.831042</td>\n",
       "      <td>-0.071375</td>\n",
       "      <td>-1.726838</td>\n",
       "      <td>0.291274</td>\n",
       "      <td>0.021750</td>\n",
       "      <td>-0.296697</td>\n",
       "      <td>-0.401310</td>\n",
       "    </tr>\n",
       "    <tr>\n",
       "      <th>2</th>\n",
       "      <td>-0.313732</td>\n",
       "      <td>0.971886</td>\n",
       "      <td>-0.638102</td>\n",
       "      <td>1.114192</td>\n",
       "      <td>-0.644059</td>\n",
       "      <td>-0.585035</td>\n",
       "      <td>-1.248251</td>\n",
       "      <td>1.014175</td>\n",
       "      <td>1.064567</td>\n",
       "      <td>0.148772</td>\n",
       "      <td>0.635336</td>\n",
       "      <td>0.333690</td>\n",
       "    </tr>\n",
       "    <tr>\n",
       "      <th>3</th>\n",
       "      <td>0.409090</td>\n",
       "      <td>-0.427375</td>\n",
       "      <td>-0.581016</td>\n",
       "      <td>0.214704</td>\n",
       "      <td>0.868832</td>\n",
       "      <td>-0.467426</td>\n",
       "      <td>0.321934</td>\n",
       "      <td>1.014175</td>\n",
       "      <td>-1.190872</td>\n",
       "      <td>-0.016773</td>\n",
       "      <td>0.169319</td>\n",
       "      <td>-0.107310</td>\n",
       "    </tr>\n",
       "    <tr>\n",
       "      <th>4</th>\n",
       "      <td>-0.285000</td>\n",
       "      <td>1.026645</td>\n",
       "      <td>0.161095</td>\n",
       "      <td>-0.528352</td>\n",
       "      <td>-0.399115</td>\n",
       "      <td>-0.893623</td>\n",
       "      <td>-0.507368</td>\n",
       "      <td>0.328921</td>\n",
       "      <td>-0.095373</td>\n",
       "      <td>1.582456</td>\n",
       "      <td>-0.296697</td>\n",
       "      <td>0.480690</td>\n",
       "    </tr>\n",
       "    <tr>\n",
       "      <th>...</th>\n",
       "      <td>...</td>\n",
       "      <td>...</td>\n",
       "      <td>...</td>\n",
       "      <td>...</td>\n",
       "      <td>...</td>\n",
       "      <td>...</td>\n",
       "      <td>...</td>\n",
       "      <td>...</td>\n",
       "      <td>...</td>\n",
       "      <td>...</td>\n",
       "      <td>...</td>\n",
       "      <td>...</td>\n",
       "    </tr>\n",
       "    <tr>\n",
       "      <th>95</th>\n",
       "      <td>-0.142855</td>\n",
       "      <td>-1.468956</td>\n",
       "      <td>0.960293</td>\n",
       "      <td>-1.779813</td>\n",
       "      <td>1.473988</td>\n",
       "      <td>0.320231</td>\n",
       "      <td>-1.275691</td>\n",
       "      <td>-1.726838</td>\n",
       "      <td>1.257891</td>\n",
       "      <td>2.091585</td>\n",
       "      <td>-1.384069</td>\n",
       "      <td>-1.577309</td>\n",
       "    </tr>\n",
       "    <tr>\n",
       "      <th>96</th>\n",
       "      <td>-1.340501</td>\n",
       "      <td>0.043318</td>\n",
       "      <td>1.028795</td>\n",
       "      <td>-0.841217</td>\n",
       "      <td>0.436577</td>\n",
       "      <td>0.710822</td>\n",
       "      <td>-0.086619</td>\n",
       "      <td>1.014175</td>\n",
       "      <td>-0.997549</td>\n",
       "      <td>0.370540</td>\n",
       "      <td>-0.918053</td>\n",
       "      <td>-0.842309</td>\n",
       "    </tr>\n",
       "    <tr>\n",
       "      <th>97</th>\n",
       "      <td>1.162154</td>\n",
       "      <td>0.573429</td>\n",
       "      <td>0.332352</td>\n",
       "      <td>0.253812</td>\n",
       "      <td>0.364535</td>\n",
       "      <td>0.220425</td>\n",
       "      <td>-0.894578</td>\n",
       "      <td>0.328921</td>\n",
       "      <td>-0.030932</td>\n",
       "      <td>1.052503</td>\n",
       "      <td>0.169319</td>\n",
       "      <td>-0.401310</td>\n",
       "    </tr>\n",
       "    <tr>\n",
       "      <th>98</th>\n",
       "      <td>-1.027480</td>\n",
       "      <td>-1.464295</td>\n",
       "      <td>1.827992</td>\n",
       "      <td>-1.310515</td>\n",
       "      <td>0.782381</td>\n",
       "      <td>0.435682</td>\n",
       "      <td>-1.601923</td>\n",
       "      <td>-1.726838</td>\n",
       "      <td>1.193450</td>\n",
       "      <td>1.038968</td>\n",
       "      <td>-1.694747</td>\n",
       "      <td>-1.430309</td>\n",
       "    </tr>\n",
       "    <tr>\n",
       "      <th>99</th>\n",
       "      <td>1.481224</td>\n",
       "      <td>1.682585</td>\n",
       "      <td>-0.763690</td>\n",
       "      <td>0.801327</td>\n",
       "      <td>-0.298256</td>\n",
       "      <td>3.902449</td>\n",
       "      <td>1.142088</td>\n",
       "      <td>1.699428</td>\n",
       "      <td>-0.417578</td>\n",
       "      <td>-0.772659</td>\n",
       "      <td>-0.918053</td>\n",
       "      <td>-0.989309</td>\n",
       "    </tr>\n",
       "  </tbody>\n",
       "</table>\n",
       "<p>100 rows × 12 columns</p>\n",
       "</div>"
      ],
      "text/plain": [
       "         T30       T50       P30      Ps30       phi       NRc       BPR  \\\n",
       "0  -1.603619 -1.355943  1.451228 -1.427840  0.739155 -0.657866 -1.537896   \n",
       "1  -0.791580  0.032832  0.423689  0.292920  0.667113 -0.831042 -0.071375   \n",
       "2  -0.313732  0.971886 -0.638102  1.114192 -0.644059 -0.585035 -1.248251   \n",
       "3   0.409090 -0.427375 -0.581016  0.214704  0.868832 -0.467426  0.321934   \n",
       "4  -0.285000  1.026645  0.161095 -0.528352 -0.399115 -0.893623 -0.507368   \n",
       "..       ...       ...       ...       ...       ...       ...       ...   \n",
       "95 -0.142855 -1.468956  0.960293 -1.779813  1.473988  0.320231 -1.275691   \n",
       "96 -1.340501  0.043318  1.028795 -0.841217  0.436577  0.710822 -0.086619   \n",
       "97  1.162154  0.573429  0.332352  0.253812  0.364535  0.220425 -0.894578   \n",
       "98 -1.027480 -1.464295  1.827992 -1.310515  0.782381  0.435682 -1.601923   \n",
       "99  1.481224  1.682585 -0.763690  0.801327 -0.298256  3.902449  1.142088   \n",
       "\n",
       "     htBleed       W31       W32   Nf_diff  NRf_diff  \n",
       "0  -0.356332  0.291274  0.994198 -0.607375 -0.842309  \n",
       "1  -1.726838  0.291274  0.021750 -0.296697 -0.401310  \n",
       "2   1.014175  1.064567  0.148772  0.635336  0.333690  \n",
       "3   1.014175 -1.190872 -0.016773  0.169319 -0.107310  \n",
       "4   0.328921 -0.095373  1.582456 -0.296697  0.480690  \n",
       "..       ...       ...       ...       ...       ...  \n",
       "95 -1.726838  1.257891  2.091585 -1.384069 -1.577309  \n",
       "96  1.014175 -0.997549  0.370540 -0.918053 -0.842309  \n",
       "97  0.328921 -0.030932  1.052503  0.169319 -0.401310  \n",
       "98 -1.726838  1.193450  1.038968 -1.694747 -1.430309  \n",
       "99  1.699428 -0.417578 -0.772659 -0.918053 -0.989309  \n",
       "\n",
       "[100 rows x 12 columns]"
      ]
     },
     "execution_count": 7,
     "metadata": {
     },
     "output_type": "execute_result"
    }
   ],
   "source": [
    "#repeat for test\n",
    "scaler = StandardScaler().fit(X_test.values)\n",
    "features = scaler.transform(X_test.values)\n",
    "X_test_scaled = pd.DataFrame(features, columns = X_test.columns)\n",
    "X_test_scaled "
   ]
  },
  {
   "cell_type": "markdown",
   "metadata": {
    "collapsed": false
   },
   "source": [
    "Now attempt to redo tree based models and assess whether there is model improvement. "
   ]
  },
  {
   "cell_type": "code",
   "execution_count": 8,
   "metadata": {
    "collapsed": false
   },
   "outputs": [
    {
     "name": "stdout",
     "output_type": "stream",
     "text": [
      "Model r-squared score from test data: -0.0268\n",
      "Mean squared error on test data: 1773.18\n",
      "Root mean squared error on test data: 42.11\n"
     ]
    },
    {
     "data": {
      "image/png": "[encoded data removed]",
      "text/plain": [
       "<Figure size 648x432 with 1 Axes>"
      ]
     },
     "execution_count": 8,
     "metadata": {
      "image/png": {
       "height": 370,
       "width": 556
      }
     },
     "output_type": "execute_result"
    }
   ],
   "source": [
    "#random forest regression model\n",
    "X_test = X_test_scaled\n",
    "\n",
    "rf_model = RandomForestRegressor(random_state=0)\n",
    "rf_model.fit(X_train_scaled,y_train)\n",
    "\n",
    "my_regression_results(rf_model)"
   ]
  },
  {
   "cell_type": "code",
   "execution_count": 9,
   "metadata": {
    "collapsed": false
   },
   "outputs": [
    {
     "data": {
      "text/plain": [
       "-1.95"
      ]
     },
     "execution_count": 9,
     "metadata": {
     },
     "output_type": "execute_result"
    }
   ],
   "source": [
    "round(rf_model.score(X_train,y_train),2)"
   ]
  },
  {
   "cell_type": "code",
   "execution_count": 10,
   "metadata": {
    "collapsed": false
   },
   "outputs": [
    {
     "name": "stdout",
     "output_type": "stream",
     "text": [
      "Model r-squared score from test data: 0.0586\n",
      "Mean squared error on test data: 1625.60\n",
      "Root mean squared error on test data: 40.32\n"
     ]
    },
    {
     "data": {
      "image/png": "[encoded data removed]",
      "text/plain": [
       "<Figure size 648x432 with 1 Axes>"
      ]
     },
     "execution_count": 10,
     "metadata": {
      "image/png": {
       "height": 370,
       "width": 556
      }
     },
     "output_type": "execute_result"
    }
   ],
   "source": [
    "#xgboost regression model\n",
    "xgbr_model = xgb.XGBRegressor(objective ='reg:squarederror')\n",
    "xgbr_model.fit(X_train_scaled,y_train)\n",
    "\n",
    "my_regression_results(xgbr_model)"
   ]
  },
  {
   "cell_type": "code",
   "execution_count": 11,
   "metadata": {
    "collapsed": false
   },
   "outputs": [
    {
     "data": {
      "text/plain": [
       "-3.26"
      ]
     },
     "execution_count": 11,
     "metadata": {
     },
     "output_type": "execute_result"
    }
   ],
   "source": [
    "round(xgbr_model.score(X_train,y_train),2)"
   ]
  },
  {
   "cell_type": "markdown",
   "metadata": {
    "collapsed": false
   },
   "source": [
    "This treatment was ineffective in improving performance of the tree-based models. We are better off leaving the data unscaled. The random forest model shows a negative r-squared, which proves worse than having no model at all. The xgboost model performs worse than initially on the test set. We will reverse course and pull in the data as we had before to attempt the next proposal. "
   ]
  },
  {
   "cell_type": "code",
   "execution_count": 12,
   "metadata": {
    "collapsed": false
   },
   "outputs": [
   ],
   "source": [
    "# import data from previous notebook.\n",
    "X_train = pd.read_csv('x_train.csv').iloc[: , 2:]\n",
    "X_test = pd.read_csv('x_test.csv').iloc[: , 2:]"
   ]
  },
  {
   "cell_type": "markdown",
   "metadata": {
    "collapsed": false
   },
   "source": [
    "##### Proposal 2: Add lagged aggregates to capture degradation over time for all models. \n",
    "We will adapt learnings from existing code bases to help create efficient functions that can be used to create both rolling aggregates and lags of them in our dataset. We will experiment with both short and long term lags to help train the model to detect degradation of sensors over time. \n",
    "\n",
    "Sources:\n",
    "* https://towardsdatascience.com/time-series-analysis-for-predictive-maintenance-of-turbofan-engines-1b3864991da4\n",
    "* https://www.oreilly.com/library/view/predictive-maintenance-meets/9781491972540/"
   ]
  },
  {
   "cell_type": "code",
   "execution_count": 13,
   "metadata": {
    "collapsed": false
   },
   "outputs": [
   ],
   "source": [
    "#adapt function from Peter Koen's time series work to add lagged variables. \n",
    "def add_lagged_variables(df_input, lags, columns):\n",
    "    df = df_input.copy()\n",
    "    for i in range(lags):\n",
    "        lagged_columns = [col + '_lag_{}'.format(i+1) for col in columns]\n",
    "        df[lagged_columns] = df.groupby('unit_number')[columns].shift(i+1)\n",
    "    df.dropna(inplace=True)\n",
    "    return df"
   ]
  },
  {
   "cell_type": "code",
   "execution_count": 14,
   "metadata": {
    "collapsed": false
   },
   "outputs": [
   ],
   "source": [
    "#write a function to generate rolling aggregate value within a particular window over a list of grouped dataframes.\n",
    "def add_rolling_agg_variables(key, value_df, window):\n",
    "    df = value_df.assign(group = key) # this pandas method returns a copy of the df, with group columns assigned the key value\n",
    "    #for each col in the df, generate the aggregate, then rename the column with the aggregate name\n",
    "    df = df.sort_values(by=[\"time_in_cycles\"], ascending=True).set_index([\"time_in_cycles\"])\n",
    "    for c in df.columns:\n",
    "        df[str(c+'_roll_median'+str(window))] = df[c].rolling(3).median()\n",
    "    df.dropna(inplace=True)\n",
    "    return (df)"
   ]
  },
  {
   "cell_type": "code",
   "execution_count": 15,
   "metadata": {
    "collapsed": false
   },
   "outputs": [
    {
     "data": {
      "text/html": [
       "<div>\n",
       "<style scoped>\n",
       "    .dataframe tbody tr th:only-of-type {\n",
       "        vertical-align: middle;\n",
       "    }\n",
       "\n",
       "    .dataframe tbody tr th {\n",
       "        vertical-align: top;\n",
       "    }\n",
       "\n",
       "    .dataframe thead th {\n",
       "        text-align: right;\n",
       "    }\n",
       "</style>\n",
       "<table border=\"1\" class=\"dataframe\">\n",
       "  <thead>\n",
       "    <tr style=\"text-align: right;\">\n",
       "      <th></th>\n",
       "      <th>unit_number</th>\n",
       "      <th>time_in_cycles</th>\n",
       "      <th>setting_1</th>\n",
       "      <th>setting_2</th>\n",
       "      <th>setting_3</th>\n",
       "      <th>T2</th>\n",
       "      <th>T24</th>\n",
       "      <th>T30</th>\n",
       "      <th>T50</th>\n",
       "      <th>P2</th>\n",
       "      <th>...</th>\n",
       "      <th>phi</th>\n",
       "      <th>NRf</th>\n",
       "      <th>NRc</th>\n",
       "      <th>BPR</th>\n",
       "      <th>farB</th>\n",
       "      <th>htBleed</th>\n",
       "      <th>Nf_dmd</th>\n",
       "      <th>PCNfR_dmd</th>\n",
       "      <th>W31</th>\n",
       "      <th>W32</th>\n",
       "    </tr>\n",
       "  </thead>\n",
       "  <tbody>\n",
       "    <tr>\n",
       "      <th>0</th>\n",
       "      <td>1</td>\n",
       "      <td>1</td>\n",
       "      <td>-0.0007</td>\n",
       "      <td>-0.0004</td>\n",
       "      <td>100.0</td>\n",
       "      <td>518.67</td>\n",
       "      <td>641.82</td>\n",
       "      <td>1589.70</td>\n",
       "      <td>1400.60</td>\n",
       "      <td>14.62</td>\n",
       "      <td>...</td>\n",
       "      <td>521.66</td>\n",
       "      <td>2388.02</td>\n",
       "      <td>8138.62</td>\n",
       "      <td>8.4195</td>\n",
       "      <td>0.03</td>\n",
       "      <td>392</td>\n",
       "      <td>2388</td>\n",
       "      <td>100.0</td>\n",
       "      <td>39.06</td>\n",
       "      <td>23.4190</td>\n",
       "    </tr>\n",
       "    <tr>\n",
       "      <th>1</th>\n",
       "      <td>1</td>\n",
       "      <td>2</td>\n",
       "      <td>0.0019</td>\n",
       "      <td>-0.0003</td>\n",
       "      <td>100.0</td>\n",
       "      <td>518.67</td>\n",
       "      <td>642.15</td>\n",
       "      <td>1591.82</td>\n",
       "      <td>1403.14</td>\n",
       "      <td>14.62</td>\n",
       "      <td>...</td>\n",
       "      <td>522.28</td>\n",
       "      <td>2388.07</td>\n",
       "      <td>8131.49</td>\n",
       "      <td>8.4318</td>\n",
       "      <td>0.03</td>\n",
       "      <td>392</td>\n",
       "      <td>2388</td>\n",
       "      <td>100.0</td>\n",
       "      <td>39.00</td>\n",
       "      <td>23.4236</td>\n",
       "    </tr>\n",
       "    <tr>\n",
       "      <th>2</th>\n",
       "      <td>1</td>\n",
       "      <td>3</td>\n",
       "      <td>-0.0043</td>\n",
       "      <td>0.0003</td>\n",
       "      <td>100.0</td>\n",
       "      <td>518.67</td>\n",
       "      <td>642.35</td>\n",
       "      <td>1587.99</td>\n",
       "      <td>1404.20</td>\n",
       "      <td>14.62</td>\n",
       "      <td>...</td>\n",
       "      <td>522.42</td>\n",
       "      <td>2388.03</td>\n",
       "      <td>8133.23</td>\n",
       "      <td>8.4178</td>\n",
       "      <td>0.03</td>\n",
       "      <td>390</td>\n",
       "      <td>2388</td>\n",
       "      <td>100.0</td>\n",
       "      <td>38.95</td>\n",
       "      <td>23.3442</td>\n",
       "    </tr>\n",
       "    <tr>\n",
       "      <th>3</th>\n",
       "      <td>1</td>\n",
       "      <td>4</td>\n",
       "      <td>0.0007</td>\n",
       "      <td>0.0000</td>\n",
       "      <td>100.0</td>\n",
       "      <td>518.67</td>\n",
       "      <td>642.35</td>\n",
       "      <td>1582.79</td>\n",
       "      <td>1401.87</td>\n",
       "      <td>14.62</td>\n",
       "      <td>...</td>\n",
       "      <td>522.86</td>\n",
       "      <td>2388.08</td>\n",
       "      <td>8133.83</td>\n",
       "      <td>8.3682</td>\n",
       "      <td>0.03</td>\n",
       "      <td>392</td>\n",
       "      <td>2388</td>\n",
       "      <td>100.0</td>\n",
       "      <td>38.88</td>\n",
       "      <td>23.3739</td>\n",
       "    </tr>\n",
       "    <tr>\n",
       "      <th>4</th>\n",
       "      <td>1</td>\n",
       "      <td>5</td>\n",
       "      <td>-0.0019</td>\n",
       "      <td>-0.0002</td>\n",
       "      <td>100.0</td>\n",
       "      <td>518.67</td>\n",
       "      <td>642.37</td>\n",
       "      <td>1582.85</td>\n",
       "      <td>1406.22</td>\n",
       "      <td>14.62</td>\n",
       "      <td>...</td>\n",
       "      <td>522.19</td>\n",
       "      <td>2388.04</td>\n",
       "      <td>8133.80</td>\n",
       "      <td>8.4294</td>\n",
       "      <td>0.03</td>\n",
       "      <td>393</td>\n",
       "      <td>2388</td>\n",
       "      <td>100.0</td>\n",
       "      <td>38.90</td>\n",
       "      <td>23.4044</td>\n",
       "    </tr>\n",
       "  </tbody>\n",
       "</table>\n",
       "<p>5 rows × 26 columns</p>\n",
       "</div>"
      ],
      "text/plain": [
       "   unit_number  time_in_cycles  setting_1  setting_2  setting_3      T2  \\\n",
       "0            1               1    -0.0007    -0.0004      100.0  518.67   \n",
       "1            1               2     0.0019    -0.0003      100.0  518.67   \n",
       "2            1               3    -0.0043     0.0003      100.0  518.67   \n",
       "3            1               4     0.0007     0.0000      100.0  518.67   \n",
       "4            1               5    -0.0019    -0.0002      100.0  518.67   \n",
       "\n",
       "      T24      T30      T50     P2  ...     phi      NRf      NRc     BPR  \\\n",
       "0  641.82  1589.70  1400.60  14.62  ...  521.66  2388.02  8138.62  8.4195   \n",
       "1  642.15  1591.82  1403.14  14.62  ...  522.28  2388.07  8131.49  8.4318   \n",
       "2  642.35  1587.99  1404.20  14.62  ...  522.42  2388.03  8133.23  8.4178   \n",
       "3  642.35  1582.79  1401.87  14.62  ...  522.86  2388.08  8133.83  8.3682   \n",
       "4  642.37  1582.85  1406.22  14.62  ...  522.19  2388.04  8133.80  8.4294   \n",
       "\n",
       "   farB  htBleed  Nf_dmd  PCNfR_dmd    W31      W32  \n",
       "0  0.03      392    2388      100.0  39.06  23.4190  \n",
       "1  0.03      392    2388      100.0  39.00  23.4236  \n",
       "2  0.03      390    2388      100.0  38.95  23.3442  \n",
       "3  0.03      392    2388      100.0  38.88  23.3739  \n",
       "4  0.03      393    2388      100.0  38.90  23.4044  \n",
       "\n",
       "[5 rows x 26 columns]"
      ]
     },
     "execution_count": 15,
     "metadata": {
     },
     "output_type": "execute_result"
    }
   ],
   "source": [
    "# define filepath to read data\n",
    "dir_path = './data/'\n",
    "\n",
    "# define column names for easy indexing\n",
    "index_names = ['unit_number', 'time_in_cycles']\n",
    "setting_names = ['setting_1', 'setting_2', 'setting_3']\n",
    "sensor_names = ['T2','T24','T30','T50','P2','P15','P30','Nf','Nc','epr','Ps30','phi','NRf','NRc','BPR','farB','htBleed','Nf_dmd','PCNfR_dmd','W31','W32']\n",
    "col_names = index_names + setting_names + sensor_names\n",
    "\n",
    "# read data\n",
    "train = pd.read_csv((dir_path+'train_FD001.txt'), sep='\\s+', header=None, names=col_names)\n",
    "test = pd.read_csv((dir_path+'test_FD001.txt'), sep='\\s+', header=None, names=col_names)\n",
    "y_test = pd.read_csv((dir_path+'RUL_FD001.txt'), sep='\\s+', header=None, names=['RUL'])\n",
    "\n",
    "train.head()"
   ]
  },
  {
   "cell_type": "code",
   "execution_count": 16,
   "metadata": {
    "collapsed": false
   },
   "outputs": [
    {
     "data": {
      "text/html": [
       "<div>\n",
       "<style scoped>\n",
       "    .dataframe tbody tr th:only-of-type {\n",
       "        vertical-align: middle;\n",
       "    }\n",
       "\n",
       "    .dataframe tbody tr th {\n",
       "        vertical-align: top;\n",
       "    }\n",
       "\n",
       "    .dataframe thead th {\n",
       "        text-align: right;\n",
       "    }\n",
       "</style>\n",
       "<table border=\"1\" class=\"dataframe\">\n",
       "  <thead>\n",
       "    <tr style=\"text-align: right;\">\n",
       "      <th></th>\n",
       "      <th>unit_number</th>\n",
       "      <th>time_in_cycles</th>\n",
       "      <th>RUL</th>\n",
       "    </tr>\n",
       "  </thead>\n",
       "  <tbody>\n",
       "    <tr>\n",
       "      <th>0</th>\n",
       "      <td>1</td>\n",
       "      <td>1</td>\n",
       "      <td>191</td>\n",
       "    </tr>\n",
       "    <tr>\n",
       "      <th>1</th>\n",
       "      <td>1</td>\n",
       "      <td>2</td>\n",
       "      <td>190</td>\n",
       "    </tr>\n",
       "    <tr>\n",
       "      <th>2</th>\n",
       "      <td>1</td>\n",
       "      <td>3</td>\n",
       "      <td>189</td>\n",
       "    </tr>\n",
       "    <tr>\n",
       "      <th>3</th>\n",
       "      <td>1</td>\n",
       "      <td>4</td>\n",
       "      <td>188</td>\n",
       "    </tr>\n",
       "    <tr>\n",
       "      <th>4</th>\n",
       "      <td>1</td>\n",
       "      <td>5</td>\n",
       "      <td>187</td>\n",
       "    </tr>\n",
       "  </tbody>\n",
       "</table>\n",
       "</div>"
      ],
      "text/plain": [
       "   unit_number  time_in_cycles  RUL\n",
       "0            1               1  191\n",
       "1            1               2  190\n",
       "2            1               3  189\n",
       "3            1               4  188\n",
       "4            1               5  187"
      ]
     },
     "execution_count": 16,
     "metadata": {
     },
     "output_type": "execute_result"
    }
   ],
   "source": [
    "def add_remaining_useful_life(df):\n",
    "    # Get the total number of cycles for each unit\n",
    "    grouped_by_unit = df.groupby(by=\"unit_number\")\n",
    "    max_cycle = grouped_by_unit[\"time_in_cycles\"].max()\n",
    "    \n",
    "    # Merge the max cycle back into the original frame\n",
    "    result_frame = df.merge(max_cycle.to_frame(name='max_cycle'), left_on='unit_number', right_index=True)\n",
    "    \n",
    "    # Calculate remaining useful life for each row\n",
    "    remaining_useful_life = result_frame[\"max_cycle\"] - result_frame[\"time_in_cycles\"]\n",
    "    result_frame[\"RUL\"] = remaining_useful_life\n",
    "    \n",
    "    # drop max_cycle as it's no longer needed\n",
    "    result_frame = result_frame.drop(\"max_cycle\", axis=1)\n",
    "    return result_frame\n",
    "\n",
    "train = add_remaining_useful_life(train)\n",
    "train[index_names+['RUL']].head()"
   ]
  },
  {
   "cell_type": "code",
   "execution_count": 17,
   "metadata": {
    "collapsed": false
   },
   "outputs": [
    {
     "name": "stdout",
     "output_type": "stream",
     "text": [
      "Index(['unit_number', 'time_in_cycles', 'T24', 'T30', 'T50', 'P15', 'P30',\n",
      "       'Ps30', 'phi', 'NRc', 'BPR', 'htBleed', 'W31', 'W32', 'RUL', 'Nf_diff',\n",
      "       'NRf_diff'],\n",
      "      dtype='object')\n"
     ]
    }
   ],
   "source": [
    "#take the difference of variables from their demanded levels. \n",
    "train['Nf_diff']=train['Nf']-train['Nf_dmd']\n",
    "train['NRf_diff'] = train['NRf']-train['PCNfR_dmd']\n",
    "test['Nf_diff']=test['Nf']-test['Nf_dmd']\n",
    "test['NRf_diff'] = test['NRf']-test['PCNfR_dmd']\n",
    "\n",
    "# drop unwanted columns and split target variable from training set\n",
    "drop_sensors = ['T2', 'P2','epr','farB','Nf_dmd','PCNfR_dmd','Nc','Nf','NRf'] # observe rationale in Predictive Maintenance EDA and Feature Engineering file, where these variables produce no additional data.  \n",
    "drop_labels = setting_names+drop_sensors # alter this version of the work to keep RUL and Unit number, as we need these to add lags and aggregates. \n",
    "\n",
    "X_train = train.drop(drop_labels, axis=1)\n",
    "#y_train = X_train.pop('RUL') #do this later following transformations.\n",
    "remaining_sensors = X_train.columns.difference(index_names+['RUL'])\n",
    "\n",
    "# Since the true RUL values for the test set are only provided for the last time cycle of each enginge, \n",
    "# the test set is subsetted to represent the same\n",
    "#X_test = test.groupby('unit_number').last().reset_index().drop(drop_labels, axis=1)\n",
    "X_test = test.drop(drop_labels, axis=1)\n",
    "\n",
    "print(X_train.columns)  # check remaining columns"
   ]
  },
  {
   "cell_type": "code",
   "execution_count": 18,
   "metadata": {
    "collapsed": false
   },
   "outputs": [
   ],
   "source": [
    "#prepare X_train. \n",
    "\n",
    "#apply rolling aggregates to train. \n",
    "grouped_df=X_train.groupby(['unit_number'])\n",
    "dflist = [add_rolling_agg_variables(g, grouped_df.get_group(g),3) for g in grouped_df.groups.keys()]\n",
    "X_train = pd.concat(dflist, axis=0).reset_index()\n",
    "\n",
    "#apply lags to the aggregates in the short and long term. \n",
    "agg_columns=[col for col in X_train.columns if 'median' in col]\n",
    "X_train = add_lagged_variables(X_train,10,agg_columns)\n",
    "y_train = X_train.pop('RUL')\n",
    "\n",
    "\n",
    "#Repeat for X_test. \n",
    "\n",
    "#apply rolling aggregates to test. \n",
    "grouped_df=X_test.groupby(['unit_number'])\n",
    "dflist = [add_rolling_agg_variables(g, grouped_df.get_group(g),3) for g in grouped_df.groups.keys()]\n",
    "X_test = pd.concat(dflist, axis=0).reset_index()\n",
    "\n",
    "#apply lags to the aggregates in the short and long term. \n",
    "agg_columns=[col for col in X_test.columns if 'median' in col]\n",
    "X_test= add_lagged_variables(X_test,10,agg_columns)"
   ]
  },
  {
   "cell_type": "code",
   "execution_count": 19,
   "metadata": {
    "collapsed": false
   },
   "outputs": [
    {
     "data": {
      "text/html": [
       "<div>\n",
       "<style scoped>\n",
       "    .dataframe tbody tr th:only-of-type {\n",
       "        vertical-align: middle;\n",
       "    }\n",
       "\n",
       "    .dataframe tbody tr th {\n",
       "        vertical-align: top;\n",
       "    }\n",
       "\n",
       "    .dataframe thead th {\n",
       "        text-align: right;\n",
       "    }\n",
       "</style>\n",
       "<table border=\"1\" class=\"dataframe\">\n",
       "  <thead>\n",
       "    <tr style=\"text-align: right;\">\n",
       "      <th></th>\n",
       "      <th>time_in_cycles</th>\n",
       "      <th>unit_number</th>\n",
       "      <th>T24</th>\n",
       "      <th>T30</th>\n",
       "      <th>T50</th>\n",
       "      <th>P15</th>\n",
       "      <th>P30</th>\n",
       "      <th>Ps30</th>\n",
       "      <th>phi</th>\n",
       "      <th>NRc</th>\n",
       "      <th>...</th>\n",
       "      <th>phi_roll_median3_lag_10</th>\n",
       "      <th>NRc_roll_median3_lag_10</th>\n",
       "      <th>BPR_roll_median3_lag_10</th>\n",
       "      <th>htBleed_roll_median3_lag_10</th>\n",
       "      <th>W31_roll_median3_lag_10</th>\n",
       "      <th>W32_roll_median3_lag_10</th>\n",
       "      <th>RUL_roll_median3_lag_10</th>\n",
       "      <th>Nf_diff_roll_median3_lag_10</th>\n",
       "      <th>NRf_diff_roll_median3_lag_10</th>\n",
       "      <th>group_roll_median3_lag_10</th>\n",
       "    </tr>\n",
       "  </thead>\n",
       "  <tbody>\n",
       "    <tr>\n",
       "      <th>10</th>\n",
       "      <td>13</td>\n",
       "      <td>1</td>\n",
       "      <td>643.07</td>\n",
       "      <td>1582.19</td>\n",
       "      <td>1400.83</td>\n",
       "      <td>21.61</td>\n",
       "      <td>553.44</td>\n",
       "      <td>47.38</td>\n",
       "      <td>521.85</td>\n",
       "      <td>8128.10</td>\n",
       "      <td>...</td>\n",
       "      <td>522.28</td>\n",
       "      <td>8133.23</td>\n",
       "      <td>8.4195</td>\n",
       "      <td>392.0</td>\n",
       "      <td>39.00</td>\n",
       "      <td>23.4190</td>\n",
       "      <td>190.0</td>\n",
       "      <td>0.06</td>\n",
       "      <td>2288.03</td>\n",
       "      <td>1.0</td>\n",
       "    </tr>\n",
       "    <tr>\n",
       "      <th>11</th>\n",
       "      <td>14</td>\n",
       "      <td>1</td>\n",
       "      <td>642.35</td>\n",
       "      <td>1592.95</td>\n",
       "      <td>1399.16</td>\n",
       "      <td>21.61</td>\n",
       "      <td>554.48</td>\n",
       "      <td>47.44</td>\n",
       "      <td>521.67</td>\n",
       "      <td>8134.43</td>\n",
       "      <td>...</td>\n",
       "      <td>522.42</td>\n",
       "      <td>8133.23</td>\n",
       "      <td>8.4178</td>\n",
       "      <td>392.0</td>\n",
       "      <td>38.95</td>\n",
       "      <td>23.3739</td>\n",
       "      <td>189.0</td>\n",
       "      <td>0.08</td>\n",
       "      <td>2288.07</td>\n",
       "      <td>1.0</td>\n",
       "    </tr>\n",
       "    <tr>\n",
       "      <th>12</th>\n",
       "      <td>15</td>\n",
       "      <td>1</td>\n",
       "      <td>642.43</td>\n",
       "      <td>1583.82</td>\n",
       "      <td>1402.13</td>\n",
       "      <td>21.61</td>\n",
       "      <td>553.64</td>\n",
       "      <td>47.30</td>\n",
       "      <td>522.50</td>\n",
       "      <td>8127.56</td>\n",
       "      <td>...</td>\n",
       "      <td>522.42</td>\n",
       "      <td>8133.80</td>\n",
       "      <td>8.4178</td>\n",
       "      <td>392.0</td>\n",
       "      <td>38.90</td>\n",
       "      <td>23.3739</td>\n",
       "      <td>188.0</td>\n",
       "      <td>0.08</td>\n",
       "      <td>2288.04</td>\n",
       "      <td>1.0</td>\n",
       "    </tr>\n",
       "    <tr>\n",
       "      <th>13</th>\n",
       "      <td>16</td>\n",
       "      <td>1</td>\n",
       "      <td>642.13</td>\n",
       "      <td>1587.98</td>\n",
       "      <td>1404.50</td>\n",
       "      <td>21.61</td>\n",
       "      <td>553.94</td>\n",
       "      <td>47.24</td>\n",
       "      <td>521.49</td>\n",
       "      <td>8136.11</td>\n",
       "      <td>...</td>\n",
       "      <td>522.19</td>\n",
       "      <td>8133.80</td>\n",
       "      <td>8.4108</td>\n",
       "      <td>392.0</td>\n",
       "      <td>38.90</td>\n",
       "      <td>23.3739</td>\n",
       "      <td>187.0</td>\n",
       "      <td>0.06</td>\n",
       "      <td>2288.04</td>\n",
       "      <td>1.0</td>\n",
       "    </tr>\n",
       "    <tr>\n",
       "      <th>14</th>\n",
       "      <td>17</td>\n",
       "      <td>1</td>\n",
       "      <td>642.58</td>\n",
       "      <td>1584.96</td>\n",
       "      <td>1399.95</td>\n",
       "      <td>21.61</td>\n",
       "      <td>553.80</td>\n",
       "      <td>47.12</td>\n",
       "      <td>521.89</td>\n",
       "      <td>8137.27</td>\n",
       "      <td>...</td>\n",
       "      <td>522.19</td>\n",
       "      <td>8132.85</td>\n",
       "      <td>8.4108</td>\n",
       "      <td>392.0</td>\n",
       "      <td>38.98</td>\n",
       "      <td>23.3774</td>\n",
       "      <td>186.0</td>\n",
       "      <td>0.02</td>\n",
       "      <td>2288.03</td>\n",
       "      <td>1.0</td>\n",
       "    </tr>\n",
       "    <tr>\n",
       "      <th>...</th>\n",
       "      <td>...</td>\n",
       "      <td>...</td>\n",
       "      <td>...</td>\n",
       "      <td>...</td>\n",
       "      <td>...</td>\n",
       "      <td>...</td>\n",
       "      <td>...</td>\n",
       "      <td>...</td>\n",
       "      <td>...</td>\n",
       "      <td>...</td>\n",
       "      <td>...</td>\n",
       "      <td>...</td>\n",
       "      <td>...</td>\n",
       "      <td>...</td>\n",
       "      <td>...</td>\n",
       "      <td>...</td>\n",
       "      <td>...</td>\n",
       "      <td>...</td>\n",
       "      <td>...</td>\n",
       "      <td>...</td>\n",
       "      <td>...</td>\n",
       "    </tr>\n",
       "    <tr>\n",
       "      <th>20426</th>\n",
       "      <td>196</td>\n",
       "      <td>100</td>\n",
       "      <td>643.49</td>\n",
       "      <td>1597.98</td>\n",
       "      <td>1428.63</td>\n",
       "      <td>21.61</td>\n",
       "      <td>551.43</td>\n",
       "      <td>48.07</td>\n",
       "      <td>519.49</td>\n",
       "      <td>8137.60</td>\n",
       "      <td>...</td>\n",
       "      <td>520.66</td>\n",
       "      <td>8142.28</td>\n",
       "      <td>8.4804</td>\n",
       "      <td>395.0</td>\n",
       "      <td>38.51</td>\n",
       "      <td>23.1229</td>\n",
       "      <td>15.0</td>\n",
       "      <td>0.20</td>\n",
       "      <td>2288.20</td>\n",
       "      <td>100.0</td>\n",
       "    </tr>\n",
       "    <tr>\n",
       "      <th>20427</th>\n",
       "      <td>197</td>\n",
       "      <td>100</td>\n",
       "      <td>643.54</td>\n",
       "      <td>1604.50</td>\n",
       "      <td>1433.58</td>\n",
       "      <td>21.61</td>\n",
       "      <td>550.86</td>\n",
       "      <td>48.04</td>\n",
       "      <td>519.68</td>\n",
       "      <td>8136.50</td>\n",
       "      <td>...</td>\n",
       "      <td>520.66</td>\n",
       "      <td>8140.49</td>\n",
       "      <td>8.4804</td>\n",
       "      <td>395.0</td>\n",
       "      <td>38.60</td>\n",
       "      <td>23.2127</td>\n",
       "      <td>14.0</td>\n",
       "      <td>0.20</td>\n",
       "      <td>2288.22</td>\n",
       "      <td>100.0</td>\n",
       "    </tr>\n",
       "    <tr>\n",
       "      <th>20428</th>\n",
       "      <td>198</td>\n",
       "      <td>100</td>\n",
       "      <td>643.42</td>\n",
       "      <td>1602.46</td>\n",
       "      <td>1428.18</td>\n",
       "      <td>21.61</td>\n",
       "      <td>550.94</td>\n",
       "      <td>48.09</td>\n",
       "      <td>520.01</td>\n",
       "      <td>8141.05</td>\n",
       "      <td>...</td>\n",
       "      <td>520.15</td>\n",
       "      <td>8139.94</td>\n",
       "      <td>8.4814</td>\n",
       "      <td>395.0</td>\n",
       "      <td>38.51</td>\n",
       "      <td>23.1173</td>\n",
       "      <td>13.0</td>\n",
       "      <td>0.22</td>\n",
       "      <td>2288.22</td>\n",
       "      <td>100.0</td>\n",
       "    </tr>\n",
       "    <tr>\n",
       "      <th>20429</th>\n",
       "      <td>199</td>\n",
       "      <td>100</td>\n",
       "      <td>643.23</td>\n",
       "      <td>1605.26</td>\n",
       "      <td>1426.53</td>\n",
       "      <td>21.61</td>\n",
       "      <td>550.68</td>\n",
       "      <td>48.39</td>\n",
       "      <td>519.67</td>\n",
       "      <td>8139.29</td>\n",
       "      <td>...</td>\n",
       "      <td>519.98</td>\n",
       "      <td>8139.94</td>\n",
       "      <td>8.4870</td>\n",
       "      <td>396.0</td>\n",
       "      <td>38.65</td>\n",
       "      <td>23.0591</td>\n",
       "      <td>12.0</td>\n",
       "      <td>0.22</td>\n",
       "      <td>2288.22</td>\n",
       "      <td>100.0</td>\n",
       "    </tr>\n",
       "    <tr>\n",
       "      <th>20430</th>\n",
       "      <td>200</td>\n",
       "      <td>100</td>\n",
       "      <td>643.85</td>\n",
       "      <td>1600.38</td>\n",
       "      <td>1432.14</td>\n",
       "      <td>21.61</td>\n",
       "      <td>550.79</td>\n",
       "      <td>48.20</td>\n",
       "      <td>519.30</td>\n",
       "      <td>8137.33</td>\n",
       "      <td>...</td>\n",
       "      <td>519.52</td>\n",
       "      <td>8139.94</td>\n",
       "      <td>8.4870</td>\n",
       "      <td>395.0</td>\n",
       "      <td>38.42</td>\n",
       "      <td>23.0591</td>\n",
       "      <td>11.0</td>\n",
       "      <td>0.21</td>\n",
       "      <td>2288.24</td>\n",
       "      <td>100.0</td>\n",
       "    </tr>\n",
       "  </tbody>\n",
       "</table>\n",
       "<p>19431 rows × 204 columns</p>\n",
       "</div>"
      ],
      "text/plain": [
       "       time_in_cycles  unit_number     T24      T30      T50    P15     P30  \\\n",
       "10                 13            1  643.07  1582.19  1400.83  21.61  553.44   \n",
       "11                 14            1  642.35  1592.95  1399.16  21.61  554.48   \n",
       "12                 15            1  642.43  1583.82  1402.13  21.61  553.64   \n",
       "13                 16            1  642.13  1587.98  1404.50  21.61  553.94   \n",
       "14                 17            1  642.58  1584.96  1399.95  21.61  553.80   \n",
       "...               ...          ...     ...      ...      ...    ...     ...   \n",
       "20426             196          100  643.49  1597.98  1428.63  21.61  551.43   \n",
       "20427             197          100  643.54  1604.50  1433.58  21.61  550.86   \n",
       "20428             198          100  643.42  1602.46  1428.18  21.61  550.94   \n",
       "20429             199          100  643.23  1605.26  1426.53  21.61  550.68   \n",
       "20430             200          100  643.85  1600.38  1432.14  21.61  550.79   \n",
       "\n",
       "        Ps30     phi      NRc  ...  phi_roll_median3_lag_10  \\\n",
       "10     47.38  521.85  8128.10  ...                   522.28   \n",
       "11     47.44  521.67  8134.43  ...                   522.42   \n",
       "12     47.30  522.50  8127.56  ...                   522.42   \n",
       "13     47.24  521.49  8136.11  ...                   522.19   \n",
       "14     47.12  521.89  8137.27  ...                   522.19   \n",
       "...      ...     ...      ...  ...                      ...   \n",
       "20426  48.07  519.49  8137.60  ...                   520.66   \n",
       "20427  48.04  519.68  8136.50  ...                   520.66   \n",
       "20428  48.09  520.01  8141.05  ...                   520.15   \n",
       "20429  48.39  519.67  8139.29  ...                   519.98   \n",
       "20430  48.20  519.30  8137.33  ...                   519.52   \n",
       "\n",
       "       NRc_roll_median3_lag_10  BPR_roll_median3_lag_10  \\\n",
       "10                     8133.23                   8.4195   \n",
       "11                     8133.23                   8.4178   \n",
       "12                     8133.80                   8.4178   \n",
       "13                     8133.80                   8.4108   \n",
       "14                     8132.85                   8.4108   \n",
       "...                        ...                      ...   \n",
       "20426                  8142.28                   8.4804   \n",
       "20427                  8140.49                   8.4804   \n",
       "20428                  8139.94                   8.4814   \n",
       "20429                  8139.94                   8.4870   \n",
       "20430                  8139.94                   8.4870   \n",
       "\n",
       "       htBleed_roll_median3_lag_10  W31_roll_median3_lag_10  \\\n",
       "10                           392.0                    39.00   \n",
       "11                           392.0                    38.95   \n",
       "12                           392.0                    38.90   \n",
       "13                           392.0                    38.90   \n",
       "14                           392.0                    38.98   \n",
       "...                            ...                      ...   \n",
       "20426                        395.0                    38.51   \n",
       "20427                        395.0                    38.60   \n",
       "20428                        395.0                    38.51   \n",
       "20429                        396.0                    38.65   \n",
       "20430                        395.0                    38.42   \n",
       "\n",
       "       W32_roll_median3_lag_10  RUL_roll_median3_lag_10  \\\n",
       "10                     23.4190                    190.0   \n",
       "11                     23.3739                    189.0   \n",
       "12                     23.3739                    188.0   \n",
       "13                     23.3739                    187.0   \n",
       "14                     23.3774                    186.0   \n",
       "...                        ...                      ...   \n",
       "20426                  23.1229                     15.0   \n",
       "20427                  23.2127                     14.0   \n",
       "20428                  23.1173                     13.0   \n",
       "20429                  23.0591                     12.0   \n",
       "20430                  23.0591                     11.0   \n",
       "\n",
       "       Nf_diff_roll_median3_lag_10  NRf_diff_roll_median3_lag_10  \\\n",
       "10                            0.06                       2288.03   \n",
       "11                            0.08                       2288.07   \n",
       "12                            0.08                       2288.04   \n",
       "13                            0.06                       2288.04   \n",
       "14                            0.02                       2288.03   \n",
       "...                            ...                           ...   \n",
       "20426                         0.20                       2288.20   \n",
       "20427                         0.20                       2288.22   \n",
       "20428                         0.22                       2288.22   \n",
       "20429                         0.22                       2288.22   \n",
       "20430                         0.21                       2288.24   \n",
       "\n",
       "       group_roll_median3_lag_10  \n",
       "10                           1.0  \n",
       "11                           1.0  \n",
       "12                           1.0  \n",
       "13                           1.0  \n",
       "14                           1.0  \n",
       "...                          ...  \n",
       "20426                      100.0  \n",
       "20427                      100.0  \n",
       "20428                      100.0  \n",
       "20429                      100.0  \n",
       "20430                      100.0  \n",
       "\n",
       "[19431 rows x 204 columns]"
      ]
     },
     "execution_count": 19,
     "metadata": {
     },
     "output_type": "execute_result"
    }
   ],
   "source": [
    "X_train"
   ]
  },
  {
   "cell_type": "code",
   "execution_count": 20,
   "metadata": {
    "collapsed": false
   },
   "outputs": [
   ],
   "source": [
    "# #implement standard scaling routine for train and test sets. \n",
    "# scaler = StandardScaler()\n",
    "# scaler = StandardScaler().fit(X_train.values)\n",
    "# features = scaler.transform(X_train.values)\n",
    "# X_train_scaled = pd.DataFrame(features, columns = X_train.columns)\n",
    "# X_train_scaled\n",
    "\n",
    "# X_train = X_train_scaled\n",
    "# X_train.head()"
   ]
  },
  {
   "cell_type": "code",
   "execution_count": 21,
   "metadata": {
    "collapsed": false
   },
   "outputs": [
   ],
   "source": [
    "# #repeat for test\n",
    "# scaler = StandardScaler().fit(X_test.values)\n",
    "# features = scaler.transform(X_test.values)\n",
    "# X_test_scaled = pd.DataFrame(features, columns = X_test.columns)\n",
    "# X_test = X_test_scaled \n",
    "# X_test.head()"
   ]
  },
  {
   "cell_type": "code",
   "execution_count": 22,
   "metadata": {
    "collapsed": false
   },
   "outputs": [
   ],
   "source": [
    "#clean out unhelpful columns from train and test sets. \n",
    "\n",
    "#start with train\n",
    "group_columns=[col for col in X_train.columns if 'group' in col]\n",
    "rul_columns=[col for col in X_train.columns if 'RUL' in col]\n",
    "unit_number_columns=[col for col in X_train.columns if 'unit_number' in col]\n",
    "\n",
    "drop_labels = group_columns+rul_columns+unit_number_columns+index_names\n",
    "X_train = X_train.drop(drop_labels,axis=1)\n",
    "\n",
    "#repeat for test\n",
    "X_test = X_test.groupby('unit_number').last().reset_index()\n",
    "group_columns=[col for col in X_test.columns if 'group' in col]\n",
    "unit_number_columns=[col for col in X_test.columns if 'unit_number' in col]\n",
    "drop_labels = group_columns+unit_number_columns+index_names\n",
    "X_test = X_test.drop(drop_labels,axis=1)"
   ]
  },
  {
   "cell_type": "code",
   "execution_count": 23,
   "metadata": {
    "collapsed": false
   },
   "outputs": [
    {
     "data": {
      "text/plain": [
       "10       179\n",
       "11       178\n",
       "12       177\n",
       "13       176\n",
       "14       175\n",
       "        ... \n",
       "20426      4\n",
       "20427      3\n",
       "20428      2\n",
       "20429      1\n",
       "20430      0\n",
       "Name: RUL, Length: 19431, dtype: int64"
      ]
     },
     "execution_count": 23,
     "metadata": {
     },
     "output_type": "execute_result"
    }
   ],
   "source": [
    "y_train"
   ]
  },
  {
   "cell_type": "code",
   "execution_count": 24,
   "metadata": {
    "collapsed": false
   },
   "outputs": [
    {
     "data": {
      "text/plain": [
       "['T24',\n",
       " 'T30',\n",
       " 'T50',\n",
       " 'P15',\n",
       " 'P30',\n",
       " 'Ps30',\n",
       " 'phi',\n",
       " 'NRc',\n",
       " 'BPR',\n",
       " 'htBleed',\n",
       " 'W31',\n",
       " 'W32',\n",
       " 'Nf_diff',\n",
       " 'NRf_diff',\n",
       " 'T24_roll_median3',\n",
       " 'T30_roll_median3',\n",
       " 'T50_roll_median3',\n",
       " 'P15_roll_median3',\n",
       " 'P30_roll_median3',\n",
       " 'Ps30_roll_median3',\n",
       " 'phi_roll_median3',\n",
       " 'NRc_roll_median3',\n",
       " 'BPR_roll_median3',\n",
       " 'htBleed_roll_median3',\n",
       " 'W31_roll_median3',\n",
       " 'W32_roll_median3',\n",
       " 'Nf_diff_roll_median3',\n",
       " 'NRf_diff_roll_median3',\n",
       " 'T24_roll_median3_lag_1',\n",
       " 'T30_roll_median3_lag_1',\n",
       " 'T50_roll_median3_lag_1',\n",
       " 'P15_roll_median3_lag_1',\n",
       " 'P30_roll_median3_lag_1',\n",
       " 'Ps30_roll_median3_lag_1',\n",
       " 'phi_roll_median3_lag_1',\n",
       " 'NRc_roll_median3_lag_1',\n",
       " 'BPR_roll_median3_lag_1',\n",
       " 'htBleed_roll_median3_lag_1',\n",
       " 'W31_roll_median3_lag_1',\n",
       " 'W32_roll_median3_lag_1',\n",
       " 'Nf_diff_roll_median3_lag_1',\n",
       " 'NRf_diff_roll_median3_lag_1',\n",
       " 'T24_roll_median3_lag_2',\n",
       " 'T30_roll_median3_lag_2',\n",
       " 'T50_roll_median3_lag_2',\n",
       " 'P15_roll_median3_lag_2',\n",
       " 'P30_roll_median3_lag_2',\n",
       " 'Ps30_roll_median3_lag_2',\n",
       " 'phi_roll_median3_lag_2',\n",
       " 'NRc_roll_median3_lag_2',\n",
       " 'BPR_roll_median3_lag_2',\n",
       " 'htBleed_roll_median3_lag_2',\n",
       " 'W31_roll_median3_lag_2',\n",
       " 'W32_roll_median3_lag_2',\n",
       " 'Nf_diff_roll_median3_lag_2',\n",
       " 'NRf_diff_roll_median3_lag_2',\n",
       " 'T24_roll_median3_lag_3',\n",
       " 'T30_roll_median3_lag_3',\n",
       " 'T50_roll_median3_lag_3',\n",
       " 'P15_roll_median3_lag_3',\n",
       " 'P30_roll_median3_lag_3',\n",
       " 'Ps30_roll_median3_lag_3',\n",
       " 'phi_roll_median3_lag_3',\n",
       " 'NRc_roll_median3_lag_3',\n",
       " 'BPR_roll_median3_lag_3',\n",
       " 'htBleed_roll_median3_lag_3',\n",
       " 'W31_roll_median3_lag_3',\n",
       " 'W32_roll_median3_lag_3',\n",
       " 'Nf_diff_roll_median3_lag_3',\n",
       " 'NRf_diff_roll_median3_lag_3',\n",
       " 'T24_roll_median3_lag_4',\n",
       " 'T30_roll_median3_lag_4',\n",
       " 'T50_roll_median3_lag_4',\n",
       " 'P15_roll_median3_lag_4',\n",
       " 'P30_roll_median3_lag_4',\n",
       " 'Ps30_roll_median3_lag_4',\n",
       " 'phi_roll_median3_lag_4',\n",
       " 'NRc_roll_median3_lag_4',\n",
       " 'BPR_roll_median3_lag_4',\n",
       " 'htBleed_roll_median3_lag_4',\n",
       " 'W31_roll_median3_lag_4',\n",
       " 'W32_roll_median3_lag_4',\n",
       " 'Nf_diff_roll_median3_lag_4',\n",
       " 'NRf_diff_roll_median3_lag_4',\n",
       " 'T24_roll_median3_lag_5',\n",
       " 'T30_roll_median3_lag_5',\n",
       " 'T50_roll_median3_lag_5',\n",
       " 'P15_roll_median3_lag_5',\n",
       " 'P30_roll_median3_lag_5',\n",
       " 'Ps30_roll_median3_lag_5',\n",
       " 'phi_roll_median3_lag_5',\n",
       " 'NRc_roll_median3_lag_5',\n",
       " 'BPR_roll_median3_lag_5',\n",
       " 'htBleed_roll_median3_lag_5',\n",
       " 'W31_roll_median3_lag_5',\n",
       " 'W32_roll_median3_lag_5',\n",
       " 'Nf_diff_roll_median3_lag_5',\n",
       " 'NRf_diff_roll_median3_lag_5',\n",
       " 'T24_roll_median3_lag_6',\n",
       " 'T30_roll_median3_lag_6',\n",
       " 'T50_roll_median3_lag_6',\n",
       " 'P15_roll_median3_lag_6',\n",
       " 'P30_roll_median3_lag_6',\n",
       " 'Ps30_roll_median3_lag_6',\n",
       " 'phi_roll_median3_lag_6',\n",
       " 'NRc_roll_median3_lag_6',\n",
       " 'BPR_roll_median3_lag_6',\n",
       " 'htBleed_roll_median3_lag_6',\n",
       " 'W31_roll_median3_lag_6',\n",
       " 'W32_roll_median3_lag_6',\n",
       " 'Nf_diff_roll_median3_lag_6',\n",
       " 'NRf_diff_roll_median3_lag_6',\n",
       " 'T24_roll_median3_lag_7',\n",
       " 'T30_roll_median3_lag_7',\n",
       " 'T50_roll_median3_lag_7',\n",
       " 'P15_roll_median3_lag_7',\n",
       " 'P30_roll_median3_lag_7',\n",
       " 'Ps30_roll_median3_lag_7',\n",
       " 'phi_roll_median3_lag_7',\n",
       " 'NRc_roll_median3_lag_7',\n",
       " 'BPR_roll_median3_lag_7',\n",
       " 'htBleed_roll_median3_lag_7',\n",
       " 'W31_roll_median3_lag_7',\n",
       " 'W32_roll_median3_lag_7',\n",
       " 'Nf_diff_roll_median3_lag_7',\n",
       " 'NRf_diff_roll_median3_lag_7',\n",
       " 'T24_roll_median3_lag_8',\n",
       " 'T30_roll_median3_lag_8',\n",
       " 'T50_roll_median3_lag_8',\n",
       " 'P15_roll_median3_lag_8',\n",
       " 'P30_roll_median3_lag_8',\n",
       " 'Ps30_roll_median3_lag_8',\n",
       " 'phi_roll_median3_lag_8',\n",
       " 'NRc_roll_median3_lag_8',\n",
       " 'BPR_roll_median3_lag_8',\n",
       " 'htBleed_roll_median3_lag_8',\n",
       " 'W31_roll_median3_lag_8',\n",
       " 'W32_roll_median3_lag_8',\n",
       " 'Nf_diff_roll_median3_lag_8',\n",
       " 'NRf_diff_roll_median3_lag_8',\n",
       " 'T24_roll_median3_lag_9',\n",
       " 'T30_roll_median3_lag_9',\n",
       " 'T50_roll_median3_lag_9',\n",
       " 'P15_roll_median3_lag_9',\n",
       " 'P30_roll_median3_lag_9',\n",
       " 'Ps30_roll_median3_lag_9',\n",
       " 'phi_roll_median3_lag_9',\n",
       " 'NRc_roll_median3_lag_9',\n",
       " 'BPR_roll_median3_lag_9',\n",
       " 'htBleed_roll_median3_lag_9',\n",
       " 'W31_roll_median3_lag_9',\n",
       " 'W32_roll_median3_lag_9',\n",
       " 'Nf_diff_roll_median3_lag_9',\n",
       " 'NRf_diff_roll_median3_lag_9',\n",
       " 'T24_roll_median3_lag_10',\n",
       " 'T30_roll_median3_lag_10',\n",
       " 'T50_roll_median3_lag_10',\n",
       " 'P15_roll_median3_lag_10',\n",
       " 'P30_roll_median3_lag_10',\n",
       " 'Ps30_roll_median3_lag_10',\n",
       " 'phi_roll_median3_lag_10',\n",
       " 'NRc_roll_median3_lag_10',\n",
       " 'BPR_roll_median3_lag_10',\n",
       " 'htBleed_roll_median3_lag_10',\n",
       " 'W31_roll_median3_lag_10',\n",
       " 'W32_roll_median3_lag_10',\n",
       " 'Nf_diff_roll_median3_lag_10',\n",
       " 'NRf_diff_roll_median3_lag_10']"
      ]
     },
     "execution_count": 24,
     "metadata": {
     },
     "output_type": "execute_result"
    }
   ],
   "source": [
    "list(X_train.columns)"
   ]
  },
  {
   "cell_type": "code",
   "execution_count": 25,
   "metadata": {
    "collapsed": false
   },
   "outputs": [
    {
     "data": {
      "text/plain": [
       "['T24',\n",
       " 'T30',\n",
       " 'T50',\n",
       " 'P15',\n",
       " 'P30',\n",
       " 'Ps30',\n",
       " 'phi',\n",
       " 'NRc',\n",
       " 'BPR',\n",
       " 'htBleed',\n",
       " 'W31',\n",
       " 'W32',\n",
       " 'Nf_diff',\n",
       " 'NRf_diff',\n",
       " 'T24_roll_median3',\n",
       " 'T30_roll_median3',\n",
       " 'T50_roll_median3',\n",
       " 'P15_roll_median3',\n",
       " 'P30_roll_median3',\n",
       " 'Ps30_roll_median3',\n",
       " 'phi_roll_median3',\n",
       " 'NRc_roll_median3',\n",
       " 'BPR_roll_median3',\n",
       " 'htBleed_roll_median3',\n",
       " 'W31_roll_median3',\n",
       " 'W32_roll_median3',\n",
       " 'Nf_diff_roll_median3',\n",
       " 'NRf_diff_roll_median3',\n",
       " 'T24_roll_median3_lag_1',\n",
       " 'T30_roll_median3_lag_1',\n",
       " 'T50_roll_median3_lag_1',\n",
       " 'P15_roll_median3_lag_1',\n",
       " 'P30_roll_median3_lag_1',\n",
       " 'Ps30_roll_median3_lag_1',\n",
       " 'phi_roll_median3_lag_1',\n",
       " 'NRc_roll_median3_lag_1',\n",
       " 'BPR_roll_median3_lag_1',\n",
       " 'htBleed_roll_median3_lag_1',\n",
       " 'W31_roll_median3_lag_1',\n",
       " 'W32_roll_median3_lag_1',\n",
       " 'Nf_diff_roll_median3_lag_1',\n",
       " 'NRf_diff_roll_median3_lag_1',\n",
       " 'T24_roll_median3_lag_2',\n",
       " 'T30_roll_median3_lag_2',\n",
       " 'T50_roll_median3_lag_2',\n",
       " 'P15_roll_median3_lag_2',\n",
       " 'P30_roll_median3_lag_2',\n",
       " 'Ps30_roll_median3_lag_2',\n",
       " 'phi_roll_median3_lag_2',\n",
       " 'NRc_roll_median3_lag_2',\n",
       " 'BPR_roll_median3_lag_2',\n",
       " 'htBleed_roll_median3_lag_2',\n",
       " 'W31_roll_median3_lag_2',\n",
       " 'W32_roll_median3_lag_2',\n",
       " 'Nf_diff_roll_median3_lag_2',\n",
       " 'NRf_diff_roll_median3_lag_2',\n",
       " 'T24_roll_median3_lag_3',\n",
       " 'T30_roll_median3_lag_3',\n",
       " 'T50_roll_median3_lag_3',\n",
       " 'P15_roll_median3_lag_3',\n",
       " 'P30_roll_median3_lag_3',\n",
       " 'Ps30_roll_median3_lag_3',\n",
       " 'phi_roll_median3_lag_3',\n",
       " 'NRc_roll_median3_lag_3',\n",
       " 'BPR_roll_median3_lag_3',\n",
       " 'htBleed_roll_median3_lag_3',\n",
       " 'W31_roll_median3_lag_3',\n",
       " 'W32_roll_median3_lag_3',\n",
       " 'Nf_diff_roll_median3_lag_3',\n",
       " 'NRf_diff_roll_median3_lag_3',\n",
       " 'T24_roll_median3_lag_4',\n",
       " 'T30_roll_median3_lag_4',\n",
       " 'T50_roll_median3_lag_4',\n",
       " 'P15_roll_median3_lag_4',\n",
       " 'P30_roll_median3_lag_4',\n",
       " 'Ps30_roll_median3_lag_4',\n",
       " 'phi_roll_median3_lag_4',\n",
       " 'NRc_roll_median3_lag_4',\n",
       " 'BPR_roll_median3_lag_4',\n",
       " 'htBleed_roll_median3_lag_4',\n",
       " 'W31_roll_median3_lag_4',\n",
       " 'W32_roll_median3_lag_4',\n",
       " 'Nf_diff_roll_median3_lag_4',\n",
       " 'NRf_diff_roll_median3_lag_4',\n",
       " 'T24_roll_median3_lag_5',\n",
       " 'T30_roll_median3_lag_5',\n",
       " 'T50_roll_median3_lag_5',\n",
       " 'P15_roll_median3_lag_5',\n",
       " 'P30_roll_median3_lag_5',\n",
       " 'Ps30_roll_median3_lag_5',\n",
       " 'phi_roll_median3_lag_5',\n",
       " 'NRc_roll_median3_lag_5',\n",
       " 'BPR_roll_median3_lag_5',\n",
       " 'htBleed_roll_median3_lag_5',\n",
       " 'W31_roll_median3_lag_5',\n",
       " 'W32_roll_median3_lag_5',\n",
       " 'Nf_diff_roll_median3_lag_5',\n",
       " 'NRf_diff_roll_median3_lag_5',\n",
       " 'T24_roll_median3_lag_6',\n",
       " 'T30_roll_median3_lag_6',\n",
       " 'T50_roll_median3_lag_6',\n",
       " 'P15_roll_median3_lag_6',\n",
       " 'P30_roll_median3_lag_6',\n",
       " 'Ps30_roll_median3_lag_6',\n",
       " 'phi_roll_median3_lag_6',\n",
       " 'NRc_roll_median3_lag_6',\n",
       " 'BPR_roll_median3_lag_6',\n",
       " 'htBleed_roll_median3_lag_6',\n",
       " 'W31_roll_median3_lag_6',\n",
       " 'W32_roll_median3_lag_6',\n",
       " 'Nf_diff_roll_median3_lag_6',\n",
       " 'NRf_diff_roll_median3_lag_6',\n",
       " 'T24_roll_median3_lag_7',\n",
       " 'T30_roll_median3_lag_7',\n",
       " 'T50_roll_median3_lag_7',\n",
       " 'P15_roll_median3_lag_7',\n",
       " 'P30_roll_median3_lag_7',\n",
       " 'Ps30_roll_median3_lag_7',\n",
       " 'phi_roll_median3_lag_7',\n",
       " 'NRc_roll_median3_lag_7',\n",
       " 'BPR_roll_median3_lag_7',\n",
       " 'htBleed_roll_median3_lag_7',\n",
       " 'W31_roll_median3_lag_7',\n",
       " 'W32_roll_median3_lag_7',\n",
       " 'Nf_diff_roll_median3_lag_7',\n",
       " 'NRf_diff_roll_median3_lag_7',\n",
       " 'T24_roll_median3_lag_8',\n",
       " 'T30_roll_median3_lag_8',\n",
       " 'T50_roll_median3_lag_8',\n",
       " 'P15_roll_median3_lag_8',\n",
       " 'P30_roll_median3_lag_8',\n",
       " 'Ps30_roll_median3_lag_8',\n",
       " 'phi_roll_median3_lag_8',\n",
       " 'NRc_roll_median3_lag_8',\n",
       " 'BPR_roll_median3_lag_8',\n",
       " 'htBleed_roll_median3_lag_8',\n",
       " 'W31_roll_median3_lag_8',\n",
       " 'W32_roll_median3_lag_8',\n",
       " 'Nf_diff_roll_median3_lag_8',\n",
       " 'NRf_diff_roll_median3_lag_8',\n",
       " 'T24_roll_median3_lag_9',\n",
       " 'T30_roll_median3_lag_9',\n",
       " 'T50_roll_median3_lag_9',\n",
       " 'P15_roll_median3_lag_9',\n",
       " 'P30_roll_median3_lag_9',\n",
       " 'Ps30_roll_median3_lag_9',\n",
       " 'phi_roll_median3_lag_9',\n",
       " 'NRc_roll_median3_lag_9',\n",
       " 'BPR_roll_median3_lag_9',\n",
       " 'htBleed_roll_median3_lag_9',\n",
       " 'W31_roll_median3_lag_9',\n",
       " 'W32_roll_median3_lag_9',\n",
       " 'Nf_diff_roll_median3_lag_9',\n",
       " 'NRf_diff_roll_median3_lag_9',\n",
       " 'T24_roll_median3_lag_10',\n",
       " 'T30_roll_median3_lag_10',\n",
       " 'T50_roll_median3_lag_10',\n",
       " 'P15_roll_median3_lag_10',\n",
       " 'P30_roll_median3_lag_10',\n",
       " 'Ps30_roll_median3_lag_10',\n",
       " 'phi_roll_median3_lag_10',\n",
       " 'NRc_roll_median3_lag_10',\n",
       " 'BPR_roll_median3_lag_10',\n",
       " 'htBleed_roll_median3_lag_10',\n",
       " 'W31_roll_median3_lag_10',\n",
       " 'W32_roll_median3_lag_10',\n",
       " 'Nf_diff_roll_median3_lag_10',\n",
       " 'NRf_diff_roll_median3_lag_10']"
      ]
     },
     "execution_count": 25,
     "metadata": {
     },
     "output_type": "execute_result"
    }
   ],
   "source": [
    "list(X_test.columns)"
   ]
  },
  {
   "cell_type": "code",
   "execution_count": 0,
   "metadata": {
    "collapsed": false
   },
   "outputs": [
   ],
   "source": [
   ]
  },
  {
   "cell_type": "markdown",
   "metadata": {
    "collapsed": false
   },
   "source": [
    "For this attempt we arbitrarily chose 10 lags of 3-cycle rolling medians for each of the sensor values. We anticipate this kind of transformation will add severe multicollinearity, and as a result we will scale the dataset as we did before before attempting our modeling efforts. "
   ]
  },
  {
   "cell_type": "code",
   "execution_count": 26,
   "metadata": {
    "collapsed": false
   },
   "outputs": [
    {
     "data": {
      "text/html": [
       "<div>\n",
       "<style scoped>\n",
       "    .dataframe tbody tr th:only-of-type {\n",
       "        vertical-align: middle;\n",
       "    }\n",
       "\n",
       "    .dataframe tbody tr th {\n",
       "        vertical-align: top;\n",
       "    }\n",
       "\n",
       "    .dataframe thead th {\n",
       "        text-align: right;\n",
       "    }\n",
       "</style>\n",
       "<table border=\"1\" class=\"dataframe\">\n",
       "  <thead>\n",
       "    <tr style=\"text-align: right;\">\n",
       "      <th></th>\n",
       "      <th>T24</th>\n",
       "      <th>T30</th>\n",
       "      <th>T50</th>\n",
       "      <th>P15</th>\n",
       "      <th>P30</th>\n",
       "      <th>Ps30</th>\n",
       "      <th>phi</th>\n",
       "      <th>NRc</th>\n",
       "      <th>BPR</th>\n",
       "      <th>htBleed</th>\n",
       "      <th>...</th>\n",
       "      <th>P30_roll_median3_lag_10</th>\n",
       "      <th>Ps30_roll_median3_lag_10</th>\n",
       "      <th>phi_roll_median3_lag_10</th>\n",
       "      <th>NRc_roll_median3_lag_10</th>\n",
       "      <th>BPR_roll_median3_lag_10</th>\n",
       "      <th>htBleed_roll_median3_lag_10</th>\n",
       "      <th>W31_roll_median3_lag_10</th>\n",
       "      <th>W32_roll_median3_lag_10</th>\n",
       "      <th>Nf_diff_roll_median3_lag_10</th>\n",
       "      <th>NRf_diff_roll_median3_lag_10</th>\n",
       "    </tr>\n",
       "  </thead>\n",
       "  <tbody>\n",
       "    <tr>\n",
       "      <th>0</th>\n",
       "      <td>642.58</td>\n",
       "      <td>1581.22</td>\n",
       "      <td>1398.91</td>\n",
       "      <td>21.61</td>\n",
       "      <td>554.42</td>\n",
       "      <td>47.23</td>\n",
       "      <td>521.79</td>\n",
       "      <td>8130.11</td>\n",
       "      <td>8.4024</td>\n",
       "      <td>393</td>\n",
       "      <td>...</td>\n",
       "      <td>554.31</td>\n",
       "      <td>47.36</td>\n",
       "      <td>522.06</td>\n",
       "      <td>8128.59</td>\n",
       "      <td>8.4099</td>\n",
       "      <td>392.0</td>\n",
       "      <td>39.00</td>\n",
       "      <td>23.3809</td>\n",
       "      <td>0.05</td>\n",
       "      <td>2288.05</td>\n",
       "    </tr>\n",
       "    <tr>\n",
       "      <th>1</th>\n",
       "      <td>642.55</td>\n",
       "      <td>1586.59</td>\n",
       "      <td>1410.83</td>\n",
       "      <td>21.61</td>\n",
       "      <td>553.52</td>\n",
       "      <td>47.67</td>\n",
       "      <td>521.74</td>\n",
       "      <td>8126.90</td>\n",
       "      <td>8.4505</td>\n",
       "      <td>391</td>\n",
       "      <td>...</td>\n",
       "      <td>553.49</td>\n",
       "      <td>47.50</td>\n",
       "      <td>521.74</td>\n",
       "      <td>8128.53</td>\n",
       "      <td>8.4363</td>\n",
       "      <td>393.0</td>\n",
       "      <td>38.81</td>\n",
       "      <td>23.3072</td>\n",
       "      <td>0.10</td>\n",
       "      <td>2288.13</td>\n",
       "    </tr>\n",
       "    <tr>\n",
       "      <th>2</th>\n",
       "      <td>642.88</td>\n",
       "      <td>1589.75</td>\n",
       "      <td>1418.89</td>\n",
       "      <td>21.61</td>\n",
       "      <td>552.59</td>\n",
       "      <td>47.88</td>\n",
       "      <td>520.83</td>\n",
       "      <td>8131.46</td>\n",
       "      <td>8.4119</td>\n",
       "      <td>395</td>\n",
       "      <td>...</td>\n",
       "      <td>553.41</td>\n",
       "      <td>47.68</td>\n",
       "      <td>521.06</td>\n",
       "      <td>8131.67</td>\n",
       "      <td>8.4621</td>\n",
       "      <td>393.0</td>\n",
       "      <td>38.85</td>\n",
       "      <td>23.2683</td>\n",
       "      <td>0.14</td>\n",
       "      <td>2288.17</td>\n",
       "    </tr>\n",
       "    <tr>\n",
       "      <th>3</th>\n",
       "      <td>642.78</td>\n",
       "      <td>1594.53</td>\n",
       "      <td>1406.88</td>\n",
       "      <td>21.61</td>\n",
       "      <td>552.64</td>\n",
       "      <td>47.65</td>\n",
       "      <td>521.88</td>\n",
       "      <td>8133.64</td>\n",
       "      <td>8.4634</td>\n",
       "      <td>395</td>\n",
       "      <td>...</td>\n",
       "      <td>553.18</td>\n",
       "      <td>47.58</td>\n",
       "      <td>521.59</td>\n",
       "      <td>8128.48</td>\n",
       "      <td>8.4347</td>\n",
       "      <td>393.0</td>\n",
       "      <td>38.79</td>\n",
       "      <td>23.2455</td>\n",
       "      <td>0.10</td>\n",
       "      <td>2288.14</td>\n",
       "    </tr>\n",
       "    <tr>\n",
       "      <th>4</th>\n",
       "      <td>642.27</td>\n",
       "      <td>1589.94</td>\n",
       "      <td>1419.36</td>\n",
       "      <td>21.61</td>\n",
       "      <td>553.29</td>\n",
       "      <td>47.46</td>\n",
       "      <td>521.00</td>\n",
       "      <td>8125.74</td>\n",
       "      <td>8.4362</td>\n",
       "      <td>394</td>\n",
       "      <td>...</td>\n",
       "      <td>553.08</td>\n",
       "      <td>47.66</td>\n",
       "      <td>521.20</td>\n",
       "      <td>8131.07</td>\n",
       "      <td>8.4380</td>\n",
       "      <td>393.0</td>\n",
       "      <td>38.78</td>\n",
       "      <td>23.2643</td>\n",
       "      <td>0.08</td>\n",
       "      <td>2288.12</td>\n",
       "    </tr>\n",
       "    <tr>\n",
       "      <th>...</th>\n",
       "      <td>...</td>\n",
       "      <td>...</td>\n",
       "      <td>...</td>\n",
       "      <td>...</td>\n",
       "      <td>...</td>\n",
       "      <td>...</td>\n",
       "      <td>...</td>\n",
       "      <td>...</td>\n",
       "      <td>...</td>\n",
       "      <td>...</td>\n",
       "      <td>...</td>\n",
       "      <td>...</td>\n",
       "      <td>...</td>\n",
       "      <td>...</td>\n",
       "      <td>...</td>\n",
       "      <td>...</td>\n",
       "      <td>...</td>\n",
       "      <td>...</td>\n",
       "      <td>...</td>\n",
       "      <td>...</td>\n",
       "      <td>...</td>\n",
       "    </tr>\n",
       "    <tr>\n",
       "      <th>95</th>\n",
       "      <td>642.30</td>\n",
       "      <td>1590.88</td>\n",
       "      <td>1397.94</td>\n",
       "      <td>21.61</td>\n",
       "      <td>553.99</td>\n",
       "      <td>47.14</td>\n",
       "      <td>522.30</td>\n",
       "      <td>8148.24</td>\n",
       "      <td>8.4110</td>\n",
       "      <td>391</td>\n",
       "      <td>...</td>\n",
       "      <td>554.37</td>\n",
       "      <td>47.29</td>\n",
       "      <td>522.02</td>\n",
       "      <td>8146.24</td>\n",
       "      <td>8.4014</td>\n",
       "      <td>392.0</td>\n",
       "      <td>39.02</td>\n",
       "      <td>23.3896</td>\n",
       "      <td>0.03</td>\n",
       "      <td>2288.04</td>\n",
       "    </tr>\n",
       "    <tr>\n",
       "      <th>96</th>\n",
       "      <td>642.59</td>\n",
       "      <td>1582.96</td>\n",
       "      <td>1410.92</td>\n",
       "      <td>21.61</td>\n",
       "      <td>554.05</td>\n",
       "      <td>47.38</td>\n",
       "      <td>521.58</td>\n",
       "      <td>8155.48</td>\n",
       "      <td>8.4500</td>\n",
       "      <td>395</td>\n",
       "      <td>...</td>\n",
       "      <td>553.82</td>\n",
       "      <td>47.32</td>\n",
       "      <td>522.02</td>\n",
       "      <td>8153.94</td>\n",
       "      <td>8.4360</td>\n",
       "      <td>393.0</td>\n",
       "      <td>38.96</td>\n",
       "      <td>23.3880</td>\n",
       "      <td>0.03</td>\n",
       "      <td>2288.03</td>\n",
       "    </tr>\n",
       "    <tr>\n",
       "      <th>97</th>\n",
       "      <td>642.68</td>\n",
       "      <td>1599.51</td>\n",
       "      <td>1415.47</td>\n",
       "      <td>21.61</td>\n",
       "      <td>553.44</td>\n",
       "      <td>47.66</td>\n",
       "      <td>521.53</td>\n",
       "      <td>8146.39</td>\n",
       "      <td>8.4235</td>\n",
       "      <td>394</td>\n",
       "      <td>...</td>\n",
       "      <td>553.64</td>\n",
       "      <td>47.54</td>\n",
       "      <td>521.03</td>\n",
       "      <td>8143.10</td>\n",
       "      <td>8.4594</td>\n",
       "      <td>393.0</td>\n",
       "      <td>38.84</td>\n",
       "      <td>23.2450</td>\n",
       "      <td>0.12</td>\n",
       "      <td>2288.11</td>\n",
       "    </tr>\n",
       "    <tr>\n",
       "      <th>98</th>\n",
       "      <td>642.00</td>\n",
       "      <td>1585.03</td>\n",
       "      <td>1397.98</td>\n",
       "      <td>21.61</td>\n",
       "      <td>554.75</td>\n",
       "      <td>47.26</td>\n",
       "      <td>521.82</td>\n",
       "      <td>8150.38</td>\n",
       "      <td>8.4003</td>\n",
       "      <td>391</td>\n",
       "      <td>...</td>\n",
       "      <td>554.76</td>\n",
       "      <td>47.30</td>\n",
       "      <td>522.44</td>\n",
       "      <td>8148.36</td>\n",
       "      <td>8.3969</td>\n",
       "      <td>390.0</td>\n",
       "      <td>39.02</td>\n",
       "      <td>23.3769</td>\n",
       "      <td>0.01</td>\n",
       "      <td>2288.01</td>\n",
       "    </tr>\n",
       "    <tr>\n",
       "      <th>99</th>\n",
       "      <td>642.95</td>\n",
       "      <td>1601.62</td>\n",
       "      <td>1424.99</td>\n",
       "      <td>21.61</td>\n",
       "      <td>552.48</td>\n",
       "      <td>47.80</td>\n",
       "      <td>521.07</td>\n",
       "      <td>8214.64</td>\n",
       "      <td>8.4903</td>\n",
       "      <td>396</td>\n",
       "      <td>...</td>\n",
       "      <td>552.96</td>\n",
       "      <td>47.66</td>\n",
       "      <td>521.57</td>\n",
       "      <td>8203.03</td>\n",
       "      <td>8.4632</td>\n",
       "      <td>394.0</td>\n",
       "      <td>38.87</td>\n",
       "      <td>23.3233</td>\n",
       "      <td>0.03</td>\n",
       "      <td>2288.05</td>\n",
       "    </tr>\n",
       "  </tbody>\n",
       "</table>\n",
       "<p>100 rows × 168 columns</p>\n",
       "</div>"
      ],
      "text/plain": [
       "       T24      T30      T50    P15     P30   Ps30     phi      NRc     BPR  \\\n",
       "0   642.58  1581.22  1398.91  21.61  554.42  47.23  521.79  8130.11  8.4024   \n",
       "1   642.55  1586.59  1410.83  21.61  553.52  47.67  521.74  8126.90  8.4505   \n",
       "2   642.88  1589.75  1418.89  21.61  552.59  47.88  520.83  8131.46  8.4119   \n",
       "3   642.78  1594.53  1406.88  21.61  552.64  47.65  521.88  8133.64  8.4634   \n",
       "4   642.27  1589.94  1419.36  21.61  553.29  47.46  521.00  8125.74  8.4362   \n",
       "..     ...      ...      ...    ...     ...    ...     ...      ...     ...   \n",
       "95  642.30  1590.88  1397.94  21.61  553.99  47.14  522.30  8148.24  8.4110   \n",
       "96  642.59  1582.96  1410.92  21.61  554.05  47.38  521.58  8155.48  8.4500   \n",
       "97  642.68  1599.51  1415.47  21.61  553.44  47.66  521.53  8146.39  8.4235   \n",
       "98  642.00  1585.03  1397.98  21.61  554.75  47.26  521.82  8150.38  8.4003   \n",
       "99  642.95  1601.62  1424.99  21.61  552.48  47.80  521.07  8214.64  8.4903   \n",
       "\n",
       "    htBleed  ...  P30_roll_median3_lag_10  Ps30_roll_median3_lag_10  \\\n",
       "0       393  ...                   554.31                     47.36   \n",
       "1       391  ...                   553.49                     47.50   \n",
       "2       395  ...                   553.41                     47.68   \n",
       "3       395  ...                   553.18                     47.58   \n",
       "4       394  ...                   553.08                     47.66   \n",
       "..      ...  ...                      ...                       ...   \n",
       "95      391  ...                   554.37                     47.29   \n",
       "96      395  ...                   553.82                     47.32   \n",
       "97      394  ...                   553.64                     47.54   \n",
       "98      391  ...                   554.76                     47.30   \n",
       "99      396  ...                   552.96                     47.66   \n",
       "\n",
       "    phi_roll_median3_lag_10  NRc_roll_median3_lag_10  BPR_roll_median3_lag_10  \\\n",
       "0                    522.06                  8128.59                   8.4099   \n",
       "1                    521.74                  8128.53                   8.4363   \n",
       "2                    521.06                  8131.67                   8.4621   \n",
       "3                    521.59                  8128.48                   8.4347   \n",
       "4                    521.20                  8131.07                   8.4380   \n",
       "..                      ...                      ...                      ...   \n",
       "95                   522.02                  8146.24                   8.4014   \n",
       "96                   522.02                  8153.94                   8.4360   \n",
       "97                   521.03                  8143.10                   8.4594   \n",
       "98                   522.44                  8148.36                   8.3969   \n",
       "99                   521.57                  8203.03                   8.4632   \n",
       "\n",
       "    htBleed_roll_median3_lag_10  W31_roll_median3_lag_10  \\\n",
       "0                         392.0                    39.00   \n",
       "1                         393.0                    38.81   \n",
       "2                         393.0                    38.85   \n",
       "3                         393.0                    38.79   \n",
       "4                         393.0                    38.78   \n",
       "..                          ...                      ...   \n",
       "95                        392.0                    39.02   \n",
       "96                        393.0                    38.96   \n",
       "97                        393.0                    38.84   \n",
       "98                        390.0                    39.02   \n",
       "99                        394.0                    38.87   \n",
       "\n",
       "    W32_roll_median3_lag_10  Nf_diff_roll_median3_lag_10  \\\n",
       "0                   23.3809                         0.05   \n",
       "1                   23.3072                         0.10   \n",
       "2                   23.2683                         0.14   \n",
       "3                   23.2455                         0.10   \n",
       "4                   23.2643                         0.08   \n",
       "..                      ...                          ...   \n",
       "95                  23.3896                         0.03   \n",
       "96                  23.3880                         0.03   \n",
       "97                  23.2450                         0.12   \n",
       "98                  23.3769                         0.01   \n",
       "99                  23.3233                         0.03   \n",
       "\n",
       "    NRf_diff_roll_median3_lag_10  \n",
       "0                        2288.05  \n",
       "1                        2288.13  \n",
       "2                        2288.17  \n",
       "3                        2288.14  \n",
       "4                        2288.12  \n",
       "..                           ...  \n",
       "95                       2288.04  \n",
       "96                       2288.03  \n",
       "97                       2288.11  \n",
       "98                       2288.01  \n",
       "99                       2288.05  \n",
       "\n",
       "[100 rows x 168 columns]"
      ]
     },
     "execution_count": 26,
     "metadata": {
     },
     "output_type": "execute_result"
    }
   ],
   "source": [
    "X_test"
   ]
  },
  {
   "cell_type": "code",
   "execution_count": 2,
   "metadata": {
    "collapsed": false,
    "scrolled": true
   },
   "outputs": [
    {
     "ename": "NameError",
     "evalue": "name 'LinearRegression' is not defined",
     "output_type": "error",
     "traceback": [
      "\u001b[0;31m---------------------------------------------------------------------------\u001b[0m",
      "\u001b[0;31mNameError\u001b[0m                                 Traceback (most recent call last)",
      "\u001b[0;32m/tmp/ipykernel_1150/2626289359.py\u001b[0m in \u001b[0;36m<module>\u001b[0;34m\u001b[0m\n\u001b[1;32m      1\u001b[0m \u001b[0;31m# from sklearn.linear_model import LinearRegression\u001b[0m\u001b[0;34m\u001b[0m\u001b[0;34m\u001b[0m\u001b[0;34m\u001b[0m\u001b[0m\n\u001b[0;32m----> 2\u001b[0;31m \u001b[0mmodel_lr\u001b[0m \u001b[0;34m=\u001b[0m \u001b[0mLinearRegression\u001b[0m\u001b[0;34m(\u001b[0m\u001b[0;34m)\u001b[0m\u001b[0;34m\u001b[0m\u001b[0;34m\u001b[0m\u001b[0m\n\u001b[0m\u001b[1;32m      3\u001b[0m \u001b[0mmodel_lr\u001b[0m\u001b[0;34m.\u001b[0m\u001b[0mfit\u001b[0m\u001b[0;34m(\u001b[0m\u001b[0mX_train\u001b[0m\u001b[0;34m,\u001b[0m\u001b[0my_train\u001b[0m\u001b[0;34m)\u001b[0m\u001b[0;34m\u001b[0m\u001b[0;34m\u001b[0m\u001b[0m\n\u001b[1;32m      4\u001b[0m \u001b[0;34m\u001b[0m\u001b[0m\n\u001b[1;32m      5\u001b[0m \u001b[0mmy_regression_results\u001b[0m\u001b[0;34m(\u001b[0m\u001b[0mmodel_lr\u001b[0m\u001b[0;34m)\u001b[0m\u001b[0;34m\u001b[0m\u001b[0;34m\u001b[0m\u001b[0m\n",
      "\u001b[0;31mNameError\u001b[0m: name 'LinearRegression' is not defined"
     ]
    }
   ],
   "source": [
    "# from sklearn.linear_model import LinearRegression\n",
    "model_lr = LinearRegression()\n",
    "model_lr.fit(X_train,y_train)\n",
    "\n",
    "my_regression_results(model_lr)"
   ]
  },
  {
   "cell_type": "code",
   "execution_count": 26,
   "metadata": {
    "collapsed": false
   },
   "outputs": [
    {
     "data": {
      "text/plain": [
       "0.6"
      ]
     },
     "execution_count": 26,
     "metadata": {
     },
     "output_type": "execute_result"
    }
   ],
   "source": [
    "round(cross_val_score(model_lr,X_train,y_train,scoring='r2', cv=5).mean(),2)"
   ]
  },
  {
   "cell_type": "code",
   "execution_count": 27,
   "metadata": {
    "collapsed": false
   },
   "outputs": [
    {
     "name": "stdout",
     "output_type": "stream",
     "text": [
      "Model r-squared score from test data: 0.4596\n",
      "Mean squared error on test data: 933.27\n",
      "Root mean squared error on test data: 30.55\n"
     ]
    },
    {
     "data": {
      "image/png": "[encoded data removed]",
      "text/plain": [
       "<Figure size 648x432 with 1 Axes>"
      ]
     },
     "execution_count": 27,
     "metadata": {
      "image/png": {
       "height": 370,
       "width": 556
      }
     },
     "output_type": "execute_result"
    }
   ],
   "source": [
    "# from sklearn.ensemble import RandomForestRegressor\n",
    "\n",
    "rf_model = RandomForestRegressor(random_state=0)\n",
    "rf_model.fit(X_train,y_train)\n",
    "\n",
    "my_regression_results(rf_model)"
   ]
  },
  {
   "cell_type": "code",
   "execution_count": 28,
   "metadata": {
    "collapsed": false
   },
   "outputs": [
    {
     "name": "stdout",
     "output_type": "stream",
     "text": [
      "Model r-squared score from test data: 0.4913\n",
      "Mean squared error on test data: 878.38\n",
      "Root mean squared error on test data: 29.64\n"
     ]
    },
    {
     "data": {
      "image/png": "[encoded data removed]",
      "text/plain": [
       "<Figure size 648x432 with 1 Axes>"
      ]
     },
     "execution_count": 28,
     "metadata": {
      "image/png": {
       "height": 370,
       "width": 556
      }
     },
     "output_type": "execute_result"
    }
   ],
   "source": [
    "# import xgboost as xgb\n",
    "\n",
    "xgbr_model = xgb.XGBRegressor(objective ='reg:squarederror')\n",
    "xgbr_model.fit(X_train,y_train)\n",
    "\n",
    "my_regression_results(xgbr_model)"
   ]
  },
  {
   "cell_type": "markdown",
   "metadata": {
    "collapsed": false
   },
   "source": [
    "##### Model Results Following Changes after Proposal 2"
   ]
  },
  {
   "cell_type": "code",
   "execution_count": 29,
   "metadata": {
    "collapsed": false,
    "scrolled": true
   },
   "outputs": [
    {
     "data": {
      "text/html": [
       "<div>\n",
       "<style scoped>\n",
       "    .dataframe tbody tr th:only-of-type {\n",
       "        vertical-align: middle;\n",
       "    }\n",
       "\n",
       "    .dataframe tbody tr th {\n",
       "        vertical-align: top;\n",
       "    }\n",
       "\n",
       "    .dataframe thead th {\n",
       "        text-align: right;\n",
       "    }\n",
       "</style>\n",
       "<table border=\"1\" class=\"dataframe\">\n",
       "  <thead>\n",
       "    <tr style=\"text-align: right;\">\n",
       "      <th></th>\n",
       "      <th>Algorithm</th>\n",
       "      <th>Data Transformations</th>\n",
       "      <th>Train R-squared</th>\n",
       "      <th>Test R-squared</th>\n",
       "      <th>Test Mean Squared Error</th>\n",
       "      <th>Test Root Mean Squared Error</th>\n",
       "    </tr>\n",
       "  </thead>\n",
       "  <tbody>\n",
       "    <tr>\n",
       "      <th>0</th>\n",
       "      <td>Linear Regression</td>\n",
       "      <td>Adding Lagged Aggregates</td>\n",
       "      <td>0.62</td>\n",
       "      <td>0.50</td>\n",
       "      <td>855.63</td>\n",
       "      <td>29.25</td>\n",
       "    </tr>\n",
       "    <tr>\n",
       "      <th>1</th>\n",
       "      <td>Random Forest Regression</td>\n",
       "      <td>..</td>\n",
       "      <td>0.96</td>\n",
       "      <td>0.46</td>\n",
       "      <td>933.27</td>\n",
       "      <td>30.55</td>\n",
       "    </tr>\n",
       "    <tr>\n",
       "      <th>2</th>\n",
       "      <td>XGBoost Regression</td>\n",
       "      <td>..</td>\n",
       "      <td>0.94</td>\n",
       "      <td>0.49</td>\n",
       "      <td>878.38</td>\n",
       "      <td>29.64</td>\n",
       "    </tr>\n",
       "  </tbody>\n",
       "</table>\n",
       "</div>"
      ],
      "text/plain": [
       "                  Algorithm      Data Transformations  Train R-squared  \\\n",
       "0         Linear Regression  Adding Lagged Aggregates             0.62   \n",
       "1  Random Forest Regression                        ..             0.96   \n",
       "2        XGBoost Regression                        ..             0.94   \n",
       "\n",
       "   Test R-squared  Test Mean Squared Error  Test Root Mean Squared Error  \n",
       "0            0.50                   855.63                         29.25  \n",
       "1            0.46                   933.27                         30.55  \n",
       "2            0.49                   878.38                         29.64  "
      ]
     },
     "execution_count": 29,
     "metadata": {
     },
     "output_type": "execute_result"
    }
   ],
   "source": [
    "d = {'Algorithm' : ['Linear Regression', 'Random Forest Regression','XGBoost Regression' ]\n",
    "     ,'Data Transformations':['Adding Lagged Aggregates','..','..']\n",
    "     ,'Train R-squared':[round(model_lr.score(X_train,y_train),2),round(rf_model.score(X_train,y_train),2),round(xgbr_model.score(X_train,y_train),2)]\n",
    "     ,'Test R-squared':[round(my_short_regression_results(model_lr)[0],2),round(my_short_regression_results(rf_model)[0],2),round(my_short_regression_results(xgbr_model)[0],2)]\n",
    "     ,'Test Mean Squared Error':[round(my_short_regression_results(model_lr)[1],2),round(my_short_regression_results(rf_model)[1],2),round(my_short_regression_results(xgbr_model)[1],2)]\n",
    "     ,'Test Root Mean Squared Error':[round(my_short_regression_results(model_lr)[2],2),round(my_short_regression_results(rf_model)[2],2),round(my_short_regression_results(xgbr_model)[2],2)]}\n",
    "df = pd.DataFrame(data=d)\n",
    "df"
   ]
  },
  {
   "cell_type": "markdown",
   "metadata": {
    "collapsed": false
   },
   "source": [
    "##### Test for Multicollinearity"
   ]
  },
  {
   "cell_type": "code",
   "execution_count": 29,
   "metadata": {
    "collapsed": false
   },
   "outputs": [
    {
     "data": {
      "text/plain": [
       "{'T24': 28.97,\n",
       " 'T30': 13.99,\n",
       " 'T50': 64.43,\n",
       " 'P15': 0.0,\n",
       " 'P30': 29.88,\n",
       " 'Ps30': 57.73,\n",
       " 'phi': 41.14,\n",
       " 'NRc': 36.21,\n",
       " 'BPR': 42.53,\n",
       " 'htBleed': 16.06,\n",
       " 'W31': 20.46,\n",
       " 'W32': 36.64,\n",
       " 'Nf_diff': 62.74,\n",
       " 'NRf_diff': 36.57,\n",
       " 'T24_roll_median3': 84.65,\n",
       " 'T30_roll_median3': 40.81,\n",
       " 'T50_roll_median3': 204.54,\n",
       " 'P15_roll_median3': 0.0,\n",
       " 'P30_roll_median3': 79.95,\n",
       " 'Ps30_roll_median3': 171.09,\n",
       " 'phi_roll_median3': 126.69,\n",
       " 'NRc_roll_median3': 94.48,\n",
       " 'BPR_roll_median3': 79.43,\n",
       " 'htBleed_roll_median3': 42.86,\n",
       " 'W31_roll_median3': 39.22,\n",
       " 'W32_roll_median3': 78.11,\n",
       " 'Nf_diff_roll_median3': 147.94,\n",
       " 'NRf_diff_roll_median3': 196.91,\n",
       " 'T24_roll_median3_lag_1': 62.88,\n",
       " 'T30_roll_median3_lag_1': 35.0,\n",
       " 'T50_roll_median3_lag_1': 160.94,\n",
       " 'P15_roll_median3_lag_1': 0.0,\n",
       " 'P30_roll_median3_lag_1': 101.48,\n",
       " 'Ps30_roll_median3_lag_1': 155.24,\n",
       " 'phi_roll_median3_lag_1': 106.15,\n",
       " 'NRc_roll_median3_lag_1': 75.95,\n",
       " 'BPR_roll_median3_lag_1': 58.95,\n",
       " 'htBleed_roll_median3_lag_1': 48.93,\n",
       " 'W31_roll_median3_lag_1': 55.48,\n",
       " 'W32_roll_median3_lag_1': 112.33,\n",
       " 'Nf_diff_roll_median3_lag_1': 77.57,\n",
       " 'NRf_diff_roll_median3_lag_1': 170.83,\n",
       " 'T24_roll_median3_lag_2': 60.85,\n",
       " 'T30_roll_median3_lag_2': 27.26,\n",
       " 'T50_roll_median3_lag_2': 97.63,\n",
       " 'P15_roll_median3_lag_2': 65.81,\n",
       " 'P30_roll_median3_lag_2': 77.0,\n",
       " 'Ps30_roll_median3_lag_2': 115.33,\n",
       " 'phi_roll_median3_lag_2': 131.02,\n",
       " 'NRc_roll_median3_lag_2': 67.87,\n",
       " 'BPR_roll_median3_lag_2': 32.2,\n",
       " 'htBleed_roll_median3_lag_2': 40.54,\n",
       " 'W31_roll_median3_lag_2': 52.3,\n",
       " 'W32_roll_median3_lag_2': 119.81,\n",
       " 'Nf_diff_roll_median3_lag_2': 84.15,\n",
       " 'NRf_diff_roll_median3_lag_2': 172.05,\n",
       " 'T24_roll_median3_lag_3': 63.48,\n",
       " 'T30_roll_median3_lag_3': 30.29,\n",
       " 'T50_roll_median3_lag_3': 123.61,\n",
       " 'P15_roll_median3_lag_3': 51.16,\n",
       " 'P30_roll_median3_lag_3': 112.19,\n",
       " 'Ps30_roll_median3_lag_3': 136.85,\n",
       " 'phi_roll_median3_lag_3': 113.09,\n",
       " 'NRc_roll_median3_lag_3': 65.14,\n",
       " 'BPR_roll_median3_lag_3': 35.48,\n",
       " 'htBleed_roll_median3_lag_3': 26.44,\n",
       " 'W31_roll_median3_lag_3': 41.86,\n",
       " 'W32_roll_median3_lag_3': 99.87,\n",
       " 'Nf_diff_roll_median3_lag_3': 84.86,\n",
       " 'NRf_diff_roll_median3_lag_3': 158.14,\n",
       " 'T24_roll_median3_lag_4': 62.03,\n",
       " 'T30_roll_median3_lag_4': 26.62,\n",
       " 'T50_roll_median3_lag_4': 108.84,\n",
       " 'P15_roll_median3_lag_4': 46.75,\n",
       " 'P30_roll_median3_lag_4': 86.74,\n",
       " 'Ps30_roll_median3_lag_4': 124.16,\n",
       " 'phi_roll_median3_lag_4': 147.59,\n",
       " 'NRc_roll_median3_lag_4': 70.96,\n",
       " 'BPR_roll_median3_lag_4': 38.27,\n",
       " 'htBleed_roll_median3_lag_4': 39.33,\n",
       " 'W31_roll_median3_lag_4': 37.38,\n",
       " 'W32_roll_median3_lag_4': 75.41,\n",
       " 'Nf_diff_roll_median3_lag_4': 79.06,\n",
       " 'NRf_diff_roll_median3_lag_4': 169.89,\n",
       " 'T24_roll_median3_lag_5': 52.52,\n",
       " 'T30_roll_median3_lag_5': 27.99,\n",
       " 'T50_roll_median3_lag_5': 107.86,\n",
       " 'P15_roll_median3_lag_5': 48.47,\n",
       " 'P30_roll_median3_lag_5': 94.95,\n",
       " 'Ps30_roll_median3_lag_5': 97.04,\n",
       " 'phi_roll_median3_lag_5': 144.11,\n",
       " 'NRc_roll_median3_lag_5': 56.16,\n",
       " 'BPR_roll_median3_lag_5': 33.89,\n",
       " 'htBleed_roll_median3_lag_5': 27.75,\n",
       " 'W31_roll_median3_lag_5': 35.92,\n",
       " 'W32_roll_median3_lag_5': 86.6,\n",
       " 'Nf_diff_roll_median3_lag_5': 88.65,\n",
       " 'NRf_diff_roll_median3_lag_5': 156.42,\n",
       " 'T24_roll_median3_lag_6': 58.78,\n",
       " 'T30_roll_median3_lag_6': 35.02,\n",
       " 'T50_roll_median3_lag_6': 105.14,\n",
       " 'P15_roll_median3_lag_6': 34.97,\n",
       " 'P30_roll_median3_lag_6': 83.93,\n",
       " 'Ps30_roll_median3_lag_6': 96.38,\n",
       " 'phi_roll_median3_lag_6': 141.57,\n",
       " 'NRc_roll_median3_lag_6': 48.99,\n",
       " 'BPR_roll_median3_lag_6': 33.32,\n",
       " 'htBleed_roll_median3_lag_6': 32.25,\n",
       " 'W31_roll_median3_lag_6': 38.92,\n",
       " 'W32_roll_median3_lag_6': 82.37,\n",
       " 'Nf_diff_roll_median3_lag_6': 95.37,\n",
       " 'NRf_diff_roll_median3_lag_6': 150.74,\n",
       " 'T24_roll_median3_lag_7': 65.41,\n",
       " 'T30_roll_median3_lag_7': 31.82,\n",
       " 'T50_roll_median3_lag_7': 82.49,\n",
       " 'P15_roll_median3_lag_7': 32.74,\n",
       " 'P30_roll_median3_lag_7': 86.22,\n",
       " 'Ps30_roll_median3_lag_7': 95.45,\n",
       " 'phi_roll_median3_lag_7': 142.48,\n",
       " 'NRc_roll_median3_lag_7': 50.22,\n",
       " 'BPR_roll_median3_lag_7': 29.14,\n",
       " 'htBleed_roll_median3_lag_7': 33.09,\n",
       " 'W31_roll_median3_lag_7': 37.69,\n",
       " 'W32_roll_median3_lag_7': 95.85,\n",
       " 'Nf_diff_roll_median3_lag_7': 96.27,\n",
       " 'NRf_diff_roll_median3_lag_7': 124.85,\n",
       " 'T24_roll_median3_lag_8': 46.34,\n",
       " 'T30_roll_median3_lag_8': 23.4,\n",
       " 'T50_roll_median3_lag_8': 63.25,\n",
       " 'P15_roll_median3_lag_8': 31.77,\n",
       " 'P30_roll_median3_lag_8': 112.58,\n",
       " 'Ps30_roll_median3_lag_8': 88.59,\n",
       " 'phi_roll_median3_lag_8': 125.58,\n",
       " 'NRc_roll_median3_lag_8': 39.43,\n",
       " 'BPR_roll_median3_lag_8': 30.94,\n",
       " 'htBleed_roll_median3_lag_8': 34.34,\n",
       " 'W31_roll_median3_lag_8': 29.43,\n",
       " 'W32_roll_median3_lag_8': 74.92,\n",
       " 'Nf_diff_roll_median3_lag_8': 94.84,\n",
       " 'NRf_diff_roll_median3_lag_8': 175.44,\n",
       " 'T24_roll_median3_lag_9': 36.11,\n",
       " 'T30_roll_median3_lag_9': 26.45,\n",
       " 'T50_roll_median3_lag_9': 68.15,\n",
       " 'P15_roll_median3_lag_9': 23.9,\n",
       " 'P30_roll_median3_lag_9': 93.97,\n",
       " 'Ps30_roll_median3_lag_9': 92.0,\n",
       " 'phi_roll_median3_lag_9': 101.37,\n",
       " 'NRc_roll_median3_lag_9': 41.16,\n",
       " 'BPR_roll_median3_lag_9': 25.18,\n",
       " 'htBleed_roll_median3_lag_9': 38.24,\n",
       " 'W31_roll_median3_lag_9': 28.72,\n",
       " 'W32_roll_median3_lag_9': 61.21,\n",
       " 'Nf_diff_roll_median3_lag_9': 99.51,\n",
       " 'NRf_diff_roll_median3_lag_9': 124.7,\n",
       " 'T24_roll_median3_lag_10': 36.61,\n",
       " 'T30_roll_median3_lag_10': 21.36,\n",
       " 'T50_roll_median3_lag_10': 67.88,\n",
       " 'P15_roll_median3_lag_10': 16.19,\n",
       " 'P30_roll_median3_lag_10': 50.4,\n",
       " 'Ps30_roll_median3_lag_10': 60.64,\n",
       " 'phi_roll_median3_lag_10': 83.71,\n",
       " 'NRc_roll_median3_lag_10': 34.87,\n",
       " 'BPR_roll_median3_lag_10': 24.89,\n",
       " 'htBleed_roll_median3_lag_10': 36.15,\n",
       " 'W31_roll_median3_lag_10': 30.89,\n",
       " 'W32_roll_median3_lag_10': 54.19,\n",
       " 'Nf_diff_roll_median3_lag_10': 98.11,\n",
       " 'NRf_diff_roll_median3_lag_10': 84.68}"
      ]
     },
     "execution_count": 29,
     "metadata": {
     },
     "output_type": "execute_result"
    }
   ],
   "source": [
    "#take a small subset of 200 rows to assess issue quickly.\n",
    "X_train_200 = X_train[:200]\n",
    "#from statsmodels.stats.outliers_influence import variance_inflation_factor as vif\n",
    "vifs = {X_train_200.columns[i]:round(vif(X_train_200.values, i), 2) for i in range(len(X_train_200.columns))}\n",
    "display(vifs)"
   ]
  },
  {
   "cell_type": "markdown",
   "metadata": {
    "collapsed": false
   },
   "source": [
    "We have high multicollinearity, which is unacceptable for a multiple linear regression model, where we are shooting VIFs around ~5. We should start with fewer lags and assess which are most critical to keep in our model. "
   ]
  },
  {
   "cell_type": "code",
   "execution_count": 30,
   "metadata": {
    "collapsed": false
   },
   "outputs": [
    {
     "name": "stdout",
     "output_type": "stream",
     "text": [
      "Index(['unit_number', 'time_in_cycles', 'T24', 'T30', 'T50', 'P15', 'P30',\n",
      "       'Ps30', 'phi', 'NRc', 'BPR', 'htBleed', 'W31', 'W32', 'RUL', 'Nf_diff',\n",
      "       'NRf_diff'],\n",
      "      dtype='object')\n"
     ]
    }
   ],
   "source": [
    "# define filepath to read data\n",
    "dir_path = './data/'\n",
    "\n",
    "# define column names for easy indexing\n",
    "index_names = ['unit_number', 'time_in_cycles']\n",
    "setting_names = ['setting_1', 'setting_2', 'setting_3']\n",
    "sensor_names = ['T2','T24','T30','T50','P2','P15','P30','Nf','Nc','epr','Ps30','phi','NRf','NRc','BPR','farB','htBleed','Nf_dmd','PCNfR_dmd','W31','W32']\n",
    "col_names = index_names + setting_names + sensor_names\n",
    "\n",
    "# read data\n",
    "train = pd.read_csv((dir_path+'train_FD001.txt'), sep='\\s+', header=None, names=col_names)\n",
    "test = pd.read_csv((dir_path+'test_FD001.txt'), sep='\\s+', header=None, names=col_names)\n",
    "y_test = pd.read_csv((dir_path+'RUL_FD001.txt'), sep='\\s+', header=None, names=['RUL'])\n",
    "\n",
    "# add remaining useful life\n",
    "train = add_remaining_useful_life(train)\n",
    "train[index_names+['RUL']].head()\n",
    "\n",
    "#take the difference of variables from their demanded levels. \n",
    "train['Nf_diff']=train['Nf']-train['Nf_dmd']\n",
    "train['NRf_diff'] = train['NRf']-train['PCNfR_dmd']\n",
    "test['Nf_diff']=test['Nf']-test['Nf_dmd']\n",
    "test['NRf_diff'] = test['NRf']-test['PCNfR_dmd']\n",
    "\n",
    "# drop unwanted columns and split target variable from training set\n",
    "drop_sensors = ['T2', 'P2','epr','farB','Nf_dmd','PCNfR_dmd','Nc','Nf','NRf'] # observe rationale in Predictive Maintenance EDA and Feature Engineering file, where these variables produce no additional data.  \n",
    "drop_labels = setting_names+drop_sensors # alter this version of the work to keep RUL and Unit number, as we need these to add lags and aggregates. \n",
    "\n",
    "X_train = train.drop(drop_labels, axis=1)\n",
    "#y_train = X_train.pop('RUL') #do this later following transformations.\n",
    "remaining_sensors = X_train.columns.difference(index_names+['RUL'])\n",
    "\n",
    "# Since the true RUL values for the test set are only provided for the last time cycle of each enginge, \n",
    "# the test set is subsetted to represent the same\n",
    "#X_test = test.groupby('unit_number').last().reset_index().drop(drop_labels, axis=1)\n",
    "X_test = test.drop(drop_labels, axis=1)\n",
    "\n",
    "print(X_train.columns)  # check remaining columns"
   ]
  },
  {
   "cell_type": "code",
   "execution_count": 31,
   "metadata": {
    "collapsed": false
   },
   "outputs": [
   ],
   "source": [
    "#prepare X_train. \n",
    "\n",
    "#apply rolling aggregates to train. \n",
    "grouped_df=X_train.groupby(['unit_number'])\n",
    "dflist = [add_rolling_agg_variables(g, grouped_df.get_group(g),3) for g in grouped_df.groups.keys()]\n",
    "X_train = pd.concat(dflist, axis=0).reset_index()\n",
    "\n",
    "#apply lags to the aggregates in the short and long term. \n",
    "agg_columns=[col for col in X_train.columns if 'median' in col]\n",
    "X_train = add_lagged_variables(X_train,1,agg_columns).reset_index(drop=True)\n",
    "\n",
    "y_train = X_train.pop('RUL')\n",
    "\n",
    "#Repeat for X_test. \n",
    "\n",
    "#apply rolling aggregates to test. \n",
    "grouped_df=X_test.groupby(['unit_number'])\n",
    "dflist = [add_rolling_agg_variables(g, grouped_df.get_group(g),3) for g in grouped_df.groups.keys()]\n",
    "X_test = pd.concat(dflist, axis=0).reset_index()\n",
    "\n",
    "#apply lags to the aggregates in the short and long term. \n",
    "agg_columns=[col for col in X_test.columns if 'median' in col]\n",
    "X_test = add_lagged_variables(X_test,1,agg_columns).reset_index(drop=True)"
   ]
  },
  {
   "cell_type": "code",
   "execution_count": 32,
   "metadata": {
    "collapsed": false
   },
   "outputs": [
   ],
   "source": [
    "#clean out unhelpful columns from train and test sets. \n",
    "\n",
    "#start with train\n",
    "group_columns=[col for col in X_train.columns if 'group' in col]\n",
    "rul_columns=[col for col in X_train.columns if 'RUL' in col]\n",
    "unit_number_columns=[col for col in X_train.columns if 'unit_number' in col]\n",
    "\n",
    "drop_labels = group_columns+rul_columns+unit_number_columns+index_names\n",
    "X_train = X_train.drop(drop_labels,axis=1)\n",
    "\n",
    "#repeat for test\n",
    "X_test = X_test.groupby('unit_number').last().reset_index()\n",
    "group_columns=[col for col in X_test.columns if 'group' in col]\n",
    "unit_number_columns=[col for col in X_test.columns if 'unit_number' in col]\n",
    "drop_labels = group_columns+unit_number_columns+index_names\n",
    "X_test = X_test.drop(drop_labels,axis=1)"
   ]
  },
  {
   "cell_type": "code",
   "execution_count": 33,
   "metadata": {
    "collapsed": false
   },
   "outputs": [
    {
     "data": {
      "text/html": [
       "<div>\n",
       "<style scoped>\n",
       "    .dataframe tbody tr th:only-of-type {\n",
       "        vertical-align: middle;\n",
       "    }\n",
       "\n",
       "    .dataframe tbody tr th {\n",
       "        vertical-align: top;\n",
       "    }\n",
       "\n",
       "    .dataframe thead th {\n",
       "        text-align: right;\n",
       "    }\n",
       "</style>\n",
       "<table border=\"1\" class=\"dataframe\">\n",
       "  <thead>\n",
       "    <tr style=\"text-align: right;\">\n",
       "      <th></th>\n",
       "      <th>T24</th>\n",
       "      <th>T30</th>\n",
       "      <th>T50</th>\n",
       "      <th>P15</th>\n",
       "      <th>P30</th>\n",
       "      <th>Ps30</th>\n",
       "      <th>phi</th>\n",
       "      <th>NRc</th>\n",
       "      <th>BPR</th>\n",
       "      <th>htBleed</th>\n",
       "      <th>...</th>\n",
       "      <th>P30_roll_median3_lag_1</th>\n",
       "      <th>Ps30_roll_median3_lag_1</th>\n",
       "      <th>phi_roll_median3_lag_1</th>\n",
       "      <th>NRc_roll_median3_lag_1</th>\n",
       "      <th>BPR_roll_median3_lag_1</th>\n",
       "      <th>htBleed_roll_median3_lag_1</th>\n",
       "      <th>W31_roll_median3_lag_1</th>\n",
       "      <th>W32_roll_median3_lag_1</th>\n",
       "      <th>Nf_diff_roll_median3_lag_1</th>\n",
       "      <th>NRf_diff_roll_median3_lag_1</th>\n",
       "    </tr>\n",
       "  </thead>\n",
       "  <tbody>\n",
       "    <tr>\n",
       "      <th>0</th>\n",
       "      <td>642.58</td>\n",
       "      <td>1581.22</td>\n",
       "      <td>1398.91</td>\n",
       "      <td>21.61</td>\n",
       "      <td>554.42</td>\n",
       "      <td>47.23</td>\n",
       "      <td>521.79</td>\n",
       "      <td>8130.11</td>\n",
       "      <td>8.4024</td>\n",
       "      <td>393</td>\n",
       "      <td>...</td>\n",
       "      <td>554.10</td>\n",
       "      <td>47.40</td>\n",
       "      <td>521.84</td>\n",
       "      <td>8134.79</td>\n",
       "      <td>8.4212</td>\n",
       "      <td>392.0</td>\n",
       "      <td>39.02</td>\n",
       "      <td>23.3621</td>\n",
       "      <td>0.08</td>\n",
       "      <td>2288.07</td>\n",
       "    </tr>\n",
       "    <tr>\n",
       "      <th>1</th>\n",
       "      <td>642.55</td>\n",
       "      <td>1586.59</td>\n",
       "      <td>1410.83</td>\n",
       "      <td>21.61</td>\n",
       "      <td>553.52</td>\n",
       "      <td>47.67</td>\n",
       "      <td>521.74</td>\n",
       "      <td>8126.90</td>\n",
       "      <td>8.4505</td>\n",
       "      <td>391</td>\n",
       "      <td>...</td>\n",
       "      <td>553.83</td>\n",
       "      <td>47.44</td>\n",
       "      <td>521.32</td>\n",
       "      <td>8128.77</td>\n",
       "      <td>8.4455</td>\n",
       "      <td>392.0</td>\n",
       "      <td>38.88</td>\n",
       "      <td>23.2918</td>\n",
       "      <td>0.11</td>\n",
       "      <td>2288.11</td>\n",
       "    </tr>\n",
       "    <tr>\n",
       "      <th>2</th>\n",
       "      <td>642.88</td>\n",
       "      <td>1589.75</td>\n",
       "      <td>1418.89</td>\n",
       "      <td>21.61</td>\n",
       "      <td>552.59</td>\n",
       "      <td>47.88</td>\n",
       "      <td>520.83</td>\n",
       "      <td>8131.46</td>\n",
       "      <td>8.4119</td>\n",
       "      <td>395</td>\n",
       "      <td>...</td>\n",
       "      <td>552.72</td>\n",
       "      <td>47.62</td>\n",
       "      <td>520.53</td>\n",
       "      <td>8128.02</td>\n",
       "      <td>8.4608</td>\n",
       "      <td>394.0</td>\n",
       "      <td>38.65</td>\n",
       "      <td>23.2330</td>\n",
       "      <td>0.19</td>\n",
       "      <td>2288.16</td>\n",
       "    </tr>\n",
       "    <tr>\n",
       "      <th>3</th>\n",
       "      <td>642.78</td>\n",
       "      <td>1594.53</td>\n",
       "      <td>1406.88</td>\n",
       "      <td>21.61</td>\n",
       "      <td>552.64</td>\n",
       "      <td>47.65</td>\n",
       "      <td>521.88</td>\n",
       "      <td>8133.64</td>\n",
       "      <td>8.4634</td>\n",
       "      <td>395</td>\n",
       "      <td>...</td>\n",
       "      <td>553.53</td>\n",
       "      <td>47.68</td>\n",
       "      <td>521.24</td>\n",
       "      <td>8134.72</td>\n",
       "      <td>8.4646</td>\n",
       "      <td>393.0</td>\n",
       "      <td>38.84</td>\n",
       "      <td>23.2586</td>\n",
       "      <td>0.15</td>\n",
       "      <td>2288.13</td>\n",
       "    </tr>\n",
       "    <tr>\n",
       "      <th>4</th>\n",
       "      <td>642.27</td>\n",
       "      <td>1589.94</td>\n",
       "      <td>1419.36</td>\n",
       "      <td>21.61</td>\n",
       "      <td>553.29</td>\n",
       "      <td>47.46</td>\n",
       "      <td>521.00</td>\n",
       "      <td>8125.74</td>\n",
       "      <td>8.4362</td>\n",
       "      <td>394</td>\n",
       "      <td>...</td>\n",
       "      <td>552.88</td>\n",
       "      <td>47.66</td>\n",
       "      <td>520.98</td>\n",
       "      <td>8129.61</td>\n",
       "      <td>8.4390</td>\n",
       "      <td>393.0</td>\n",
       "      <td>38.85</td>\n",
       "      <td>23.3016</td>\n",
       "      <td>0.10</td>\n",
       "      <td>2288.12</td>\n",
       "    </tr>\n",
       "    <tr>\n",
       "      <th>...</th>\n",
       "      <td>...</td>\n",
       "      <td>...</td>\n",
       "      <td>...</td>\n",
       "      <td>...</td>\n",
       "      <td>...</td>\n",
       "      <td>...</td>\n",
       "      <td>...</td>\n",
       "      <td>...</td>\n",
       "      <td>...</td>\n",
       "      <td>...</td>\n",
       "      <td>...</td>\n",
       "      <td>...</td>\n",
       "      <td>...</td>\n",
       "      <td>...</td>\n",
       "      <td>...</td>\n",
       "      <td>...</td>\n",
       "      <td>...</td>\n",
       "      <td>...</td>\n",
       "      <td>...</td>\n",
       "      <td>...</td>\n",
       "      <td>...</td>\n",
       "    </tr>\n",
       "    <tr>\n",
       "      <th>95</th>\n",
       "      <td>642.30</td>\n",
       "      <td>1590.88</td>\n",
       "      <td>1397.94</td>\n",
       "      <td>21.61</td>\n",
       "      <td>553.99</td>\n",
       "      <td>47.14</td>\n",
       "      <td>522.30</td>\n",
       "      <td>8148.24</td>\n",
       "      <td>8.4110</td>\n",
       "      <td>391</td>\n",
       "      <td>...</td>\n",
       "      <td>554.24</td>\n",
       "      <td>47.33</td>\n",
       "      <td>522.40</td>\n",
       "      <td>8150.93</td>\n",
       "      <td>8.4134</td>\n",
       "      <td>393.0</td>\n",
       "      <td>39.01</td>\n",
       "      <td>23.3963</td>\n",
       "      <td>0.03</td>\n",
       "      <td>2288.05</td>\n",
       "    </tr>\n",
       "    <tr>\n",
       "      <th>96</th>\n",
       "      <td>642.59</td>\n",
       "      <td>1582.96</td>\n",
       "      <td>1410.92</td>\n",
       "      <td>21.61</td>\n",
       "      <td>554.05</td>\n",
       "      <td>47.38</td>\n",
       "      <td>521.58</td>\n",
       "      <td>8155.48</td>\n",
       "      <td>8.4500</td>\n",
       "      <td>395</td>\n",
       "      <td>...</td>\n",
       "      <td>553.72</td>\n",
       "      <td>47.45</td>\n",
       "      <td>521.78</td>\n",
       "      <td>8154.37</td>\n",
       "      <td>8.4187</td>\n",
       "      <td>393.0</td>\n",
       "      <td>38.83</td>\n",
       "      <td>23.3713</td>\n",
       "      <td>0.03</td>\n",
       "      <td>2288.05</td>\n",
       "    </tr>\n",
       "    <tr>\n",
       "      <th>97</th>\n",
       "      <td>642.68</td>\n",
       "      <td>1599.51</td>\n",
       "      <td>1415.47</td>\n",
       "      <td>21.61</td>\n",
       "      <td>553.44</td>\n",
       "      <td>47.66</td>\n",
       "      <td>521.53</td>\n",
       "      <td>8146.39</td>\n",
       "      <td>8.4235</td>\n",
       "      <td>394</td>\n",
       "      <td>...</td>\n",
       "      <td>553.22</td>\n",
       "      <td>47.70</td>\n",
       "      <td>521.06</td>\n",
       "      <td>8140.75</td>\n",
       "      <td>8.4686</td>\n",
       "      <td>394.0</td>\n",
       "      <td>38.75</td>\n",
       "      <td>23.2662</td>\n",
       "      <td>0.10</td>\n",
       "      <td>2288.12</td>\n",
       "    </tr>\n",
       "    <tr>\n",
       "      <th>98</th>\n",
       "      <td>642.00</td>\n",
       "      <td>1585.03</td>\n",
       "      <td>1397.98</td>\n",
       "      <td>21.61</td>\n",
       "      <td>554.75</td>\n",
       "      <td>47.26</td>\n",
       "      <td>521.82</td>\n",
       "      <td>8150.38</td>\n",
       "      <td>8.4003</td>\n",
       "      <td>391</td>\n",
       "      <td>...</td>\n",
       "      <td>554.04</td>\n",
       "      <td>47.16</td>\n",
       "      <td>522.08</td>\n",
       "      <td>8150.53</td>\n",
       "      <td>8.3898</td>\n",
       "      <td>391.0</td>\n",
       "      <td>38.97</td>\n",
       "      <td>23.3901</td>\n",
       "      <td>-0.01</td>\n",
       "      <td>2288.01</td>\n",
       "    </tr>\n",
       "    <tr>\n",
       "      <th>99</th>\n",
       "      <td>642.95</td>\n",
       "      <td>1601.62</td>\n",
       "      <td>1424.99</td>\n",
       "      <td>21.61</td>\n",
       "      <td>552.48</td>\n",
       "      <td>47.80</td>\n",
       "      <td>521.07</td>\n",
       "      <td>8214.64</td>\n",
       "      <td>8.4903</td>\n",
       "      <td>396</td>\n",
       "      <td>...</td>\n",
       "      <td>553.22</td>\n",
       "      <td>47.60</td>\n",
       "      <td>521.18</td>\n",
       "      <td>8217.24</td>\n",
       "      <td>8.4569</td>\n",
       "      <td>395.0</td>\n",
       "      <td>38.62</td>\n",
       "      <td>23.2699</td>\n",
       "      <td>0.07</td>\n",
       "      <td>2288.08</td>\n",
       "    </tr>\n",
       "  </tbody>\n",
       "</table>\n",
       "<p>100 rows × 42 columns</p>\n",
       "</div>"
      ],
      "text/plain": [
       "       T24      T30      T50    P15     P30   Ps30     phi      NRc     BPR  \\\n",
       "0   642.58  1581.22  1398.91  21.61  554.42  47.23  521.79  8130.11  8.4024   \n",
       "1   642.55  1586.59  1410.83  21.61  553.52  47.67  521.74  8126.90  8.4505   \n",
       "2   642.88  1589.75  1418.89  21.61  552.59  47.88  520.83  8131.46  8.4119   \n",
       "3   642.78  1594.53  1406.88  21.61  552.64  47.65  521.88  8133.64  8.4634   \n",
       "4   642.27  1589.94  1419.36  21.61  553.29  47.46  521.00  8125.74  8.4362   \n",
       "..     ...      ...      ...    ...     ...    ...     ...      ...     ...   \n",
       "95  642.30  1590.88  1397.94  21.61  553.99  47.14  522.30  8148.24  8.4110   \n",
       "96  642.59  1582.96  1410.92  21.61  554.05  47.38  521.58  8155.48  8.4500   \n",
       "97  642.68  1599.51  1415.47  21.61  553.44  47.66  521.53  8146.39  8.4235   \n",
       "98  642.00  1585.03  1397.98  21.61  554.75  47.26  521.82  8150.38  8.4003   \n",
       "99  642.95  1601.62  1424.99  21.61  552.48  47.80  521.07  8214.64  8.4903   \n",
       "\n",
       "    htBleed  ...  P30_roll_median3_lag_1  Ps30_roll_median3_lag_1  \\\n",
       "0       393  ...                  554.10                    47.40   \n",
       "1       391  ...                  553.83                    47.44   \n",
       "2       395  ...                  552.72                    47.62   \n",
       "3       395  ...                  553.53                    47.68   \n",
       "4       394  ...                  552.88                    47.66   \n",
       "..      ...  ...                     ...                      ...   \n",
       "95      391  ...                  554.24                    47.33   \n",
       "96      395  ...                  553.72                    47.45   \n",
       "97      394  ...                  553.22                    47.70   \n",
       "98      391  ...                  554.04                    47.16   \n",
       "99      396  ...                  553.22                    47.60   \n",
       "\n",
       "    phi_roll_median3_lag_1  NRc_roll_median3_lag_1  BPR_roll_median3_lag_1  \\\n",
       "0                   521.84                 8134.79                  8.4212   \n",
       "1                   521.32                 8128.77                  8.4455   \n",
       "2                   520.53                 8128.02                  8.4608   \n",
       "3                   521.24                 8134.72                  8.4646   \n",
       "4                   520.98                 8129.61                  8.4390   \n",
       "..                     ...                     ...                     ...   \n",
       "95                  522.40                 8150.93                  8.4134   \n",
       "96                  521.78                 8154.37                  8.4187   \n",
       "97                  521.06                 8140.75                  8.4686   \n",
       "98                  522.08                 8150.53                  8.3898   \n",
       "99                  521.18                 8217.24                  8.4569   \n",
       "\n",
       "    htBleed_roll_median3_lag_1  W31_roll_median3_lag_1  \\\n",
       "0                        392.0                   39.02   \n",
       "1                        392.0                   38.88   \n",
       "2                        394.0                   38.65   \n",
       "3                        393.0                   38.84   \n",
       "4                        393.0                   38.85   \n",
       "..                         ...                     ...   \n",
       "95                       393.0                   39.01   \n",
       "96                       393.0                   38.83   \n",
       "97                       394.0                   38.75   \n",
       "98                       391.0                   38.97   \n",
       "99                       395.0                   38.62   \n",
       "\n",
       "    W32_roll_median3_lag_1  Nf_diff_roll_median3_lag_1  \\\n",
       "0                  23.3621                        0.08   \n",
       "1                  23.2918                        0.11   \n",
       "2                  23.2330                        0.19   \n",
       "3                  23.2586                        0.15   \n",
       "4                  23.3016                        0.10   \n",
       "..                     ...                         ...   \n",
       "95                 23.3963                        0.03   \n",
       "96                 23.3713                        0.03   \n",
       "97                 23.2662                        0.10   \n",
       "98                 23.3901                       -0.01   \n",
       "99                 23.2699                        0.07   \n",
       "\n",
       "    NRf_diff_roll_median3_lag_1  \n",
       "0                       2288.07  \n",
       "1                       2288.11  \n",
       "2                       2288.16  \n",
       "3                       2288.13  \n",
       "4                       2288.12  \n",
       "..                          ...  \n",
       "95                      2288.05  \n",
       "96                      2288.05  \n",
       "97                      2288.12  \n",
       "98                      2288.01  \n",
       "99                      2288.08  \n",
       "\n",
       "[100 rows x 42 columns]"
      ]
     },
     "execution_count": 33,
     "metadata": {
     },
     "output_type": "execute_result"
    }
   ],
   "source": [
    "X_test"
   ]
  },
  {
   "cell_type": "code",
   "execution_count": 34,
   "metadata": {
    "collapsed": false
   },
   "outputs": [
    {
     "data": {
      "text/plain": [
       "(20331,)"
      ]
     },
     "execution_count": 34,
     "metadata": {
     },
     "output_type": "execute_result"
    }
   ],
   "source": [
    "y_train.shape"
   ]
  },
  {
   "cell_type": "code",
   "execution_count": 35,
   "metadata": {
    "collapsed": false
   },
   "outputs": [
    {
     "name": "stdout",
     "output_type": "stream",
     "text": [
      "                                 OLS Regression Results                                \n",
      "=======================================================================================\n",
      "Dep. Variable:                    RUL   R-squared (uncentered):                   0.881\n",
      "Model:                            OLS   Adj. R-squared (uncentered):              0.881\n",
      "Method:                 Least Squares   F-statistic:                              3576.\n",
      "Date:                Thu, 25 Nov 2021   Prob (F-statistic):                        0.00\n",
      "Time:                        01:28:18   Log-Likelihood:                     -1.0559e+05\n",
      "No. Observations:               20331   AIC:                                  2.113e+05\n",
      "Df Residuals:                   20289   BIC:                                  2.116e+05\n",
      "Df Model:                          42                                                  \n",
      "Covariance Type:            nonrobust                                                  \n",
      "===============================================================================================\n",
      "                                  coef    std err          t      P>|t|      [0.025      0.975]\n",
      "-----------------------------------------------------------------------------------------------\n",
      "T24                            -2.7867      1.260     -2.211      0.027      -5.257      -0.316\n",
      "T30                            -0.2170      0.095     -2.284      0.022      -0.403      -0.031\n",
      "T50                            -0.3258      0.094     -3.452      0.001      -0.511      -0.141\n",
      "P15                          -214.9725    238.746     -0.900      0.368    -682.933     252.988\n",
      "P30                             2.6067      0.938      2.780      0.005       0.769       4.445\n",
      "Ps30                          -16.2595      3.729     -4.360      0.000     -23.569      -8.950\n",
      "phi                             3.6775      1.260      2.918      0.004       1.207       6.148\n",
      "NRc                            -0.0293      0.112     -0.262      0.793      -0.248       0.190\n",
      "BPR                           -42.6670     18.946     -2.252      0.024     -79.802      -5.532\n",
      "htBleed                        -0.7152      0.388     -1.845      0.065      -1.475       0.045\n",
      "W31                             7.9989      3.758      2.129      0.033       0.633      15.365\n",
      "W32                            20.0625      6.321      3.174      0.002       7.673      32.452\n",
      "Nf_diff                        18.1057     12.274      1.475      0.140      -5.953      42.164\n",
      "NRf_diff                       10.5054     11.632      0.903      0.366     -12.295      33.306\n",
      "T24_roll_median3               -3.3069      2.266     -1.459      0.145      -7.749       1.135\n",
      "T30_roll_median3               -0.1098      0.171     -0.643      0.520      -0.445       0.225\n",
      "T50_roll_median3               -0.2372      0.170     -1.394      0.163      -0.571       0.096\n",
      "P15_roll_median3             -841.8318    556.573     -1.513      0.130   -1932.760     249.097\n",
      "P30_roll_median3                2.3777      1.685      1.411      0.158      -0.926       5.681\n",
      "Ps30_roll_median3             -11.1057      6.661     -1.667      0.095     -24.161       1.949\n",
      "phi_roll_median3                4.5106      2.267      1.990      0.047       0.068       8.953\n",
      "NRc_roll_median3                0.1011      0.211      0.478      0.632      -0.313       0.515\n",
      "BPR_roll_median3              -58.8235     33.987     -1.731      0.084    -125.440       7.793\n",
      "htBleed_roll_median3           -0.4438      0.639     -0.694      0.487      -1.696       0.809\n",
      "W31_roll_median3                7.2718      6.782      1.072      0.284      -6.022      20.565\n",
      "W32_roll_median3               15.6128     11.240      1.389      0.165      -6.418      37.643\n",
      "Nf_diff_roll_median3           -4.1686     22.318     -0.187      0.852     -47.915      39.577\n",
      "NRf_diff_roll_median3         -24.4010     21.790     -1.120      0.263     -67.110      18.308\n",
      "T24_roll_median3_lag_1         -4.2435      1.958     -2.168      0.030      -8.081      -0.406\n",
      "T30_roll_median3_lag_1         -0.2382      0.148     -1.610      0.107      -0.528       0.052\n",
      "T50_roll_median3_lag_1         -0.4404      0.145     -3.040      0.002      -0.724      -0.156\n",
      "P15_roll_median3_lag_1      -1393.7989    520.676     -2.677      0.007   -2414.367    -373.231\n",
      "P30_roll_median3_lag_1          2.5643      1.433      1.790      0.073      -0.244       5.372\n",
      "Ps30_roll_median3_lag_1       -17.2053      5.669     -3.035      0.002     -28.318      -6.093\n",
      "phi_roll_median3_lag_1          4.2267      1.912      2.210      0.027       0.478       7.975\n",
      "NRc_roll_median3_lag_1         -0.5740      0.158     -3.632      0.000      -0.884      -0.264\n",
      "BPR_roll_median3_lag_1        -54.4779     29.273     -1.861      0.063    -111.855       2.899\n",
      "htBleed_roll_median3_lag_1     -0.6688      0.558     -1.199      0.231      -1.762       0.425\n",
      "W31_roll_median3_lag_1          8.3549      5.835      1.432      0.152      -3.082      19.792\n",
      "W32_roll_median3_lag_1         28.3066      9.690      2.921      0.003       9.314      47.299\n",
      "Nf_diff_roll_median3_lag_1     80.2373     18.946      4.235      0.000      43.102     117.373\n",
      "NRf_diff_roll_median3_lag_1    38.8928     16.269      2.391      0.017       7.004      70.782\n",
      "==============================================================================\n",
      "Omnibus:                     3296.921   Durbin-Watson:                   0.028\n",
      "Prob(Omnibus):                  0.000   Jarque-Bera (JB):             5955.825\n",
      "Skew:                           1.037   Prob(JB):                         0.00\n",
      "Kurtosis:                       4.652   Cond. No.                     3.30e+07\n",
      "==============================================================================\n",
      "\n",
      "Notes:\n",
      "[1] R² is computed without centering (uncentered) since the model does not contain a constant.\n",
      "[2] Standard Errors assume that the covariance matrix of the errors is correctly specified.\n",
      "[3] The condition number is large, 3.3e+07. This might indicate that there are\n",
      "strong multicollinearity or other numerical problems.\n"
     ]
    }
   ],
   "source": [
    "import statsmodels.api as sm\n",
    "model_lr_1 = sm.OLS(y_train,X_train)\n",
    "results = model_lr_1.fit()\n",
    "print(results.summary())"
   ]
  },
  {
   "cell_type": "code",
   "execution_count": 36,
   "metadata": {
    "collapsed": false
   },
   "outputs": [
    {
     "data": {
      "text/plain": [
       "{'T24': 7007227.41,\n",
       " 'T30': 244051.0,\n",
       " 'T50': 188908.12,\n",
       " 'P15': 284287163.1,\n",
       " 'P30': 2875767.94,\n",
       " 'Ps30': 335766.2,\n",
       " 'phi': 4612328.75,\n",
       " 'NRc': 8833885.05,\n",
       " 'BPR': 273243.57,\n",
       " 'htBleed': 248149.56,\n",
       " 'W31': 227235.82,\n",
       " 'W32': 231441.85,\n",
       " 'Nf_diff': 23.33,\n",
       " 'NRf_diff': 7566226542.23,\n",
       " 'T24_roll_median3': 22657374.01,\n",
       " 'T30_roll_median3': 788074.27,\n",
       " 'T50_roll_median3': 613782.31,\n",
       " 'P15_roll_median3': 1545031916.24,\n",
       " 'P30_roll_median3': 9290778.24,\n",
       " 'Ps30_roll_median3': 1070862.31,\n",
       " 'phi_roll_median3': 14917786.92,\n",
       " 'NRc_roll_median3': 31651094.18,\n",
       " 'BPR_roll_median3': 879244.85,\n",
       " 'htBleed_roll_median3': 674431.24,\n",
       " 'W31_roll_median3': 740248.58,\n",
       " 'W32_roll_median3': 731884.44,\n",
       " 'Nf_diff_roll_median3': 72.92,\n",
       " 'NRf_diff_roll_median3': 26548060017.69,\n",
       " 'T24_roll_median3_lag_1': 16905595.15,\n",
       " 'T30_roll_median3_lag_1': 591145.92,\n",
       " 'T50_roll_median3_lag_1': 444860.53,\n",
       " 'P15_roll_median3_lag_1': 1352161685.17,\n",
       " 'P30_roll_median3_lag_1': 6711618.15,\n",
       " 'Ps30_roll_median3_lag_1': 775734.93,\n",
       " 'phi_roll_median3_lag_1': 10620841.04,\n",
       " 'NRc_roll_median3_lag_1': 17683726.06,\n",
       " 'BPR_roll_median3_lag_1': 652171.81,\n",
       " 'htBleed_roll_median3_lag_1': 513993.04,\n",
       " 'W31_roll_median3_lag_1': 548019.48,\n",
       " 'W32_roll_median3_lag_1': 544032.68,\n",
       " 'Nf_diff_roll_median3_lag_1': 51.52,\n",
       " 'NRf_diff_roll_median3_lag_1': 14800183465.54}"
      ]
     },
     "execution_count": 36,
     "metadata": {
     },
     "output_type": "execute_result"
    }
   ],
   "source": [
    "#from statsmodels.stats.outliers_influence import variance_inflation_factor as vif\n",
    "vifs = {X_train.columns[i]:round(vif(X_train.values, i), 2) for i in range(len(X_train.columns))}\n",
    "display(vifs)"
   ]
  },
  {
   "cell_type": "code",
   "execution_count": 37,
   "metadata": {
    "collapsed": false
   },
   "outputs": [
    {
     "data": {
      "text/html": [
       "<div>\n",
       "<style scoped>\n",
       "    .dataframe tbody tr th:only-of-type {\n",
       "        vertical-align: middle;\n",
       "    }\n",
       "\n",
       "    .dataframe tbody tr th {\n",
       "        vertical-align: top;\n",
       "    }\n",
       "\n",
       "    .dataframe thead th {\n",
       "        text-align: right;\n",
       "    }\n",
       "</style>\n",
       "<table border=\"1\" class=\"dataframe\">\n",
       "  <thead>\n",
       "    <tr style=\"text-align: right;\">\n",
       "      <th></th>\n",
       "      <th>T24</th>\n",
       "      <th>T30</th>\n",
       "      <th>T50</th>\n",
       "      <th>P15</th>\n",
       "      <th>P30</th>\n",
       "      <th>Ps30</th>\n",
       "      <th>phi</th>\n",
       "      <th>NRc</th>\n",
       "      <th>BPR</th>\n",
       "      <th>htBleed</th>\n",
       "      <th>...</th>\n",
       "      <th>P30_roll_median3_lag_1</th>\n",
       "      <th>Ps30_roll_median3_lag_1</th>\n",
       "      <th>phi_roll_median3_lag_1</th>\n",
       "      <th>NRc_roll_median3_lag_1</th>\n",
       "      <th>BPR_roll_median3_lag_1</th>\n",
       "      <th>htBleed_roll_median3_lag_1</th>\n",
       "      <th>W31_roll_median3_lag_1</th>\n",
       "      <th>W32_roll_median3_lag_1</th>\n",
       "      <th>Nf_diff_roll_median3_lag_1</th>\n",
       "      <th>NRf_diff_roll_median3_lag_1</th>\n",
       "    </tr>\n",
       "  </thead>\n",
       "  <tbody>\n",
       "    <tr>\n",
       "      <th>0</th>\n",
       "      <td>-0.425894</td>\n",
       "      <td>-1.603619</td>\n",
       "      <td>-1.355943</td>\n",
       "      <td>0.100504</td>\n",
       "      <td>1.451228</td>\n",
       "      <td>-1.427840</td>\n",
       "      <td>0.739155</td>\n",
       "      <td>-0.657866</td>\n",
       "      <td>-1.537896</td>\n",
       "      <td>-0.356332</td>\n",
       "      <td>...</td>\n",
       "      <td>1.062337</td>\n",
       "      <td>-0.776049</td>\n",
       "      <td>0.879201</td>\n",
       "      <td>-0.395705</td>\n",
       "      <td>-0.910894</td>\n",
       "      <td>-1.122884</td>\n",
       "      <td>1.543964</td>\n",
       "      <td>0.973668</td>\n",
       "      <td>-0.487538</td>\n",
       "      <td>-0.701805</td>\n",
       "    </tr>\n",
       "    <tr>\n",
       "      <th>1</th>\n",
       "      <td>-0.493712</td>\n",
       "      <td>-0.791580</td>\n",
       "      <td>0.032832</td>\n",
       "      <td>0.100504</td>\n",
       "      <td>0.423689</td>\n",
       "      <td>0.292920</td>\n",
       "      <td>0.667113</td>\n",
       "      <td>-0.831042</td>\n",
       "      <td>-0.071375</td>\n",
       "      <td>-1.726838</td>\n",
       "      <td>...</td>\n",
       "      <td>0.728541</td>\n",
       "      <td>-0.605676</td>\n",
       "      <td>0.092715</td>\n",
       "      <td>-0.727660</td>\n",
       "      <td>-0.109869</td>\n",
       "      <td>-1.122884</td>\n",
       "      <td>0.648171</td>\n",
       "      <td>0.214525</td>\n",
       "      <td>-0.041619</td>\n",
       "      <td>-0.059421</td>\n",
       "    </tr>\n",
       "    <tr>\n",
       "      <th>2</th>\n",
       "      <td>0.252281</td>\n",
       "      <td>-0.313732</td>\n",
       "      <td>0.971886</td>\n",
       "      <td>0.100504</td>\n",
       "      <td>-0.638102</td>\n",
       "      <td>1.114192</td>\n",
       "      <td>-0.644059</td>\n",
       "      <td>-0.585035</td>\n",
       "      <td>-1.248251</td>\n",
       "      <td>1.014175</td>\n",
       "      <td>...</td>\n",
       "      <td>-0.643732</td>\n",
       "      <td>0.161003</td>\n",
       "      <td>-1.102140</td>\n",
       "      <td>-0.769016</td>\n",
       "      <td>0.394480</td>\n",
       "      <td>0.425922</td>\n",
       "      <td>-0.823490</td>\n",
       "      <td>-0.420433</td>\n",
       "      <td>1.147499</td>\n",
       "      <td>0.743560</td>\n",
       "    </tr>\n",
       "    <tr>\n",
       "      <th>3</th>\n",
       "      <td>0.026223</td>\n",
       "      <td>0.409090</td>\n",
       "      <td>-0.427375</td>\n",
       "      <td>0.100504</td>\n",
       "      <td>-0.581016</td>\n",
       "      <td>0.214704</td>\n",
       "      <td>0.868832</td>\n",
       "      <td>-0.467426</td>\n",
       "      <td>0.321934</td>\n",
       "      <td>1.014175</td>\n",
       "      <td>...</td>\n",
       "      <td>0.357656</td>\n",
       "      <td>0.416562</td>\n",
       "      <td>-0.028283</td>\n",
       "      <td>-0.399565</td>\n",
       "      <td>0.519743</td>\n",
       "      <td>-0.348481</td>\n",
       "      <td>0.392230</td>\n",
       "      <td>-0.143989</td>\n",
       "      <td>0.552940</td>\n",
       "      <td>0.261771</td>\n",
       "    </tr>\n",
       "    <tr>\n",
       "      <th>4</th>\n",
       "      <td>-1.126675</td>\n",
       "      <td>-0.285000</td>\n",
       "      <td>1.026645</td>\n",
       "      <td>0.100504</td>\n",
       "      <td>0.161095</td>\n",
       "      <td>-0.528352</td>\n",
       "      <td>-0.399115</td>\n",
       "      <td>-0.893623</td>\n",
       "      <td>-0.507368</td>\n",
       "      <td>0.328921</td>\n",
       "      <td>...</td>\n",
       "      <td>-0.445927</td>\n",
       "      <td>0.331376</td>\n",
       "      <td>-0.421527</td>\n",
       "      <td>-0.681340</td>\n",
       "      <td>-0.324135</td>\n",
       "      <td>-0.348481</td>\n",
       "      <td>0.456215</td>\n",
       "      <td>0.320352</td>\n",
       "      <td>-0.190259</td>\n",
       "      <td>0.101175</td>\n",
       "    </tr>\n",
       "  </tbody>\n",
       "</table>\n",
       "<p>5 rows × 42 columns</p>\n",
       "</div>"
      ],
      "text/plain": [
       "        T24       T30       T50       P15       P30      Ps30       phi  \\\n",
       "0 -0.425894 -1.603619 -1.355943  0.100504  1.451228 -1.427840  0.739155   \n",
       "1 -0.493712 -0.791580  0.032832  0.100504  0.423689  0.292920  0.667113   \n",
       "2  0.252281 -0.313732  0.971886  0.100504 -0.638102  1.114192 -0.644059   \n",
       "3  0.026223  0.409090 -0.427375  0.100504 -0.581016  0.214704  0.868832   \n",
       "4 -1.126675 -0.285000  1.026645  0.100504  0.161095 -0.528352 -0.399115   \n",
       "\n",
       "        NRc       BPR   htBleed  ...  P30_roll_median3_lag_1  \\\n",
       "0 -0.657866 -1.537896 -0.356332  ...                1.062337   \n",
       "1 -0.831042 -0.071375 -1.726838  ...                0.728541   \n",
       "2 -0.585035 -1.248251  1.014175  ...               -0.643732   \n",
       "3 -0.467426  0.321934  1.014175  ...                0.357656   \n",
       "4 -0.893623 -0.507368  0.328921  ...               -0.445927   \n",
       "\n",
       "   Ps30_roll_median3_lag_1  phi_roll_median3_lag_1  NRc_roll_median3_lag_1  \\\n",
       "0                -0.776049                0.879201               -0.395705   \n",
       "1                -0.605676                0.092715               -0.727660   \n",
       "2                 0.161003               -1.102140               -0.769016   \n",
       "3                 0.416562               -0.028283               -0.399565   \n",
       "4                 0.331376               -0.421527               -0.681340   \n",
       "\n",
       "   BPR_roll_median3_lag_1  htBleed_roll_median3_lag_1  W31_roll_median3_lag_1  \\\n",
       "0               -0.910894                   -1.122884                1.543964   \n",
       "1               -0.109869                   -1.122884                0.648171   \n",
       "2                0.394480                    0.425922               -0.823490   \n",
       "3                0.519743                   -0.348481                0.392230   \n",
       "4               -0.324135                   -0.348481                0.456215   \n",
       "\n",
       "   W32_roll_median3_lag_1  Nf_diff_roll_median3_lag_1  \\\n",
       "0                0.973668                   -0.487538   \n",
       "1                0.214525                   -0.041619   \n",
       "2               -0.420433                    1.147499   \n",
       "3               -0.143989                    0.552940   \n",
       "4                0.320352                   -0.190259   \n",
       "\n",
       "   NRf_diff_roll_median3_lag_1  \n",
       "0                    -0.701805  \n",
       "1                    -0.059421  \n",
       "2                     0.743560  \n",
       "3                     0.261771  \n",
       "4                     0.101175  \n",
       "\n",
       "[5 rows x 42 columns]"
      ]
     },
     "execution_count": 37,
     "metadata": {
     },
     "output_type": "execute_result"
    }
   ],
   "source": [
    "#try scaling the data\n",
    "scaler = StandardScaler()\n",
    "scaler = StandardScaler().fit(X_train.values)\n",
    "features = scaler.transform(X_train.values)\n",
    "X_train = pd.DataFrame(features, columns = X_train.columns).reset_index(drop=True)\n",
    "#X_train\n",
    "\n",
    "#repeat for test\n",
    "scaler = StandardScaler().fit(X_test.values)\n",
    "features = scaler.transform(X_test.values)\n",
    "X_test= pd.DataFrame(features, columns = X_test.columns).reset_index(drop=True)\n",
    "X_test.head()"
   ]
  },
  {
   "cell_type": "code",
   "execution_count": 38,
   "metadata": {
    "collapsed": false
   },
   "outputs": [
    {
     "data": {
      "text/plain": [
       "(20331, 42)"
      ]
     },
     "execution_count": 38,
     "metadata": {
     },
     "output_type": "execute_result"
    }
   ],
   "source": [
    "X_train.shape"
   ]
  },
  {
   "cell_type": "code",
   "execution_count": 39,
   "metadata": {
    "collapsed": false
   },
   "outputs": [
   ],
   "source": [
    "y_train = y_train.reset_index(drop=True)"
   ]
  },
  {
   "cell_type": "code",
   "execution_count": 40,
   "metadata": {
    "collapsed": false
   },
   "outputs": [
    {
     "name": "stdout",
     "output_type": "stream",
     "text": [
      "                                 OLS Regression Results                                \n",
      "=======================================================================================\n",
      "Dep. Variable:                    RUL   R-squared (uncentered):                   0.172\n",
      "Model:                            OLS   Adj. R-squared (uncentered):              0.170\n",
      "Method:                 Least Squares   F-statistic:                              100.3\n",
      "Date:                Thu, 25 Nov 2021   Prob (F-statistic):                        0.00\n",
      "Time:                        01:28:39   Log-Likelihood:                     -1.2531e+05\n",
      "No. Observations:               20331   AIC:                                  2.507e+05\n",
      "Df Residuals:                   20289   BIC:                                  2.510e+05\n",
      "Df Model:                          42                                                  \n",
      "Covariance Type:            nonrobust                                                  \n",
      "===============================================================================================\n",
      "                                  coef    std err          t      P>|t|      [0.025      0.975]\n",
      "-----------------------------------------------------------------------------------------------\n",
      "T24                            -1.4214      1.664     -0.854      0.393      -4.683       1.840\n",
      "T30                            -1.3637      1.539     -0.886      0.375      -4.380       1.652\n",
      "T50                            -2.9672      2.241     -1.324      0.186      -7.360       1.426\n",
      "P15                            -0.2512      0.862     -0.292      0.771      -1.940       1.438\n",
      "P30                             2.4026      2.190      1.097      0.273      -1.891       6.696\n",
      "Ps30                           -4.4353      2.629     -1.687      0.092      -9.589       0.718\n",
      "phi                             2.8254      2.455      1.151      0.250      -1.986       7.637\n",
      "NRc                            -0.4607      5.649     -0.082      0.935     -11.534      10.612\n",
      "BPR                            -1.6251      1.876     -0.866      0.386      -5.302       2.052\n",
      "htBleed                        -1.1366      1.584     -0.718      0.473      -4.241       1.968\n",
      "W31                             1.4947      1.791      0.834      0.404      -2.017       5.006\n",
      "W32                             2.2106      1.806      1.224      0.221      -1.330       5.751\n",
      "Nf_diff                         1.0607      2.311      0.459      0.646      -3.469       5.590\n",
      "NRf_diff                        1.4735      2.319      0.635      0.525      -3.072       6.019\n",
      "T24_roll_median3               -1.4880      2.642     -0.563      0.573      -6.666       3.690\n",
      "T30_roll_median3               -0.5996      2.393     -0.251      0.802      -5.290       4.090\n",
      "T50_roll_median3               -2.0552      3.758     -0.547      0.584      -9.421       5.310\n",
      "P15_roll_median3               -0.4207      0.955     -0.441      0.660      -2.292       1.451\n",
      "P30_roll_median3                1.9885      3.650      0.545      0.586      -5.165       9.142\n",
      "Ps30_roll_median3              -2.8755      4.445     -0.647      0.518     -11.589       5.838\n",
      "phi_roll_median3                3.2025      4.150      0.772      0.440      -4.932      11.337\n",
      "NRc_roll_median3                2.0019     10.377      0.193      0.847     -18.337      22.341\n",
      "BPR_roll_median3               -2.0512      3.057     -0.671      0.502      -8.043       3.941\n",
      "htBleed_roll_median3           -0.6314      2.331     -0.271      0.786      -5.199       3.937\n",
      "W31_roll_median3                1.2077      2.899      0.417      0.677      -4.474       6.889\n",
      "W32_roll_median3                1.5445      2.892      0.534      0.593      -4.125       7.214\n",
      "Nf_diff_roll_median3           -0.4428      3.918     -0.113      0.910      -8.123       7.238\n",
      "NRf_diff_roll_median3          -1.1737      3.900     -0.301      0.763      -8.818       6.470\n",
      "T24_roll_median3_lag_1         -1.8938      2.255     -0.840      0.401      -6.313       2.526\n",
      "T30_roll_median3_lag_1         -1.2721      2.049     -0.621      0.535      -5.288       2.744\n",
      "T50_roll_median3_lag_1         -3.8068      3.163     -1.203      0.229     -10.007       2.393\n",
      "P15_roll_median3_lag_1         -0.7808      0.917     -0.851      0.395      -2.578       1.017\n",
      "P30_roll_median3_lag_1          2.2786      3.071      0.742      0.458      -3.741       8.298\n",
      "Ps30_roll_median3_lag_1        -4.5122      3.741     -1.206      0.228     -11.845       2.821\n",
      "phi_roll_median3_lag_1          3.1295      3.466      0.903      0.367      -3.664       9.923\n",
      "NRc_roll_median3_lag_1         -9.9879      7.604     -1.314      0.189     -24.892       4.916\n",
      "BPR_roll_median3_lag_1         -1.8805      2.601     -0.723      0.470      -6.978       3.217\n",
      "htBleed_roll_median3_lag_1     -0.9546      2.013     -0.474      0.635      -4.901       2.991\n",
      "W31_roll_median3_lag_1          1.4269      2.466      0.579      0.563      -3.407       6.261\n",
      "W32_roll_median3_lag_1          2.8242      2.466      1.145      0.252      -2.008       7.657\n",
      "Nf_diff_roll_median3_lag_1      4.8915      3.308      1.479      0.139      -1.592      11.375\n",
      "NRf_diff_roll_median3_lag_1     4.2143      3.273      1.287      0.198      -2.202      10.630\n",
      "==============================================================================\n",
      "Omnibus:                     3281.068   Durbin-Watson:                   0.004\n",
      "Prob(Omnibus):                  0.000   Jarque-Bera (JB):             5916.456\n",
      "Skew:                           1.034   Prob(JB):                         0.00\n",
      "Kurtosis:                       4.646   Cond. No.                         85.7\n",
      "==============================================================================\n",
      "\n",
      "Notes:\n",
      "[1] R² is computed without centering (uncentered) since the model does not contain a constant.\n",
      "[2] Standard Errors assume that the covariance matrix of the errors is correctly specified.\n"
     ]
    }
   ],
   "source": [
    "#import statsmodels.api as sm\n",
    "model_lr_1 = sm.OLS(y_train,X_train)\n",
    "results = model_lr_1.fit()\n",
    "print(results.summary())"
   ]
  },
  {
   "cell_type": "code",
   "execution_count": 41,
   "metadata": {
    "collapsed": false
   },
   "outputs": [
    {
     "data": {
      "image/png": "[encoded data removed]",
      "text/plain": [
       "<Figure size 864x504 with 2 Axes>"
      ]
     },
     "execution_count": 41,
     "metadata": {
      "image/png": {
       "height": 415,
       "width": 686
      }
     },
     "output_type": "execute_result"
    }
   ],
   "source": [
    "cormat = X_train_scaled.corr()\n",
    "round(cormat,2)\n",
    "sns.heatmap(cormat);"
   ]
  },
  {
   "cell_type": "code",
   "execution_count": 42,
   "metadata": {
    "collapsed": false
   },
   "outputs": [
   ],
   "source": [
    "#attempt to drop the rolling median columns since they are heavily correlated with the lags \n",
    "cols = list(range(16,30))\n",
    "x_train = X_train.drop(X_train.columns[cols],axis=1,inplace=True)\n",
    "x_test = X_test.drop(X_test.columns[cols],axis=1,inplace=True)"
   ]
  },
  {
   "cell_type": "code",
   "execution_count": 43,
   "metadata": {
    "collapsed": false
   },
   "outputs": [
    {
     "data": {
      "image/png": "[encoded data removed]",
      "text/plain": [
       "<Figure size 864x504 with 2 Axes>"
      ]
     },
     "execution_count": 43,
     "metadata": {
      "image/png": {
       "height": 546,
       "width": 788
      }
     },
     "output_type": "execute_result"
    }
   ],
   "source": [
    "cormat = X_train.corr()\n",
    "round(cormat,2)\n",
    "sns.heatmap(cormat);"
   ]
  },
  {
   "cell_type": "code",
   "execution_count": 44,
   "metadata": {
    "collapsed": false
   },
   "outputs": [
    {
     "name": "stdout",
     "output_type": "stream",
     "text": [
      "                                 OLS Regression Results                                \n",
      "=======================================================================================\n",
      "Dep. Variable:                    RUL   R-squared (uncentered):                   0.172\n",
      "Model:                            OLS   Adj. R-squared (uncentered):              0.171\n",
      "Method:                 Least Squares   F-statistic:                              150.4\n",
      "Date:                Thu, 25 Nov 2021   Prob (F-statistic):                        0.00\n",
      "Time:                        01:28:43   Log-Likelihood:                     -1.2531e+05\n",
      "No. Observations:               20331   AIC:                                  2.507e+05\n",
      "Df Residuals:                   20303   BIC:                                  2.509e+05\n",
      "Df Model:                          28                                                  \n",
      "Covariance Type:            nonrobust                                                  \n",
      "===============================================================================================\n",
      "                                  coef    std err          t      P>|t|      [0.025      0.975]\n",
      "-----------------------------------------------------------------------------------------------\n",
      "T24                            -0.8910      1.538     -0.579      0.562      -3.906       2.124\n",
      "T30                            -1.0017      1.425     -0.703      0.482      -3.794       1.791\n",
      "T50                            -3.8043      1.784     -2.132      0.033      -7.301      -0.307\n",
      "P15                            -0.3655      0.820     -0.446      0.656      -1.973       1.242\n",
      "P30                             3.2273      1.731      1.865      0.062      -0.165       6.620\n",
      "Ps30                           -5.6086      2.085     -2.689      0.007      -9.696      -1.521\n",
      "phi                             4.1221      1.934      2.131      0.033       0.331       7.913\n",
      "NRc                             0.2213      4.006      0.055      0.956      -7.630       8.073\n",
      "BPR                            -2.4299      1.499     -1.621      0.105      -5.368       0.508\n",
      "htBleed                        -1.4220      1.307     -1.088      0.277      -3.984       1.140\n",
      "W31                             2.0690      1.433      1.443      0.149      -0.741       4.879\n",
      "W32                             2.8413      1.446      1.965      0.049       0.007       5.676\n",
      "Nf_diff                         0.8179      1.819      0.450      0.653      -2.748       4.383\n",
      "NRf_diff                        0.9538      1.819      0.524      0.600      -2.611       4.519\n",
      "T24_roll_median3               -3.0220      2.016     -1.499      0.134      -6.973       0.929\n",
      "T30_roll_median3               -1.6681      1.833     -0.910      0.363      -5.260       1.924\n",
      "T50_roll_median3_lag_1         -5.1364      2.398     -2.142      0.032      -9.837      -0.436\n",
      "P15_roll_median3_lag_1         -0.9584      0.811     -1.181      0.238      -2.549       0.632\n",
      "P30_roll_median3_lag_1          3.6073      2.312      1.560      0.119      -0.924       8.139\n",
      "Ps30_roll_median3_lag_1        -6.4967      2.810     -2.312      0.021     -12.004      -0.990\n",
      "phi_roll_median3_lag_1          5.2208      2.595      2.012      0.044       0.135      10.307\n",
      "NRc_roll_median3_lag_1         -8.9527      4.120     -2.173      0.030     -17.029      -0.876\n",
      "BPR_roll_median3_lag_1         -3.1185      1.993     -1.565      0.118      -7.025       0.788\n",
      "htBleed_roll_median3_lag_1     -1.4041      1.616     -0.869      0.385      -4.573       1.764\n",
      "W31_roll_median3_lag_1          2.2382      1.888      1.186      0.236      -1.462       5.938\n",
      "W32_roll_median3_lag_1          3.8229      1.892      2.021      0.043       0.114       7.531\n",
      "Nf_diff_roll_median3_lag_1      4.3777      2.477      1.768      0.077      -0.477       9.232\n",
      "NRf_diff_roll_median3_lag_1     3.3201      2.446      1.357      0.175      -1.474       8.114\n",
      "==============================================================================\n",
      "Omnibus:                     3280.364   Durbin-Watson:                   0.005\n",
      "Prob(Omnibus):                  0.000   Jarque-Bera (JB):             5910.180\n",
      "Skew:                           1.034   Prob(JB):                         0.00\n",
      "Kurtosis:                       4.644   Cond. No.                         30.4\n",
      "==============================================================================\n",
      "\n",
      "Notes:\n",
      "[1] R² is computed without centering (uncentered) since the model does not contain a constant.\n",
      "[2] Standard Errors assume that the covariance matrix of the errors is correctly specified.\n"
     ]
    }
   ],
   "source": [
    "#import statsmodels.api as sm\n",
    "model_lr_1 = sm.OLS(y_train,X_train)\n",
    "results = model_lr_1.fit()\n",
    "print(results.summary())"
   ]
  },
  {
   "cell_type": "code",
   "execution_count": 45,
   "metadata": {
    "collapsed": false
   },
   "outputs": [
    {
     "data": {
      "text/plain": [
       "{'T24': 3.63,\n",
       " 'T30': 3.12,\n",
       " 'T50': 4.89,\n",
       " 'P15': 1.03,\n",
       " 'P30': 4.6,\n",
       " 'Ps30': 6.68,\n",
       " 'phi': 5.75,\n",
       " 'NRc': 24.64,\n",
       " 'BPR': 3.45,\n",
       " 'htBleed': 2.62,\n",
       " 'W31': 3.16,\n",
       " 'W32': 3.21,\n",
       " 'Nf_diff': 5.08,\n",
       " 'NRf_diff': 5.08,\n",
       " 'T24_roll_median3': 6.24,\n",
       " 'T30_roll_median3': 5.16,\n",
       " 'T50_roll_median3_lag_1': 8.83,\n",
       " 'P15_roll_median3_lag_1': 1.01,\n",
       " 'P30_roll_median3_lag_1': 8.21,\n",
       " 'Ps30_roll_median3_lag_1': 12.12,\n",
       " 'phi_roll_median3_lag_1': 10.34,\n",
       " 'NRc_roll_median3_lag_1': 26.08,\n",
       " 'BPR_roll_median3_lag_1': 6.1,\n",
       " 'htBleed_roll_median3_lag_1': 4.01,\n",
       " 'W31_roll_median3_lag_1': 5.47,\n",
       " 'W32_roll_median3_lag_1': 5.5,\n",
       " 'Nf_diff_roll_median3_lag_1': 9.42,\n",
       " 'NRf_diff_roll_median3_lag_1': 9.19}"
      ]
     },
     "execution_count": 45,
     "metadata": {
     },
     "output_type": "execute_result"
    }
   ],
   "source": [
    "#from statsmodels.stats.outliers_influence import variance_inflation_factor as vif\n",
    "vifs = {X_train.columns[i]:round(vif(X_train.values, i), 2) for i in range(len(X_train.columns))}\n",
    "display(vifs)"
   ]
  },
  {
   "cell_type": "code",
   "execution_count": 46,
   "metadata": {
    "collapsed": false
   },
   "outputs": [
    {
     "data": {
      "text/plain": [
       "{'BPR_roll_median3_lag_1',\n",
       " 'NRc',\n",
       " 'NRc_roll_median3_lag_1',\n",
       " 'NRf_diff',\n",
       " 'NRf_diff_roll_median3_lag_1',\n",
       " 'Nf_diff',\n",
       " 'Nf_diff_roll_median3_lag_1',\n",
       " 'P30_roll_median3_lag_1',\n",
       " 'Ps30',\n",
       " 'Ps30_roll_median3_lag_1',\n",
       " 'T24_roll_median3',\n",
       " 'T30_roll_median3',\n",
       " 'T50_roll_median3_lag_1',\n",
       " 'W31_roll_median3_lag_1',\n",
       " 'W32_roll_median3_lag_1',\n",
       " 'phi',\n",
       " 'phi_roll_median3_lag_1'}"
      ]
     },
     "execution_count": 46,
     "metadata": {
     },
     "output_type": "execute_result"
    }
   ],
   "source": [
    "#list variables with VIF > 5 to remove from the model:\n",
    "{k for (k,v) in vifs.items() if v > 5}"
   ]
  },
  {
   "cell_type": "code",
   "execution_count": 47,
   "metadata": {
    "collapsed": false
   },
   "outputs": [
   ],
   "source": [
    "cols = ['BPR_roll_median3_lag_1','NRc',\n",
    " 'NRc_roll_median3_lag_1',\n",
    " 'NRf_diff',\n",
    " 'NRf_diff_roll_median3_lag_1',\n",
    " 'Nf_diff',\n",
    " 'Nf_diff_roll_median3_lag_1',\n",
    " 'P30_roll_median3_lag_1',\n",
    " 'Ps30',\n",
    " 'Ps30_roll_median3_lag_1',\n",
    " 'T50_roll_median3_lag_1',\n",
    " 'W31_roll_median3_lag_1',\n",
    " 'W32_roll_median3_lag_1',\n",
    " 'phi',\n",
    " 'phi_roll_median3_lag_1']\n",
    "x_train = X_train.drop(cols,axis=1,inplace=True)\n",
    "x_test = X_test.drop(cols,axis=1,inplace=True)"
   ]
  },
  {
   "cell_type": "code",
   "execution_count": 48,
   "metadata": {
    "collapsed": false
   },
   "outputs": [
    {
     "data": {
      "text/plain": [
       "{'T24': 3.61,\n",
       " 'T30': 3.1,\n",
       " 'T50': 4.32,\n",
       " 'P15': 1.03,\n",
       " 'P30': 3.93,\n",
       " 'BPR': 3.22,\n",
       " 'htBleed': 2.48,\n",
       " 'W31': 2.97,\n",
       " 'W32': 3.01,\n",
       " 'T24_roll_median3': 5.85,\n",
       " 'T30_roll_median3': 4.86,\n",
       " 'P15_roll_median3_lag_1': 1.01,\n",
       " 'htBleed_roll_median3_lag_1': 3.59}"
      ]
     },
     "execution_count": 48,
     "metadata": {
     },
     "output_type": "execute_result"
    }
   ],
   "source": [
    "vifs = {X_train.columns[i]:round(vif(X_train.values, i), 2) for i in range(len(X_train.columns))}\n",
    "display(vifs)"
   ]
  },
  {
   "cell_type": "code",
   "execution_count": 49,
   "metadata": {
    "collapsed": false
   },
   "outputs": [
    {
     "name": "stdout",
     "output_type": "stream",
     "text": [
      "                                 OLS Regression Results                                \n",
      "=======================================================================================\n",
      "Dep. Variable:                    RUL   R-squared (uncentered):                   0.163\n",
      "Model:                            OLS   Adj. R-squared (uncentered):              0.162\n",
      "Method:                 Least Squares   F-statistic:                              303.5\n",
      "Date:                Thu, 25 Nov 2021   Prob (F-statistic):                        0.00\n",
      "Time:                        01:28:55   Log-Likelihood:                     -1.2542e+05\n",
      "No. Observations:               20331   AIC:                                  2.509e+05\n",
      "Df Residuals:                   20318   BIC:                                  2.510e+05\n",
      "Df Model:                          13                                                  \n",
      "Covariance Type:            nonrobust                                                  \n",
      "==============================================================================================\n",
      "                                 coef    std err          t      P>|t|      [0.025      0.975]\n",
      "----------------------------------------------------------------------------------------------\n",
      "T24                           -1.8273      1.542     -1.185      0.236      -4.849       1.194\n",
      "T30                           -2.1383      1.429     -1.497      0.135      -4.939       0.662\n",
      "T50                           -8.1112      1.686     -4.811      0.000     -11.416      -4.807\n",
      "P15                           -0.1654      0.823     -0.201      0.841      -1.778       1.448\n",
      "P30                            3.7590      1.607      2.338      0.019       0.608       6.910\n",
      "BPR                           -5.5082      1.456     -3.783      0.000      -8.362      -2.654\n",
      "htBleed                       -5.2305      1.278     -4.092      0.000      -7.736      -2.725\n",
      "W31                            4.8643      1.399      3.478      0.001       2.123       7.606\n",
      "W32                            5.8988      1.407      4.192      0.000       3.140       8.657\n",
      "T24_roll_median3              -6.4451      1.961     -3.286      0.001     -10.290      -2.601\n",
      "T30_roll_median3              -7.0519      1.788     -3.945      0.000     -10.556      -3.548\n",
      "P15_roll_median3_lag_1        -0.9521      0.815     -1.169      0.242      -2.549       0.645\n",
      "htBleed_roll_median3_lag_1    -7.6151      1.537     -4.954      0.000     -10.628      -4.602\n",
      "==============================================================================\n",
      "Omnibus:                     3043.944   Durbin-Watson:                   0.013\n",
      "Prob(Omnibus):                  0.000   Jarque-Bera (JB):             5222.371\n",
      "Skew:                           0.991   Prob(JB):                         0.00\n",
      "Kurtosis:                       4.495   Cond. No.                         7.89\n",
      "==============================================================================\n",
      "\n",
      "Notes:\n",
      "[1] R² is computed without centering (uncentered) since the model does not contain a constant.\n",
      "[2] Standard Errors assume that the covariance matrix of the errors is correctly specified.\n"
     ]
    }
   ],
   "source": [
    "model_lr_1 = sm.OLS(y_train,X_train)\n",
    "results = model_lr_1.fit()\n",
    "print(results.summary())"
   ]
  },
  {
   "cell_type": "code",
   "execution_count": 50,
   "metadata": {
    "collapsed": false
   },
   "outputs": [
    {
     "name": "stdout",
     "output_type": "stream",
     "text": [
      "Model r-squared score from test data: -0.0096\n",
      "Mean squared error on test data: 1743.48\n",
      "Root mean squared error on test data: 41.75\n"
     ]
    },
    {
     "data": {
      "image/png": "[encoded data removed]",
      "text/plain": [
       "<Figure size 648x432 with 1 Axes>"
      ]
     },
     "execution_count": 50,
     "metadata": {
      "image/png": {
       "height": 370,
       "width": 556
      }
     },
     "output_type": "execute_result"
    }
   ],
   "source": [
    "#model lr again to see if we've improved over baseline since removing multicollinearity\n",
    "model_lr_2= LinearRegression()\n",
    "model_lr_2.fit(X_train,y_train)\n",
    "\n",
    "my_regression_results(model_lr_2)"
   ]
  },
  {
   "cell_type": "markdown",
   "metadata": {
    "collapsed": false
   },
   "source": [
    "### Multicollinearity Cleanup Results"
   ]
  },
  {
   "cell_type": "code",
   "execution_count": 51,
   "metadata": {
    "collapsed": false
   },
   "outputs": [
    {
     "data": {
      "text/html": [
       "<div>\n",
       "<style scoped>\n",
       "    .dataframe tbody tr th:only-of-type {\n",
       "        vertical-align: middle;\n",
       "    }\n",
       "\n",
       "    .dataframe tbody tr th {\n",
       "        vertical-align: top;\n",
       "    }\n",
       "\n",
       "    .dataframe thead th {\n",
       "        text-align: right;\n",
       "    }\n",
       "</style>\n",
       "<table border=\"1\" class=\"dataframe\">\n",
       "  <thead>\n",
       "    <tr style=\"text-align: right;\">\n",
       "      <th></th>\n",
       "      <th>Algorithm</th>\n",
       "      <th>Data Transformations</th>\n",
       "      <th>Train R-squared</th>\n",
       "      <th>Test R-squared</th>\n",
       "      <th>Test Mean Squared Error</th>\n",
       "      <th>Test Root Mean Squared Error</th>\n",
       "    </tr>\n",
       "  </thead>\n",
       "  <tbody>\n",
       "    <tr>\n",
       "      <th>0</th>\n",
       "      <td>Linear Regression</td>\n",
       "      <td>Addressing Multicollinearity</td>\n",
       "      <td>0.56</td>\n",
       "      <td>-0.01</td>\n",
       "      <td>1743.48</td>\n",
       "      <td>41.75</td>\n",
       "    </tr>\n",
       "  </tbody>\n",
       "</table>\n",
       "</div>"
      ],
      "text/plain": [
       "           Algorithm          Data Transformations  Train R-squared  \\\n",
       "0  Linear Regression  Addressing Multicollinearity             0.56   \n",
       "\n",
       "   Test R-squared  Test Mean Squared Error  Test Root Mean Squared Error  \n",
       "0           -0.01                  1743.48                         41.75  "
      ]
     },
     "execution_count": 51,
     "metadata": {
     },
     "output_type": "execute_result"
    }
   ],
   "source": [
    "d = {'Algorithm' : ['Linear Regression' ]\n",
    "     ,'Data Transformations':['Addressing Multicollinearity']\n",
    "     ,'Train R-squared':[round(model_lr_2.score(X_train,y_train),2)]\n",
    "     ,'Test R-squared':[round(my_short_regression_results(model_lr_2)[0],2)]\n",
    "     ,'Test Mean Squared Error':[round(my_short_regression_results(model_lr_2)[1],2)]\n",
    "     ,'Test Root Mean Squared Error':[round(my_short_regression_results(model_lr_2)[2],2)]}\n",
    "df = pd.DataFrame(data=d)\n",
    "df"
   ]
  },
  {
   "cell_type": "markdown",
   "metadata": {
    "collapsed": false
   },
   "source": [
    "##### Proposal 3: Tune the Hyperparameters on the Tree-based Models"
   ]
  },
  {
   "cell_type": "markdown",
   "metadata": {
    "collapsed": false
   },
   "source": [
    "Due to the fact we now have a large number of variables to contend with, use a Random Search CV process to tune hyperparameters of both the random forest regression and xgboost models. I'll use the following sources as a guide to implementation:\n",
    "* Prescriptive Analytics, Project 2 Hyperparameter Optimization Project P\n",
    "* https://towardsdatascience.com/hyperparameter-tuning-the-random-forest-in-python-using-scikit-learn-28d2aa77dd74\n",
    "* https://www.kaggle.com/jnikhilsai/cross-validation-with-linear-regression\n",
    "\n",
    "Our most useful models have been from the tree-based models run on the dataset with the 10 lags and rolling aggregates. What would happen if we tuned the hyperparmeters? For a direct comparison to past approaches, we must stay consistent with the same X train and X test transformations we had last time we trained these models. \n"
   ]
  },
  {
   "cell_type": "code",
   "execution_count": 27,
   "metadata": {
    "collapsed": false
   },
   "outputs": [
    {
     "data": {
      "text/html": [
       "<div>\n",
       "<style scoped>\n",
       "    .dataframe tbody tr th:only-of-type {\n",
       "        vertical-align: middle;\n",
       "    }\n",
       "\n",
       "    .dataframe tbody tr th {\n",
       "        vertical-align: top;\n",
       "    }\n",
       "\n",
       "    .dataframe thead th {\n",
       "        text-align: right;\n",
       "    }\n",
       "</style>\n",
       "<table border=\"1\" class=\"dataframe\">\n",
       "  <thead>\n",
       "    <tr style=\"text-align: right;\">\n",
       "      <th></th>\n",
       "      <th>T24</th>\n",
       "      <th>T30</th>\n",
       "      <th>T50</th>\n",
       "      <th>P15</th>\n",
       "      <th>P30</th>\n",
       "      <th>Ps30</th>\n",
       "      <th>phi</th>\n",
       "      <th>NRc</th>\n",
       "      <th>BPR</th>\n",
       "      <th>htBleed</th>\n",
       "      <th>...</th>\n",
       "      <th>P30_roll_median3_lag_10</th>\n",
       "      <th>Ps30_roll_median3_lag_10</th>\n",
       "      <th>phi_roll_median3_lag_10</th>\n",
       "      <th>NRc_roll_median3_lag_10</th>\n",
       "      <th>BPR_roll_median3_lag_10</th>\n",
       "      <th>htBleed_roll_median3_lag_10</th>\n",
       "      <th>W31_roll_median3_lag_10</th>\n",
       "      <th>W32_roll_median3_lag_10</th>\n",
       "      <th>Nf_diff_roll_median3_lag_10</th>\n",
       "      <th>NRf_diff_roll_median3_lag_10</th>\n",
       "    </tr>\n",
       "  </thead>\n",
       "  <tbody>\n",
       "    <tr>\n",
       "      <th>10</th>\n",
       "      <td>643.07</td>\n",
       "      <td>1582.19</td>\n",
       "      <td>1400.83</td>\n",
       "      <td>21.61</td>\n",
       "      <td>553.44</td>\n",
       "      <td>47.38</td>\n",
       "      <td>521.85</td>\n",
       "      <td>8128.10</td>\n",
       "      <td>8.4152</td>\n",
       "      <td>393</td>\n",
       "      <td>...</td>\n",
       "      <td>554.26</td>\n",
       "      <td>47.47</td>\n",
       "      <td>522.28</td>\n",
       "      <td>8133.23</td>\n",
       "      <td>8.4195</td>\n",
       "      <td>392.0</td>\n",
       "      <td>39.00</td>\n",
       "      <td>23.4190</td>\n",
       "      <td>0.06</td>\n",
       "      <td>2288.03</td>\n",
       "    </tr>\n",
       "    <tr>\n",
       "      <th>11</th>\n",
       "      <td>642.35</td>\n",
       "      <td>1592.95</td>\n",
       "      <td>1399.16</td>\n",
       "      <td>21.61</td>\n",
       "      <td>554.48</td>\n",
       "      <td>47.44</td>\n",
       "      <td>521.67</td>\n",
       "      <td>8134.43</td>\n",
       "      <td>8.3964</td>\n",
       "      <td>393</td>\n",
       "      <td>...</td>\n",
       "      <td>554.26</td>\n",
       "      <td>47.27</td>\n",
       "      <td>522.42</td>\n",
       "      <td>8133.23</td>\n",
       "      <td>8.4178</td>\n",
       "      <td>392.0</td>\n",
       "      <td>38.95</td>\n",
       "      <td>23.3739</td>\n",
       "      <td>0.08</td>\n",
       "      <td>2288.07</td>\n",
       "    </tr>\n",
       "    <tr>\n",
       "      <th>12</th>\n",
       "      <td>642.43</td>\n",
       "      <td>1583.82</td>\n",
       "      <td>1402.13</td>\n",
       "      <td>21.61</td>\n",
       "      <td>553.64</td>\n",
       "      <td>47.30</td>\n",
       "      <td>522.50</td>\n",
       "      <td>8127.56</td>\n",
       "      <td>8.4199</td>\n",
       "      <td>391</td>\n",
       "      <td>...</td>\n",
       "      <td>554.26</td>\n",
       "      <td>47.27</td>\n",
       "      <td>522.42</td>\n",
       "      <td>8133.80</td>\n",
       "      <td>8.4178</td>\n",
       "      <td>392.0</td>\n",
       "      <td>38.90</td>\n",
       "      <td>23.3739</td>\n",
       "      <td>0.08</td>\n",
       "      <td>2288.04</td>\n",
       "    </tr>\n",
       "    <tr>\n",
       "      <th>13</th>\n",
       "      <td>642.13</td>\n",
       "      <td>1587.98</td>\n",
       "      <td>1404.50</td>\n",
       "      <td>21.61</td>\n",
       "      <td>553.94</td>\n",
       "      <td>47.24</td>\n",
       "      <td>521.49</td>\n",
       "      <td>8136.11</td>\n",
       "      <td>8.3936</td>\n",
       "      <td>392</td>\n",
       "      <td>...</td>\n",
       "      <td>554.45</td>\n",
       "      <td>47.16</td>\n",
       "      <td>522.19</td>\n",
       "      <td>8133.80</td>\n",
       "      <td>8.4108</td>\n",
       "      <td>392.0</td>\n",
       "      <td>38.90</td>\n",
       "      <td>23.3739</td>\n",
       "      <td>0.06</td>\n",
       "      <td>2288.04</td>\n",
       "    </tr>\n",
       "    <tr>\n",
       "      <th>14</th>\n",
       "      <td>642.58</td>\n",
       "      <td>1584.96</td>\n",
       "      <td>1399.95</td>\n",
       "      <td>21.61</td>\n",
       "      <td>553.80</td>\n",
       "      <td>47.12</td>\n",
       "      <td>521.89</td>\n",
       "      <td>8137.27</td>\n",
       "      <td>8.4542</td>\n",
       "      <td>392</td>\n",
       "      <td>...</td>\n",
       "      <td>554.34</td>\n",
       "      <td>47.28</td>\n",
       "      <td>522.19</td>\n",
       "      <td>8132.85</td>\n",
       "      <td>8.4108</td>\n",
       "      <td>392.0</td>\n",
       "      <td>38.98</td>\n",
       "      <td>23.3774</td>\n",
       "      <td>0.02</td>\n",
       "      <td>2288.03</td>\n",
       "    </tr>\n",
       "  </tbody>\n",
       "</table>\n",
       "<p>5 rows × 168 columns</p>\n",
       "</div>"
      ],
      "text/plain": [
       "       T24      T30      T50    P15     P30   Ps30     phi      NRc     BPR  \\\n",
       "10  643.07  1582.19  1400.83  21.61  553.44  47.38  521.85  8128.10  8.4152   \n",
       "11  642.35  1592.95  1399.16  21.61  554.48  47.44  521.67  8134.43  8.3964   \n",
       "12  642.43  1583.82  1402.13  21.61  553.64  47.30  522.50  8127.56  8.4199   \n",
       "13  642.13  1587.98  1404.50  21.61  553.94  47.24  521.49  8136.11  8.3936   \n",
       "14  642.58  1584.96  1399.95  21.61  553.80  47.12  521.89  8137.27  8.4542   \n",
       "\n",
       "    htBleed  ...  P30_roll_median3_lag_10  Ps30_roll_median3_lag_10  \\\n",
       "10      393  ...                   554.26                     47.47   \n",
       "11      393  ...                   554.26                     47.27   \n",
       "12      391  ...                   554.26                     47.27   \n",
       "13      392  ...                   554.45                     47.16   \n",
       "14      392  ...                   554.34                     47.28   \n",
       "\n",
       "    phi_roll_median3_lag_10  NRc_roll_median3_lag_10  BPR_roll_median3_lag_10  \\\n",
       "10                   522.28                  8133.23                   8.4195   \n",
       "11                   522.42                  8133.23                   8.4178   \n",
       "12                   522.42                  8133.80                   8.4178   \n",
       "13                   522.19                  8133.80                   8.4108   \n",
       "14                   522.19                  8132.85                   8.4108   \n",
       "\n",
       "    htBleed_roll_median3_lag_10  W31_roll_median3_lag_10  \\\n",
       "10                        392.0                    39.00   \n",
       "11                        392.0                    38.95   \n",
       "12                        392.0                    38.90   \n",
       "13                        392.0                    38.90   \n",
       "14                        392.0                    38.98   \n",
       "\n",
       "    W32_roll_median3_lag_10  Nf_diff_roll_median3_lag_10  \\\n",
       "10                  23.4190                         0.06   \n",
       "11                  23.3739                         0.08   \n",
       "12                  23.3739                         0.08   \n",
       "13                  23.3739                         0.06   \n",
       "14                  23.3774                         0.02   \n",
       "\n",
       "    NRf_diff_roll_median3_lag_10  \n",
       "10                       2288.03  \n",
       "11                       2288.07  \n",
       "12                       2288.04  \n",
       "13                       2288.04  \n",
       "14                       2288.03  \n",
       "\n",
       "[5 rows x 168 columns]"
      ]
     },
     "execution_count": 27,
     "metadata": {
     },
     "output_type": "execute_result"
    }
   ],
   "source": [
    "X_train.head()"
   ]
  },
  {
   "cell_type": "code",
   "execution_count": 28,
   "metadata": {
    "collapsed": false
   },
   "outputs": [
    {
     "data": {
      "text/html": [
       "<div>\n",
       "<style scoped>\n",
       "    .dataframe tbody tr th:only-of-type {\n",
       "        vertical-align: middle;\n",
       "    }\n",
       "\n",
       "    .dataframe tbody tr th {\n",
       "        vertical-align: top;\n",
       "    }\n",
       "\n",
       "    .dataframe thead th {\n",
       "        text-align: right;\n",
       "    }\n",
       "</style>\n",
       "<table border=\"1\" class=\"dataframe\">\n",
       "  <thead>\n",
       "    <tr style=\"text-align: right;\">\n",
       "      <th></th>\n",
       "      <th>T24</th>\n",
       "      <th>T30</th>\n",
       "      <th>T50</th>\n",
       "      <th>P15</th>\n",
       "      <th>P30</th>\n",
       "      <th>Ps30</th>\n",
       "      <th>phi</th>\n",
       "      <th>NRc</th>\n",
       "      <th>BPR</th>\n",
       "      <th>htBleed</th>\n",
       "      <th>...</th>\n",
       "      <th>P30_roll_median3_lag_10</th>\n",
       "      <th>Ps30_roll_median3_lag_10</th>\n",
       "      <th>phi_roll_median3_lag_10</th>\n",
       "      <th>NRc_roll_median3_lag_10</th>\n",
       "      <th>BPR_roll_median3_lag_10</th>\n",
       "      <th>htBleed_roll_median3_lag_10</th>\n",
       "      <th>W31_roll_median3_lag_10</th>\n",
       "      <th>W32_roll_median3_lag_10</th>\n",
       "      <th>Nf_diff_roll_median3_lag_10</th>\n",
       "      <th>NRf_diff_roll_median3_lag_10</th>\n",
       "    </tr>\n",
       "  </thead>\n",
       "  <tbody>\n",
       "    <tr>\n",
       "      <th>0</th>\n",
       "      <td>642.58</td>\n",
       "      <td>1581.22</td>\n",
       "      <td>1398.91</td>\n",
       "      <td>21.61</td>\n",
       "      <td>554.42</td>\n",
       "      <td>47.23</td>\n",
       "      <td>521.79</td>\n",
       "      <td>8130.11</td>\n",
       "      <td>8.4024</td>\n",
       "      <td>393</td>\n",
       "      <td>...</td>\n",
       "      <td>554.31</td>\n",
       "      <td>47.36</td>\n",
       "      <td>522.06</td>\n",
       "      <td>8128.59</td>\n",
       "      <td>8.4099</td>\n",
       "      <td>392.0</td>\n",
       "      <td>39.00</td>\n",
       "      <td>23.3809</td>\n",
       "      <td>0.05</td>\n",
       "      <td>2288.05</td>\n",
       "    </tr>\n",
       "    <tr>\n",
       "      <th>1</th>\n",
       "      <td>642.55</td>\n",
       "      <td>1586.59</td>\n",
       "      <td>1410.83</td>\n",
       "      <td>21.61</td>\n",
       "      <td>553.52</td>\n",
       "      <td>47.67</td>\n",
       "      <td>521.74</td>\n",
       "      <td>8126.90</td>\n",
       "      <td>8.4505</td>\n",
       "      <td>391</td>\n",
       "      <td>...</td>\n",
       "      <td>553.49</td>\n",
       "      <td>47.50</td>\n",
       "      <td>521.74</td>\n",
       "      <td>8128.53</td>\n",
       "      <td>8.4363</td>\n",
       "      <td>393.0</td>\n",
       "      <td>38.81</td>\n",
       "      <td>23.3072</td>\n",
       "      <td>0.10</td>\n",
       "      <td>2288.13</td>\n",
       "    </tr>\n",
       "    <tr>\n",
       "      <th>2</th>\n",
       "      <td>642.88</td>\n",
       "      <td>1589.75</td>\n",
       "      <td>1418.89</td>\n",
       "      <td>21.61</td>\n",
       "      <td>552.59</td>\n",
       "      <td>47.88</td>\n",
       "      <td>520.83</td>\n",
       "      <td>8131.46</td>\n",
       "      <td>8.4119</td>\n",
       "      <td>395</td>\n",
       "      <td>...</td>\n",
       "      <td>553.41</td>\n",
       "      <td>47.68</td>\n",
       "      <td>521.06</td>\n",
       "      <td>8131.67</td>\n",
       "      <td>8.4621</td>\n",
       "      <td>393.0</td>\n",
       "      <td>38.85</td>\n",
       "      <td>23.2683</td>\n",
       "      <td>0.14</td>\n",
       "      <td>2288.17</td>\n",
       "    </tr>\n",
       "    <tr>\n",
       "      <th>3</th>\n",
       "      <td>642.78</td>\n",
       "      <td>1594.53</td>\n",
       "      <td>1406.88</td>\n",
       "      <td>21.61</td>\n",
       "      <td>552.64</td>\n",
       "      <td>47.65</td>\n",
       "      <td>521.88</td>\n",
       "      <td>8133.64</td>\n",
       "      <td>8.4634</td>\n",
       "      <td>395</td>\n",
       "      <td>...</td>\n",
       "      <td>553.18</td>\n",
       "      <td>47.58</td>\n",
       "      <td>521.59</td>\n",
       "      <td>8128.48</td>\n",
       "      <td>8.4347</td>\n",
       "      <td>393.0</td>\n",
       "      <td>38.79</td>\n",
       "      <td>23.2455</td>\n",
       "      <td>0.10</td>\n",
       "      <td>2288.14</td>\n",
       "    </tr>\n",
       "    <tr>\n",
       "      <th>4</th>\n",
       "      <td>642.27</td>\n",
       "      <td>1589.94</td>\n",
       "      <td>1419.36</td>\n",
       "      <td>21.61</td>\n",
       "      <td>553.29</td>\n",
       "      <td>47.46</td>\n",
       "      <td>521.00</td>\n",
       "      <td>8125.74</td>\n",
       "      <td>8.4362</td>\n",
       "      <td>394</td>\n",
       "      <td>...</td>\n",
       "      <td>553.08</td>\n",
       "      <td>47.66</td>\n",
       "      <td>521.20</td>\n",
       "      <td>8131.07</td>\n",
       "      <td>8.4380</td>\n",
       "      <td>393.0</td>\n",
       "      <td>38.78</td>\n",
       "      <td>23.2643</td>\n",
       "      <td>0.08</td>\n",
       "      <td>2288.12</td>\n",
       "    </tr>\n",
       "  </tbody>\n",
       "</table>\n",
       "<p>5 rows × 168 columns</p>\n",
       "</div>"
      ],
      "text/plain": [
       "      T24      T30      T50    P15     P30   Ps30     phi      NRc     BPR  \\\n",
       "0  642.58  1581.22  1398.91  21.61  554.42  47.23  521.79  8130.11  8.4024   \n",
       "1  642.55  1586.59  1410.83  21.61  553.52  47.67  521.74  8126.90  8.4505   \n",
       "2  642.88  1589.75  1418.89  21.61  552.59  47.88  520.83  8131.46  8.4119   \n",
       "3  642.78  1594.53  1406.88  21.61  552.64  47.65  521.88  8133.64  8.4634   \n",
       "4  642.27  1589.94  1419.36  21.61  553.29  47.46  521.00  8125.74  8.4362   \n",
       "\n",
       "   htBleed  ...  P30_roll_median3_lag_10  Ps30_roll_median3_lag_10  \\\n",
       "0      393  ...                   554.31                     47.36   \n",
       "1      391  ...                   553.49                     47.50   \n",
       "2      395  ...                   553.41                     47.68   \n",
       "3      395  ...                   553.18                     47.58   \n",
       "4      394  ...                   553.08                     47.66   \n",
       "\n",
       "   phi_roll_median3_lag_10  NRc_roll_median3_lag_10  BPR_roll_median3_lag_10  \\\n",
       "0                   522.06                  8128.59                   8.4099   \n",
       "1                   521.74                  8128.53                   8.4363   \n",
       "2                   521.06                  8131.67                   8.4621   \n",
       "3                   521.59                  8128.48                   8.4347   \n",
       "4                   521.20                  8131.07                   8.4380   \n",
       "\n",
       "   htBleed_roll_median3_lag_10  W31_roll_median3_lag_10  \\\n",
       "0                        392.0                    39.00   \n",
       "1                        393.0                    38.81   \n",
       "2                        393.0                    38.85   \n",
       "3                        393.0                    38.79   \n",
       "4                        393.0                    38.78   \n",
       "\n",
       "   W32_roll_median3_lag_10  Nf_diff_roll_median3_lag_10  \\\n",
       "0                  23.3809                         0.05   \n",
       "1                  23.3072                         0.10   \n",
       "2                  23.2683                         0.14   \n",
       "3                  23.2455                         0.10   \n",
       "4                  23.2643                         0.08   \n",
       "\n",
       "   NRf_diff_roll_median3_lag_10  \n",
       "0                       2288.05  \n",
       "1                       2288.13  \n",
       "2                       2288.17  \n",
       "3                       2288.14  \n",
       "4                       2288.12  \n",
       "\n",
       "[5 rows x 168 columns]"
      ]
     },
     "execution_count": 28,
     "metadata": {
     },
     "output_type": "execute_result"
    }
   ],
   "source": [
    "X_test.head()"
   ]
  },
  {
   "cell_type": "code",
   "execution_count": 32,
   "metadata": {
    "collapsed": false
   },
   "outputs": [
    {
     "name": "stdout",
     "output_type": "stream",
     "text": [
      "{'bootstrap': True,\n",
      " 'ccp_alpha': 0.0,\n",
      " 'criterion': 'mse',\n",
      " 'max_depth': None,\n",
      " 'max_features': 'auto',\n",
      " 'max_leaf_nodes': None,\n",
      " 'max_samples': None,\n",
      " 'min_impurity_decrease': 0.0,\n",
      " 'min_impurity_split': None,\n",
      " 'min_samples_leaf': 1,\n",
      " 'min_samples_split': 2,\n",
      " 'min_weight_fraction_leaf': 0.0,\n",
      " 'n_estimators': 100,\n",
      " 'n_jobs': None,\n",
      " 'oob_score': False,\n",
      " 'random_state': 0,\n",
      " 'verbose': 0,\n",
      " 'warm_start': False}\n"
     ]
    }
   ],
   "source": [
    "#from pprint import pprint\n",
    "pprint(rf_model.get_params())"
   ]
  },
  {
   "cell_type": "code",
   "execution_count": 35,
   "metadata": {
    "collapsed": false
   },
   "outputs": [
    {
     "name": "stdout",
     "output_type": "stream",
     "text": [
      "Fitting 5 folds for each of 10 candidates, totalling 50 fits\n",
      "[CV 1/5; 1/10] START bootstrap=False, max_depth=40, max_features=auto, min_samples_leaf=1, min_samples_split=2, n_estimators=200\n"
     ]
    },
    {
     "ename": "KeyboardInterrupt",
     "evalue": "",
     "output_type": "error",
     "traceback": [
      "\u001b[0;31m---------------------------------------------------------------------------\u001b[0m",
      "\u001b[0;31mKeyboardInterrupt\u001b[0m                         Traceback (most recent call last)",
      "\u001b[0;32m/tmp/ipykernel_900/2592841226.py\u001b[0m in \u001b[0;36m<module>\u001b[0;34m\u001b[0m\n\u001b[1;32m     34\u001b[0m     return_train_score=True)\n\u001b[1;32m     35\u001b[0m \u001b[0;34m\u001b[0m\u001b[0m\n\u001b[0;32m---> 36\u001b[0;31m \u001b[0mrandom_search_rf\u001b[0m\u001b[0;34m.\u001b[0m\u001b[0mfit\u001b[0m\u001b[0;34m(\u001b[0m\u001b[0mX_train\u001b[0m\u001b[0;34m,\u001b[0m \u001b[0my_train\u001b[0m\u001b[0;34m)\u001b[0m\u001b[0;34m\u001b[0m\u001b[0;34m\u001b[0m\u001b[0m\n\u001b[0m",
      "\u001b[0;32m/usr/local/lib/python3.8/dist-packages/sklearn/utils/validation.py\u001b[0m in \u001b[0;36minner_f\u001b[0;34m(*args, **kwargs)\u001b[0m\n\u001b[1;32m     61\u001b[0m             \u001b[0mextra_args\u001b[0m \u001b[0;34m=\u001b[0m \u001b[0mlen\u001b[0m\u001b[0;34m(\u001b[0m\u001b[0margs\u001b[0m\u001b[0;34m)\u001b[0m \u001b[0;34m-\u001b[0m \u001b[0mlen\u001b[0m\u001b[0;34m(\u001b[0m\u001b[0mall_args\u001b[0m\u001b[0;34m)\u001b[0m\u001b[0;34m\u001b[0m\u001b[0;34m\u001b[0m\u001b[0m\n\u001b[1;32m     62\u001b[0m             \u001b[0;32mif\u001b[0m \u001b[0mextra_args\u001b[0m \u001b[0;34m<=\u001b[0m \u001b[0;36m0\u001b[0m\u001b[0;34m:\u001b[0m\u001b[0;34m\u001b[0m\u001b[0;34m\u001b[0m\u001b[0m\n\u001b[0;32m---> 63\u001b[0;31m                 \u001b[0;32mreturn\u001b[0m \u001b[0mf\u001b[0m\u001b[0;34m(\u001b[0m\u001b[0;34m*\u001b[0m\u001b[0margs\u001b[0m\u001b[0;34m,\u001b[0m \u001b[0;34m**\u001b[0m\u001b[0mkwargs\u001b[0m\u001b[0;34m)\u001b[0m\u001b[0;34m\u001b[0m\u001b[0;34m\u001b[0m\u001b[0m\n\u001b[0m\u001b[1;32m     64\u001b[0m \u001b[0;34m\u001b[0m\u001b[0m\n\u001b[1;32m     65\u001b[0m             \u001b[0;31m# extra_args > 0\u001b[0m\u001b[0;34m\u001b[0m\u001b[0;34m\u001b[0m\u001b[0;34m\u001b[0m\u001b[0m\n",
      "\u001b[0;32m/usr/local/lib/python3.8/dist-packages/sklearn/model_selection/_search.py\u001b[0m in \u001b[0;36mfit\u001b[0;34m(self, X, y, groups, **fit_params)\u001b[0m\n\u001b[1;32m    839\u001b[0m                 \u001b[0;32mreturn\u001b[0m \u001b[0mresults\u001b[0m\u001b[0;34m\u001b[0m\u001b[0;34m\u001b[0m\u001b[0m\n\u001b[1;32m    840\u001b[0m \u001b[0;34m\u001b[0m\u001b[0m\n\u001b[0;32m--> 841\u001b[0;31m             \u001b[0mself\u001b[0m\u001b[0;34m.\u001b[0m\u001b[0m_run_search\u001b[0m\u001b[0;34m(\u001b[0m\u001b[0mevaluate_candidates\u001b[0m\u001b[0;34m)\u001b[0m\u001b[0;34m\u001b[0m\u001b[0;34m\u001b[0m\u001b[0m\n\u001b[0m\u001b[1;32m    842\u001b[0m \u001b[0;34m\u001b[0m\u001b[0m\n\u001b[1;32m    843\u001b[0m             \u001b[0;31m# multimetric is determined here because in the case of a callable\u001b[0m\u001b[0;34m\u001b[0m\u001b[0;34m\u001b[0m\u001b[0;34m\u001b[0m\u001b[0m\n",
      "\u001b[0;32m/usr/local/lib/python3.8/dist-packages/sklearn/model_selection/_search.py\u001b[0m in \u001b[0;36m_run_search\u001b[0;34m(self, evaluate_candidates)\u001b[0m\n\u001b[1;32m   1631\u001b[0m     \u001b[0;32mdef\u001b[0m \u001b[0m_run_search\u001b[0m\u001b[0;34m(\u001b[0m\u001b[0mself\u001b[0m\u001b[0;34m,\u001b[0m \u001b[0mevaluate_candidates\u001b[0m\u001b[0;34m)\u001b[0m\u001b[0;34m:\u001b[0m\u001b[0;34m\u001b[0m\u001b[0;34m\u001b[0m\u001b[0m\n\u001b[1;32m   1632\u001b[0m         \u001b[0;34m\"\"\"Search n_iter candidates from param_distributions\"\"\"\u001b[0m\u001b[0;34m\u001b[0m\u001b[0;34m\u001b[0m\u001b[0m\n\u001b[0;32m-> 1633\u001b[0;31m         evaluate_candidates(ParameterSampler(\n\u001b[0m\u001b[1;32m   1634\u001b[0m             \u001b[0mself\u001b[0m\u001b[0;34m.\u001b[0m\u001b[0mparam_distributions\u001b[0m\u001b[0;34m,\u001b[0m \u001b[0mself\u001b[0m\u001b[0;34m.\u001b[0m\u001b[0mn_iter\u001b[0m\u001b[0;34m,\u001b[0m\u001b[0;34m\u001b[0m\u001b[0;34m\u001b[0m\u001b[0m\n\u001b[1;32m   1635\u001b[0m             random_state=self.random_state))\n",
      "\u001b[0;32m/usr/local/lib/python3.8/dist-packages/sklearn/model_selection/_search.py\u001b[0m in \u001b[0;36mevaluate_candidates\u001b[0;34m(candidate_params, cv, more_results)\u001b[0m\n\u001b[1;32m    793\u001b[0m                               n_splits, n_candidates, n_candidates * n_splits))\n\u001b[1;32m    794\u001b[0m \u001b[0;34m\u001b[0m\u001b[0m\n\u001b[0;32m--> 795\u001b[0;31m                 out = parallel(delayed(_fit_and_score)(clone(base_estimator),\n\u001b[0m\u001b[1;32m    796\u001b[0m                                                        \u001b[0mX\u001b[0m\u001b[0;34m,\u001b[0m \u001b[0my\u001b[0m\u001b[0;34m,\u001b[0m\u001b[0;34m\u001b[0m\u001b[0;34m\u001b[0m\u001b[0m\n\u001b[1;32m    797\u001b[0m                                                        \u001b[0mtrain\u001b[0m\u001b[0;34m=\u001b[0m\u001b[0mtrain\u001b[0m\u001b[0;34m,\u001b[0m \u001b[0mtest\u001b[0m\u001b[0;34m=\u001b[0m\u001b[0mtest\u001b[0m\u001b[0;34m,\u001b[0m\u001b[0;34m\u001b[0m\u001b[0;34m\u001b[0m\u001b[0m\n",
      "\u001b[0;32m/usr/local/lib/python3.8/dist-packages/joblib/parallel.py\u001b[0m in \u001b[0;36m__call__\u001b[0;34m(self, iterable)\u001b[0m\n\u001b[1;32m   1039\u001b[0m             \u001b[0;31m# remaining jobs.\u001b[0m\u001b[0;34m\u001b[0m\u001b[0;34m\u001b[0m\u001b[0;34m\u001b[0m\u001b[0m\n\u001b[1;32m   1040\u001b[0m             \u001b[0mself\u001b[0m\u001b[0;34m.\u001b[0m\u001b[0m_iterating\u001b[0m \u001b[0;34m=\u001b[0m \u001b[0;32mFalse\u001b[0m\u001b[0;34m\u001b[0m\u001b[0;34m\u001b[0m\u001b[0m\n\u001b[0;32m-> 1041\u001b[0;31m             \u001b[0;32mif\u001b[0m \u001b[0mself\u001b[0m\u001b[0;34m.\u001b[0m\u001b[0mdispatch_one_batch\u001b[0m\u001b[0;34m(\u001b[0m\u001b[0miterator\u001b[0m\u001b[0;34m)\u001b[0m\u001b[0;34m:\u001b[0m\u001b[0;34m\u001b[0m\u001b[0;34m\u001b[0m\u001b[0m\n\u001b[0m\u001b[1;32m   1042\u001b[0m                 \u001b[0mself\u001b[0m\u001b[0;34m.\u001b[0m\u001b[0m_iterating\u001b[0m \u001b[0;34m=\u001b[0m \u001b[0mself\u001b[0m\u001b[0;34m.\u001b[0m\u001b[0m_original_iterator\u001b[0m \u001b[0;32mis\u001b[0m \u001b[0;32mnot\u001b[0m \u001b[0;32mNone\u001b[0m\u001b[0;34m\u001b[0m\u001b[0;34m\u001b[0m\u001b[0m\n\u001b[1;32m   1043\u001b[0m \u001b[0;34m\u001b[0m\u001b[0m\n",
      "\u001b[0;32m/usr/local/lib/python3.8/dist-packages/joblib/parallel.py\u001b[0m in \u001b[0;36mdispatch_one_batch\u001b[0;34m(self, iterator)\u001b[0m\n\u001b[1;32m    857\u001b[0m                 \u001b[0;32mreturn\u001b[0m \u001b[0;32mFalse\u001b[0m\u001b[0;34m\u001b[0m\u001b[0;34m\u001b[0m\u001b[0m\n\u001b[1;32m    858\u001b[0m             \u001b[0;32melse\u001b[0m\u001b[0;34m:\u001b[0m\u001b[0;34m\u001b[0m\u001b[0;34m\u001b[0m\u001b[0m\n\u001b[0;32m--> 859\u001b[0;31m                 \u001b[0mself\u001b[0m\u001b[0;34m.\u001b[0m\u001b[0m_dispatch\u001b[0m\u001b[0;34m(\u001b[0m\u001b[0mtasks\u001b[0m\u001b[0;34m)\u001b[0m\u001b[0;34m\u001b[0m\u001b[0;34m\u001b[0m\u001b[0m\n\u001b[0m\u001b[1;32m    860\u001b[0m                 \u001b[0;32mreturn\u001b[0m \u001b[0;32mTrue\u001b[0m\u001b[0;34m\u001b[0m\u001b[0;34m\u001b[0m\u001b[0m\n\u001b[1;32m    861\u001b[0m \u001b[0;34m\u001b[0m\u001b[0m\n",
      "\u001b[0;32m/usr/local/lib/python3.8/dist-packages/joblib/parallel.py\u001b[0m in \u001b[0;36m_dispatch\u001b[0;34m(self, batch)\u001b[0m\n\u001b[1;32m    775\u001b[0m         \u001b[0;32mwith\u001b[0m \u001b[0mself\u001b[0m\u001b[0;34m.\u001b[0m\u001b[0m_lock\u001b[0m\u001b[0;34m:\u001b[0m\u001b[0;34m\u001b[0m\u001b[0;34m\u001b[0m\u001b[0m\n\u001b[1;32m    776\u001b[0m             \u001b[0mjob_idx\u001b[0m \u001b[0;34m=\u001b[0m \u001b[0mlen\u001b[0m\u001b[0;34m(\u001b[0m\u001b[0mself\u001b[0m\u001b[0;34m.\u001b[0m\u001b[0m_jobs\u001b[0m\u001b[0;34m)\u001b[0m\u001b[0;34m\u001b[0m\u001b[0;34m\u001b[0m\u001b[0m\n\u001b[0;32m--> 777\u001b[0;31m             \u001b[0mjob\u001b[0m \u001b[0;34m=\u001b[0m \u001b[0mself\u001b[0m\u001b[0;34m.\u001b[0m\u001b[0m_backend\u001b[0m\u001b[0;34m.\u001b[0m\u001b[0mapply_async\u001b[0m\u001b[0;34m(\u001b[0m\u001b[0mbatch\u001b[0m\u001b[0;34m,\u001b[0m \u001b[0mcallback\u001b[0m\u001b[0;34m=\u001b[0m\u001b[0mcb\u001b[0m\u001b[0;34m)\u001b[0m\u001b[0;34m\u001b[0m\u001b[0;34m\u001b[0m\u001b[0m\n\u001b[0m\u001b[1;32m    778\u001b[0m             \u001b[0;31m# A job can complete so quickly than its callback is\u001b[0m\u001b[0;34m\u001b[0m\u001b[0;34m\u001b[0m\u001b[0;34m\u001b[0m\u001b[0m\n\u001b[1;32m    779\u001b[0m             \u001b[0;31m# called before we get here, causing self._jobs to\u001b[0m\u001b[0;34m\u001b[0m\u001b[0;34m\u001b[0m\u001b[0;34m\u001b[0m\u001b[0m\n",
      "\u001b[0;32m/usr/local/lib/python3.8/dist-packages/joblib/_parallel_backends.py\u001b[0m in \u001b[0;36mapply_async\u001b[0;34m(self, func, callback)\u001b[0m\n\u001b[1;32m    206\u001b[0m     \u001b[0;32mdef\u001b[0m \u001b[0mapply_async\u001b[0m\u001b[0;34m(\u001b[0m\u001b[0mself\u001b[0m\u001b[0;34m,\u001b[0m \u001b[0mfunc\u001b[0m\u001b[0;34m,\u001b[0m \u001b[0mcallback\u001b[0m\u001b[0;34m=\u001b[0m\u001b[0;32mNone\u001b[0m\u001b[0;34m)\u001b[0m\u001b[0;34m:\u001b[0m\u001b[0;34m\u001b[0m\u001b[0;34m\u001b[0m\u001b[0m\n\u001b[1;32m    207\u001b[0m         \u001b[0;34m\"\"\"Schedule a func to be run\"\"\"\u001b[0m\u001b[0;34m\u001b[0m\u001b[0;34m\u001b[0m\u001b[0m\n\u001b[0;32m--> 208\u001b[0;31m         \u001b[0mresult\u001b[0m \u001b[0;34m=\u001b[0m \u001b[0mImmediateResult\u001b[0m\u001b[0;34m(\u001b[0m\u001b[0mfunc\u001b[0m\u001b[0;34m)\u001b[0m\u001b[0;34m\u001b[0m\u001b[0;34m\u001b[0m\u001b[0m\n\u001b[0m\u001b[1;32m    209\u001b[0m         \u001b[0;32mif\u001b[0m \u001b[0mcallback\u001b[0m\u001b[0;34m:\u001b[0m\u001b[0;34m\u001b[0m\u001b[0;34m\u001b[0m\u001b[0m\n\u001b[1;32m    210\u001b[0m             \u001b[0mcallback\u001b[0m\u001b[0;34m(\u001b[0m\u001b[0mresult\u001b[0m\u001b[0;34m)\u001b[0m\u001b[0;34m\u001b[0m\u001b[0;34m\u001b[0m\u001b[0m\n",
      "\u001b[0;32m/usr/local/lib/python3.8/dist-packages/joblib/_parallel_backends.py\u001b[0m in \u001b[0;36m__init__\u001b[0;34m(self, batch)\u001b[0m\n\u001b[1;32m    570\u001b[0m         \u001b[0;31m# Don't delay the application, to avoid keeping the input\u001b[0m\u001b[0;34m\u001b[0m\u001b[0;34m\u001b[0m\u001b[0;34m\u001b[0m\u001b[0m\n\u001b[1;32m    571\u001b[0m         \u001b[0;31m# arguments in memory\u001b[0m\u001b[0;34m\u001b[0m\u001b[0;34m\u001b[0m\u001b[0;34m\u001b[0m\u001b[0m\n\u001b[0;32m--> 572\u001b[0;31m         \u001b[0mself\u001b[0m\u001b[0;34m.\u001b[0m\u001b[0mresults\u001b[0m \u001b[0;34m=\u001b[0m \u001b[0mbatch\u001b[0m\u001b[0;34m(\u001b[0m\u001b[0;34m)\u001b[0m\u001b[0;34m\u001b[0m\u001b[0;34m\u001b[0m\u001b[0m\n\u001b[0m\u001b[1;32m    573\u001b[0m \u001b[0;34m\u001b[0m\u001b[0m\n\u001b[1;32m    574\u001b[0m     \u001b[0;32mdef\u001b[0m \u001b[0mget\u001b[0m\u001b[0;34m(\u001b[0m\u001b[0mself\u001b[0m\u001b[0;34m)\u001b[0m\u001b[0;34m:\u001b[0m\u001b[0;34m\u001b[0m\u001b[0;34m\u001b[0m\u001b[0m\n",
      "\u001b[0;32m/usr/local/lib/python3.8/dist-packages/joblib/parallel.py\u001b[0m in \u001b[0;36m__call__\u001b[0;34m(self)\u001b[0m\n\u001b[1;32m    260\u001b[0m         \u001b[0;31m# change the default number of processes to -1\u001b[0m\u001b[0;34m\u001b[0m\u001b[0;34m\u001b[0m\u001b[0;34m\u001b[0m\u001b[0m\n\u001b[1;32m    261\u001b[0m         \u001b[0;32mwith\u001b[0m \u001b[0mparallel_backend\u001b[0m\u001b[0;34m(\u001b[0m\u001b[0mself\u001b[0m\u001b[0;34m.\u001b[0m\u001b[0m_backend\u001b[0m\u001b[0;34m,\u001b[0m \u001b[0mn_jobs\u001b[0m\u001b[0;34m=\u001b[0m\u001b[0mself\u001b[0m\u001b[0;34m.\u001b[0m\u001b[0m_n_jobs\u001b[0m\u001b[0;34m)\u001b[0m\u001b[0;34m:\u001b[0m\u001b[0;34m\u001b[0m\u001b[0;34m\u001b[0m\u001b[0m\n\u001b[0;32m--> 262\u001b[0;31m             return [func(*args, **kwargs)\n\u001b[0m\u001b[1;32m    263\u001b[0m                     for func, args, kwargs in self.items]\n\u001b[1;32m    264\u001b[0m \u001b[0;34m\u001b[0m\u001b[0m\n",
      "\u001b[0;32m/usr/local/lib/python3.8/dist-packages/joblib/parallel.py\u001b[0m in \u001b[0;36m<listcomp>\u001b[0;34m(.0)\u001b[0m\n\u001b[1;32m    260\u001b[0m         \u001b[0;31m# change the default number of processes to -1\u001b[0m\u001b[0;34m\u001b[0m\u001b[0;34m\u001b[0m\u001b[0;34m\u001b[0m\u001b[0m\n\u001b[1;32m    261\u001b[0m         \u001b[0;32mwith\u001b[0m \u001b[0mparallel_backend\u001b[0m\u001b[0;34m(\u001b[0m\u001b[0mself\u001b[0m\u001b[0;34m.\u001b[0m\u001b[0m_backend\u001b[0m\u001b[0;34m,\u001b[0m \u001b[0mn_jobs\u001b[0m\u001b[0;34m=\u001b[0m\u001b[0mself\u001b[0m\u001b[0;34m.\u001b[0m\u001b[0m_n_jobs\u001b[0m\u001b[0;34m)\u001b[0m\u001b[0;34m:\u001b[0m\u001b[0;34m\u001b[0m\u001b[0;34m\u001b[0m\u001b[0m\n\u001b[0;32m--> 262\u001b[0;31m             return [func(*args, **kwargs)\n\u001b[0m\u001b[1;32m    263\u001b[0m                     for func, args, kwargs in self.items]\n\u001b[1;32m    264\u001b[0m \u001b[0;34m\u001b[0m\u001b[0m\n",
      "\u001b[0;32m/usr/local/lib/python3.8/dist-packages/sklearn/utils/fixes.py\u001b[0m in \u001b[0;36m__call__\u001b[0;34m(self, *args, **kwargs)\u001b[0m\n\u001b[1;32m    220\u001b[0m     \u001b[0;32mdef\u001b[0m \u001b[0m__call__\u001b[0m\u001b[0;34m(\u001b[0m\u001b[0mself\u001b[0m\u001b[0;34m,\u001b[0m \u001b[0;34m*\u001b[0m\u001b[0margs\u001b[0m\u001b[0;34m,\u001b[0m \u001b[0;34m**\u001b[0m\u001b[0mkwargs\u001b[0m\u001b[0;34m)\u001b[0m\u001b[0;34m:\u001b[0m\u001b[0;34m\u001b[0m\u001b[0;34m\u001b[0m\u001b[0m\n\u001b[1;32m    221\u001b[0m         \u001b[0;32mwith\u001b[0m \u001b[0mconfig_context\u001b[0m\u001b[0;34m(\u001b[0m\u001b[0;34m**\u001b[0m\u001b[0mself\u001b[0m\u001b[0;34m.\u001b[0m\u001b[0mconfig\u001b[0m\u001b[0;34m)\u001b[0m\u001b[0;34m:\u001b[0m\u001b[0;34m\u001b[0m\u001b[0;34m\u001b[0m\u001b[0m\n\u001b[0;32m--> 222\u001b[0;31m             \u001b[0;32mreturn\u001b[0m \u001b[0mself\u001b[0m\u001b[0;34m.\u001b[0m\u001b[0mfunction\u001b[0m\u001b[0;34m(\u001b[0m\u001b[0;34m*\u001b[0m\u001b[0margs\u001b[0m\u001b[0;34m,\u001b[0m \u001b[0;34m**\u001b[0m\u001b[0mkwargs\u001b[0m\u001b[0;34m)\u001b[0m\u001b[0;34m\u001b[0m\u001b[0;34m\u001b[0m\u001b[0m\n\u001b[0m",
      "\u001b[0;32m/usr/local/lib/python3.8/dist-packages/sklearn/model_selection/_validation.py\u001b[0m in \u001b[0;36m_fit_and_score\u001b[0;34m(estimator, X, y, scorer, train, test, verbose, parameters, fit_params, return_train_score, return_parameters, return_n_test_samples, return_times, return_estimator, split_progress, candidate_progress, error_score)\u001b[0m\n\u001b[1;32m    596\u001b[0m             \u001b[0mestimator\u001b[0m\u001b[0;34m.\u001b[0m\u001b[0mfit\u001b[0m\u001b[0;34m(\u001b[0m\u001b[0mX_train\u001b[0m\u001b[0;34m,\u001b[0m \u001b[0;34m**\u001b[0m\u001b[0mfit_params\u001b[0m\u001b[0;34m)\u001b[0m\u001b[0;34m\u001b[0m\u001b[0;34m\u001b[0m\u001b[0m\n\u001b[1;32m    597\u001b[0m         \u001b[0;32melse\u001b[0m\u001b[0;34m:\u001b[0m\u001b[0;34m\u001b[0m\u001b[0;34m\u001b[0m\u001b[0m\n\u001b[0;32m--> 598\u001b[0;31m             \u001b[0mestimator\u001b[0m\u001b[0;34m.\u001b[0m\u001b[0mfit\u001b[0m\u001b[0;34m(\u001b[0m\u001b[0mX_train\u001b[0m\u001b[0;34m,\u001b[0m \u001b[0my_train\u001b[0m\u001b[0;34m,\u001b[0m \u001b[0;34m**\u001b[0m\u001b[0mfit_params\u001b[0m\u001b[0;34m)\u001b[0m\u001b[0;34m\u001b[0m\u001b[0;34m\u001b[0m\u001b[0m\n\u001b[0m\u001b[1;32m    599\u001b[0m \u001b[0;34m\u001b[0m\u001b[0m\n\u001b[1;32m    600\u001b[0m     \u001b[0;32mexcept\u001b[0m \u001b[0mException\u001b[0m \u001b[0;32mas\u001b[0m \u001b[0me\u001b[0m\u001b[0;34m:\u001b[0m\u001b[0;34m\u001b[0m\u001b[0;34m\u001b[0m\u001b[0m\n",
      "\u001b[0;32m/usr/local/lib/python3.8/dist-packages/sklearn/ensemble/_forest.py\u001b[0m in \u001b[0;36mfit\u001b[0;34m(self, X, y, sample_weight)\u001b[0m\n\u001b[1;32m    385\u001b[0m             \u001b[0;31m# parallel_backend contexts set at a higher level,\u001b[0m\u001b[0;34m\u001b[0m\u001b[0;34m\u001b[0m\u001b[0;34m\u001b[0m\u001b[0m\n\u001b[1;32m    386\u001b[0m             \u001b[0;31m# since correctness does not rely on using threads.\u001b[0m\u001b[0;34m\u001b[0m\u001b[0;34m\u001b[0m\u001b[0;34m\u001b[0m\u001b[0m\n\u001b[0;32m--> 387\u001b[0;31m             trees = Parallel(n_jobs=self.n_jobs, verbose=self.verbose,\n\u001b[0m\u001b[1;32m    388\u001b[0m                              \u001b[0;34m**\u001b[0m\u001b[0m_joblib_parallel_args\u001b[0m\u001b[0;34m(\u001b[0m\u001b[0mprefer\u001b[0m\u001b[0;34m=\u001b[0m\u001b[0;34m'threads'\u001b[0m\u001b[0;34m)\u001b[0m\u001b[0;34m)\u001b[0m\u001b[0;34m(\u001b[0m\u001b[0;34m\u001b[0m\u001b[0;34m\u001b[0m\u001b[0m\n\u001b[1;32m    389\u001b[0m                 delayed(_parallel_build_trees)(\n",
      "\u001b[0;32m/usr/local/lib/python3.8/dist-packages/joblib/parallel.py\u001b[0m in \u001b[0;36m__call__\u001b[0;34m(self, iterable)\u001b[0m\n\u001b[1;32m   1042\u001b[0m                 \u001b[0mself\u001b[0m\u001b[0;34m.\u001b[0m\u001b[0m_iterating\u001b[0m \u001b[0;34m=\u001b[0m \u001b[0mself\u001b[0m\u001b[0;34m.\u001b[0m\u001b[0m_original_iterator\u001b[0m \u001b[0;32mis\u001b[0m \u001b[0;32mnot\u001b[0m \u001b[0;32mNone\u001b[0m\u001b[0;34m\u001b[0m\u001b[0;34m\u001b[0m\u001b[0m\n\u001b[1;32m   1043\u001b[0m \u001b[0;34m\u001b[0m\u001b[0m\n\u001b[0;32m-> 1044\u001b[0;31m             \u001b[0;32mwhile\u001b[0m \u001b[0mself\u001b[0m\u001b[0;34m.\u001b[0m\u001b[0mdispatch_one_batch\u001b[0m\u001b[0;34m(\u001b[0m\u001b[0miterator\u001b[0m\u001b[0;34m)\u001b[0m\u001b[0;34m:\u001b[0m\u001b[0;34m\u001b[0m\u001b[0;34m\u001b[0m\u001b[0m\n\u001b[0m\u001b[1;32m   1045\u001b[0m                 \u001b[0;32mpass\u001b[0m\u001b[0;34m\u001b[0m\u001b[0;34m\u001b[0m\u001b[0m\n\u001b[1;32m   1046\u001b[0m \u001b[0;34m\u001b[0m\u001b[0m\n",
      "\u001b[0;32m/usr/local/lib/python3.8/dist-packages/joblib/parallel.py\u001b[0m in \u001b[0;36mdispatch_one_batch\u001b[0;34m(self, iterator)\u001b[0m\n\u001b[1;32m    857\u001b[0m                 \u001b[0;32mreturn\u001b[0m \u001b[0;32mFalse\u001b[0m\u001b[0;34m\u001b[0m\u001b[0;34m\u001b[0m\u001b[0m\n\u001b[1;32m    858\u001b[0m             \u001b[0;32melse\u001b[0m\u001b[0;34m:\u001b[0m\u001b[0;34m\u001b[0m\u001b[0;34m\u001b[0m\u001b[0m\n\u001b[0;32m--> 859\u001b[0;31m                 \u001b[0mself\u001b[0m\u001b[0;34m.\u001b[0m\u001b[0m_dispatch\u001b[0m\u001b[0;34m(\u001b[0m\u001b[0mtasks\u001b[0m\u001b[0;34m)\u001b[0m\u001b[0;34m\u001b[0m\u001b[0;34m\u001b[0m\u001b[0m\n\u001b[0m\u001b[1;32m    860\u001b[0m                 \u001b[0;32mreturn\u001b[0m \u001b[0;32mTrue\u001b[0m\u001b[0;34m\u001b[0m\u001b[0;34m\u001b[0m\u001b[0m\n\u001b[1;32m    861\u001b[0m \u001b[0;34m\u001b[0m\u001b[0m\n",
      "\u001b[0;32m/usr/local/lib/python3.8/dist-packages/joblib/parallel.py\u001b[0m in \u001b[0;36m_dispatch\u001b[0;34m(self, batch)\u001b[0m\n\u001b[1;32m    775\u001b[0m         \u001b[0;32mwith\u001b[0m \u001b[0mself\u001b[0m\u001b[0;34m.\u001b[0m\u001b[0m_lock\u001b[0m\u001b[0;34m:\u001b[0m\u001b[0;34m\u001b[0m\u001b[0;34m\u001b[0m\u001b[0m\n\u001b[1;32m    776\u001b[0m             \u001b[0mjob_idx\u001b[0m \u001b[0;34m=\u001b[0m \u001b[0mlen\u001b[0m\u001b[0;34m(\u001b[0m\u001b[0mself\u001b[0m\u001b[0;34m.\u001b[0m\u001b[0m_jobs\u001b[0m\u001b[0;34m)\u001b[0m\u001b[0;34m\u001b[0m\u001b[0;34m\u001b[0m\u001b[0m\n\u001b[0;32m--> 777\u001b[0;31m             \u001b[0mjob\u001b[0m \u001b[0;34m=\u001b[0m \u001b[0mself\u001b[0m\u001b[0;34m.\u001b[0m\u001b[0m_backend\u001b[0m\u001b[0;34m.\u001b[0m\u001b[0mapply_async\u001b[0m\u001b[0;34m(\u001b[0m\u001b[0mbatch\u001b[0m\u001b[0;34m,\u001b[0m \u001b[0mcallback\u001b[0m\u001b[0;34m=\u001b[0m\u001b[0mcb\u001b[0m\u001b[0;34m)\u001b[0m\u001b[0;34m\u001b[0m\u001b[0;34m\u001b[0m\u001b[0m\n\u001b[0m\u001b[1;32m    778\u001b[0m             \u001b[0;31m# A job can complete so quickly than its callback is\u001b[0m\u001b[0;34m\u001b[0m\u001b[0;34m\u001b[0m\u001b[0;34m\u001b[0m\u001b[0m\n\u001b[1;32m    779\u001b[0m             \u001b[0;31m# called before we get here, causing self._jobs to\u001b[0m\u001b[0;34m\u001b[0m\u001b[0;34m\u001b[0m\u001b[0;34m\u001b[0m\u001b[0m\n",
      "\u001b[0;32m/usr/local/lib/python3.8/dist-packages/joblib/_parallel_backends.py\u001b[0m in \u001b[0;36mapply_async\u001b[0;34m(self, func, callback)\u001b[0m\n\u001b[1;32m    206\u001b[0m     \u001b[0;32mdef\u001b[0m \u001b[0mapply_async\u001b[0m\u001b[0;34m(\u001b[0m\u001b[0mself\u001b[0m\u001b[0;34m,\u001b[0m \u001b[0mfunc\u001b[0m\u001b[0;34m,\u001b[0m \u001b[0mcallback\u001b[0m\u001b[0;34m=\u001b[0m\u001b[0;32mNone\u001b[0m\u001b[0;34m)\u001b[0m\u001b[0;34m:\u001b[0m\u001b[0;34m\u001b[0m\u001b[0;34m\u001b[0m\u001b[0m\n\u001b[1;32m    207\u001b[0m         \u001b[0;34m\"\"\"Schedule a func to be run\"\"\"\u001b[0m\u001b[0;34m\u001b[0m\u001b[0;34m\u001b[0m\u001b[0m\n\u001b[0;32m--> 208\u001b[0;31m         \u001b[0mresult\u001b[0m \u001b[0;34m=\u001b[0m \u001b[0mImmediateResult\u001b[0m\u001b[0;34m(\u001b[0m\u001b[0mfunc\u001b[0m\u001b[0;34m)\u001b[0m\u001b[0;34m\u001b[0m\u001b[0;34m\u001b[0m\u001b[0m\n\u001b[0m\u001b[1;32m    209\u001b[0m         \u001b[0;32mif\u001b[0m \u001b[0mcallback\u001b[0m\u001b[0;34m:\u001b[0m\u001b[0;34m\u001b[0m\u001b[0;34m\u001b[0m\u001b[0m\n\u001b[1;32m    210\u001b[0m             \u001b[0mcallback\u001b[0m\u001b[0;34m(\u001b[0m\u001b[0mresult\u001b[0m\u001b[0;34m)\u001b[0m\u001b[0;34m\u001b[0m\u001b[0;34m\u001b[0m\u001b[0m\n",
      "\u001b[0;32m/usr/local/lib/python3.8/dist-packages/joblib/_parallel_backends.py\u001b[0m in \u001b[0;36m__init__\u001b[0;34m(self, batch)\u001b[0m\n\u001b[1;32m    570\u001b[0m         \u001b[0;31m# Don't delay the application, to avoid keeping the input\u001b[0m\u001b[0;34m\u001b[0m\u001b[0;34m\u001b[0m\u001b[0;34m\u001b[0m\u001b[0m\n\u001b[1;32m    571\u001b[0m         \u001b[0;31m# arguments in memory\u001b[0m\u001b[0;34m\u001b[0m\u001b[0;34m\u001b[0m\u001b[0;34m\u001b[0m\u001b[0m\n\u001b[0;32m--> 572\u001b[0;31m         \u001b[0mself\u001b[0m\u001b[0;34m.\u001b[0m\u001b[0mresults\u001b[0m \u001b[0;34m=\u001b[0m \u001b[0mbatch\u001b[0m\u001b[0;34m(\u001b[0m\u001b[0;34m)\u001b[0m\u001b[0;34m\u001b[0m\u001b[0;34m\u001b[0m\u001b[0m\n\u001b[0m\u001b[1;32m    573\u001b[0m \u001b[0;34m\u001b[0m\u001b[0m\n\u001b[1;32m    574\u001b[0m     \u001b[0;32mdef\u001b[0m \u001b[0mget\u001b[0m\u001b[0;34m(\u001b[0m\u001b[0mself\u001b[0m\u001b[0;34m)\u001b[0m\u001b[0;34m:\u001b[0m\u001b[0;34m\u001b[0m\u001b[0;34m\u001b[0m\u001b[0m\n",
      "\u001b[0;32m/usr/local/lib/python3.8/dist-packages/joblib/parallel.py\u001b[0m in \u001b[0;36m__call__\u001b[0;34m(self)\u001b[0m\n\u001b[1;32m    260\u001b[0m         \u001b[0;31m# change the default number of processes to -1\u001b[0m\u001b[0;34m\u001b[0m\u001b[0;34m\u001b[0m\u001b[0;34m\u001b[0m\u001b[0m\n\u001b[1;32m    261\u001b[0m         \u001b[0;32mwith\u001b[0m \u001b[0mparallel_backend\u001b[0m\u001b[0;34m(\u001b[0m\u001b[0mself\u001b[0m\u001b[0;34m.\u001b[0m\u001b[0m_backend\u001b[0m\u001b[0;34m,\u001b[0m \u001b[0mn_jobs\u001b[0m\u001b[0;34m=\u001b[0m\u001b[0mself\u001b[0m\u001b[0;34m.\u001b[0m\u001b[0m_n_jobs\u001b[0m\u001b[0;34m)\u001b[0m\u001b[0;34m:\u001b[0m\u001b[0;34m\u001b[0m\u001b[0;34m\u001b[0m\u001b[0m\n\u001b[0;32m--> 262\u001b[0;31m             return [func(*args, **kwargs)\n\u001b[0m\u001b[1;32m    263\u001b[0m                     for func, args, kwargs in self.items]\n\u001b[1;32m    264\u001b[0m \u001b[0;34m\u001b[0m\u001b[0m\n",
      "\u001b[0;32m/usr/local/lib/python3.8/dist-packages/joblib/parallel.py\u001b[0m in \u001b[0;36m<listcomp>\u001b[0;34m(.0)\u001b[0m\n\u001b[1;32m    260\u001b[0m         \u001b[0;31m# change the default number of processes to -1\u001b[0m\u001b[0;34m\u001b[0m\u001b[0;34m\u001b[0m\u001b[0;34m\u001b[0m\u001b[0m\n\u001b[1;32m    261\u001b[0m         \u001b[0;32mwith\u001b[0m \u001b[0mparallel_backend\u001b[0m\u001b[0;34m(\u001b[0m\u001b[0mself\u001b[0m\u001b[0;34m.\u001b[0m\u001b[0m_backend\u001b[0m\u001b[0;34m,\u001b[0m \u001b[0mn_jobs\u001b[0m\u001b[0;34m=\u001b[0m\u001b[0mself\u001b[0m\u001b[0;34m.\u001b[0m\u001b[0m_n_jobs\u001b[0m\u001b[0;34m)\u001b[0m\u001b[0;34m:\u001b[0m\u001b[0;34m\u001b[0m\u001b[0;34m\u001b[0m\u001b[0m\n\u001b[0;32m--> 262\u001b[0;31m             return [func(*args, **kwargs)\n\u001b[0m\u001b[1;32m    263\u001b[0m                     for func, args, kwargs in self.items]\n\u001b[1;32m    264\u001b[0m \u001b[0;34m\u001b[0m\u001b[0m\n",
      "\u001b[0;32m/usr/local/lib/python3.8/dist-packages/sklearn/utils/fixes.py\u001b[0m in \u001b[0;36m__call__\u001b[0;34m(self, *args, **kwargs)\u001b[0m\n\u001b[1;32m    220\u001b[0m     \u001b[0;32mdef\u001b[0m \u001b[0m__call__\u001b[0m\u001b[0;34m(\u001b[0m\u001b[0mself\u001b[0m\u001b[0;34m,\u001b[0m \u001b[0;34m*\u001b[0m\u001b[0margs\u001b[0m\u001b[0;34m,\u001b[0m \u001b[0;34m**\u001b[0m\u001b[0mkwargs\u001b[0m\u001b[0;34m)\u001b[0m\u001b[0;34m:\u001b[0m\u001b[0;34m\u001b[0m\u001b[0;34m\u001b[0m\u001b[0m\n\u001b[1;32m    221\u001b[0m         \u001b[0;32mwith\u001b[0m \u001b[0mconfig_context\u001b[0m\u001b[0;34m(\u001b[0m\u001b[0;34m**\u001b[0m\u001b[0mself\u001b[0m\u001b[0;34m.\u001b[0m\u001b[0mconfig\u001b[0m\u001b[0;34m)\u001b[0m\u001b[0;34m:\u001b[0m\u001b[0;34m\u001b[0m\u001b[0;34m\u001b[0m\u001b[0m\n\u001b[0;32m--> 222\u001b[0;31m             \u001b[0;32mreturn\u001b[0m \u001b[0mself\u001b[0m\u001b[0;34m.\u001b[0m\u001b[0mfunction\u001b[0m\u001b[0;34m(\u001b[0m\u001b[0;34m*\u001b[0m\u001b[0margs\u001b[0m\u001b[0;34m,\u001b[0m \u001b[0;34m**\u001b[0m\u001b[0mkwargs\u001b[0m\u001b[0;34m)\u001b[0m\u001b[0;34m\u001b[0m\u001b[0;34m\u001b[0m\u001b[0m\n\u001b[0m",
      "\u001b[0;32m/usr/local/lib/python3.8/dist-packages/sklearn/ensemble/_forest.py\u001b[0m in \u001b[0;36m_parallel_build_trees\u001b[0;34m(tree, forest, X, y, sample_weight, tree_idx, n_trees, verbose, class_weight, n_samples_bootstrap)\u001b[0m\n\u001b[1;32m    169\u001b[0m         \u001b[0mtree\u001b[0m\u001b[0;34m.\u001b[0m\u001b[0mfit\u001b[0m\u001b[0;34m(\u001b[0m\u001b[0mX\u001b[0m\u001b[0;34m,\u001b[0m \u001b[0my\u001b[0m\u001b[0;34m,\u001b[0m \u001b[0msample_weight\u001b[0m\u001b[0;34m=\u001b[0m\u001b[0mcurr_sample_weight\u001b[0m\u001b[0;34m,\u001b[0m \u001b[0mcheck_input\u001b[0m\u001b[0;34m=\u001b[0m\u001b[0;32mFalse\u001b[0m\u001b[0;34m)\u001b[0m\u001b[0;34m\u001b[0m\u001b[0;34m\u001b[0m\u001b[0m\n\u001b[1;32m    170\u001b[0m     \u001b[0;32melse\u001b[0m\u001b[0;34m:\u001b[0m\u001b[0;34m\u001b[0m\u001b[0;34m\u001b[0m\u001b[0m\n\u001b[0;32m--> 171\u001b[0;31m         \u001b[0mtree\u001b[0m\u001b[0;34m.\u001b[0m\u001b[0mfit\u001b[0m\u001b[0;34m(\u001b[0m\u001b[0mX\u001b[0m\u001b[0;34m,\u001b[0m \u001b[0my\u001b[0m\u001b[0;34m,\u001b[0m \u001b[0msample_weight\u001b[0m\u001b[0;34m=\u001b[0m\u001b[0msample_weight\u001b[0m\u001b[0;34m,\u001b[0m \u001b[0mcheck_input\u001b[0m\u001b[0;34m=\u001b[0m\u001b[0;32mFalse\u001b[0m\u001b[0;34m)\u001b[0m\u001b[0;34m\u001b[0m\u001b[0;34m\u001b[0m\u001b[0m\n\u001b[0m\u001b[1;32m    172\u001b[0m \u001b[0;34m\u001b[0m\u001b[0m\n\u001b[1;32m    173\u001b[0m     \u001b[0;32mreturn\u001b[0m \u001b[0mtree\u001b[0m\u001b[0;34m\u001b[0m\u001b[0;34m\u001b[0m\u001b[0m\n",
      "\u001b[0;32m/usr/local/lib/python3.8/dist-packages/sklearn/tree/_classes.py\u001b[0m in \u001b[0;36mfit\u001b[0;34m(self, X, y, sample_weight, check_input, X_idx_sorted)\u001b[0m\n\u001b[1;32m   1250\u001b[0m         \"\"\"\n\u001b[1;32m   1251\u001b[0m \u001b[0;34m\u001b[0m\u001b[0m\n\u001b[0;32m-> 1252\u001b[0;31m         super().fit(\n\u001b[0m\u001b[1;32m   1253\u001b[0m             \u001b[0mX\u001b[0m\u001b[0;34m,\u001b[0m \u001b[0my\u001b[0m\u001b[0;34m,\u001b[0m\u001b[0;34m\u001b[0m\u001b[0;34m\u001b[0m\u001b[0m\n\u001b[1;32m   1254\u001b[0m             \u001b[0msample_weight\u001b[0m\u001b[0;34m=\u001b[0m\u001b[0msample_weight\u001b[0m\u001b[0;34m,\u001b[0m\u001b[0;34m\u001b[0m\u001b[0;34m\u001b[0m\u001b[0m\n",
      "\u001b[0;32m/usr/local/lib/python3.8/dist-packages/sklearn/tree/_classes.py\u001b[0m in \u001b[0;36mfit\u001b[0;34m(self, X, y, sample_weight, check_input, X_idx_sorted)\u001b[0m\n\u001b[1;32m    392\u001b[0m                                            min_impurity_split)\n\u001b[1;32m    393\u001b[0m \u001b[0;34m\u001b[0m\u001b[0m\n\u001b[0;32m--> 394\u001b[0;31m         \u001b[0mbuilder\u001b[0m\u001b[0;34m.\u001b[0m\u001b[0mbuild\u001b[0m\u001b[0;34m(\u001b[0m\u001b[0mself\u001b[0m\u001b[0;34m.\u001b[0m\u001b[0mtree_\u001b[0m\u001b[0;34m,\u001b[0m \u001b[0mX\u001b[0m\u001b[0;34m,\u001b[0m \u001b[0my\u001b[0m\u001b[0;34m,\u001b[0m \u001b[0msample_weight\u001b[0m\u001b[0;34m)\u001b[0m\u001b[0;34m\u001b[0m\u001b[0;34m\u001b[0m\u001b[0m\n\u001b[0m\u001b[1;32m    395\u001b[0m \u001b[0;34m\u001b[0m\u001b[0m\n\u001b[1;32m    396\u001b[0m         \u001b[0;32mif\u001b[0m \u001b[0mself\u001b[0m\u001b[0;34m.\u001b[0m\u001b[0mn_outputs_\u001b[0m \u001b[0;34m==\u001b[0m \u001b[0;36m1\u001b[0m \u001b[0;32mand\u001b[0m \u001b[0mis_classifier\u001b[0m\u001b[0;34m(\u001b[0m\u001b[0mself\u001b[0m\u001b[0;34m)\u001b[0m\u001b[0;34m:\u001b[0m\u001b[0;34m\u001b[0m\u001b[0;34m\u001b[0m\u001b[0m\n",
      "\u001b[0;31mKeyboardInterrupt\u001b[0m: "
     ]
    }
   ],
   "source": [
    "# RandomizedSearchCV for Random Forest Model\n",
    "\n",
    "# Number of trees in random forest\n",
    "n_estimators = [int(x) for x in np.linspace(start = 200, stop = 2000, num = 10)]\n",
    "# Number of features to consider at every split\n",
    "max_features = ['auto', 'sqrt']\n",
    "# Maximum number of levels in tree\n",
    "max_depth = [int(x) for x in np.linspace(10, 110, num = 11)]\n",
    "max_depth.append(None)\n",
    "# Minimum number of samples required to split a node\n",
    "min_samples_split = [2, 5, 10]\n",
    "# Minimum number of samples required at each leaf node\n",
    "min_samples_leaf = [1, 2, 4]\n",
    "# Method of selecting samples for training each tree\n",
    "bootstrap = [True, False]\n",
    "\n",
    "params = {\n",
    "    'n_estimators': n_estimators,\n",
    "               'max_features': max_features,\n",
    "               'max_depth': max_depth,\n",
    "               'min_samples_split': min_samples_split,\n",
    "               'min_samples_leaf': min_samples_leaf,\n",
    "               'bootstrap': bootstrap}\n",
    "\n",
    "\n",
    "random_search_rf = RandomizedSearchCV(\n",
    "    rf_model,\n",
    "    param_distributions=params,\n",
    "    random_state=8675309,\n",
    "    n_iter=10,\n",
    "    cv=5,\n",
    "    verbose=20,\n",
    "    n_jobs=1,\n",
    "    return_train_score=True)\n",
    "\n",
    "random_search_rf.fit(X_train, y_train)"
   ]
  },
  {
   "cell_type": "code",
   "execution_count": 0,
   "metadata": {
    "collapsed": false
   },
   "outputs": [
   ],
   "source": [
    "random_search_rf.best_params_"
   ]
  },
  {
   "cell_type": "code",
   "execution_count": 0,
   "metadata": {
    "collapsed": false
   },
   "outputs": [
   ],
   "source": [
    "my_regression_results(random_search_rf)"
   ]
  },
  {
   "cell_type": "code",
   "execution_count": 36,
   "metadata": {
    "collapsed": false
   },
   "outputs": [
    {
     "name": "stdout",
     "output_type": "stream",
     "text": [
      "{'base_score': 0.5,\n",
      " 'booster': 'gbtree',\n",
      " 'colsample_bylevel': 1,\n",
      " 'colsample_bynode': 1,\n",
      " 'colsample_bytree': 1,\n",
      " 'gamma': 0,\n",
      " 'gpu_id': -1,\n",
      " 'interaction_constraints': '',\n",
      " 'learning_rate': 0.300000012,\n",
      " 'max_delta_step': 0,\n",
      " 'max_depth': 6,\n",
      " 'min_child_weight': 1,\n",
      " 'monotone_constraints': '()',\n",
      " 'n_jobs': 0,\n",
      " 'num_parallel_tree': 1,\n",
      " 'objective': 'reg:squarederror',\n",
      " 'random_state': 0,\n",
      " 'reg_alpha': 0,\n",
      " 'reg_lambda': 1,\n",
      " 'scale_pos_weight': 1,\n",
      " 'subsample': 1,\n",
      " 'tree_method': 'exact',\n",
      " 'validate_parameters': 1,\n",
      " 'verbosity': None}\n"
     ]
    }
   ],
   "source": [
    "#from pprint import pprint\n",
    "pprint(xgbr_model.get_xgb_params())"
   ]
  },
  {
   "cell_type": "code",
   "execution_count": 29,
   "metadata": {
    "collapsed": false
   },
   "outputs": [
    {
     "name": "stdout",
     "output_type": "stream",
     "text": [
      "Fitting 5 folds for each of 25 candidates, totalling 125 fits\n"
     ]
    },
    {
     "name": "stdout",
     "output_type": "stream",
     "text": [
      "[CV 1/5] END learning_rate=0.01, max_depth=5, min_child_weight=1, n_estimators=59, reg_alpha=1.9246298227087082, reg_lambda=0.3316188261704417, subsample=0.22311182286022002;, score=(train=-0.272, test=-0.266) total time=  13.6s\n"
     ]
    },
    {
     "name": "stdout",
     "output_type": "stream",
     "text": [
      "[CV 2/5] END learning_rate=0.01, max_depth=5, min_child_weight=1, n_estimators=59, reg_alpha=1.9246298227087082, reg_lambda=0.3316188261704417, subsample=0.22311182286022002;, score=(train=-0.281, test=-0.085) total time=   9.8s\n"
     ]
    },
    {
     "name": "stdout",
     "output_type": "stream",
     "text": [
      "[CV 3/5] END learning_rate=0.01, max_depth=5, min_child_weight=1, n_estimators=59, reg_alpha=1.9246298227087082, reg_lambda=0.3316188261704417, subsample=0.22311182286022002;, score=(train=-0.260, test=-0.229) total time=  10.0s\n"
     ]
    },
    {
     "name": "stdout",
     "output_type": "stream",
     "text": [
      "[CV 4/5] END learning_rate=0.01, max_depth=5, min_child_weight=1, n_estimators=59, reg_alpha=1.9246298227087082, reg_lambda=0.3316188261704417, subsample=0.22311182286022002;, score=(train=-0.267, test=-0.490) total time=   9.2s\n"
     ]
    },
    {
     "name": "stdout",
     "output_type": "stream",
     "text": [
      "[CV 5/5] END learning_rate=0.01, max_depth=5, min_child_weight=1, n_estimators=59, reg_alpha=1.9246298227087082, reg_lambda=0.3316188261704417, subsample=0.22311182286022002;, score=(train=-0.293, test=-0.434) total time=   9.5s\n"
     ]
    },
    {
     "name": "stdout",
     "output_type": "stream",
     "text": [
      "[CV 1/5] END learning_rate=1.0, max_depth=5, min_child_weight=2, n_estimators=113, reg_alpha=3.864656460258445, reg_lambda=1.7725646250966287, subsample=0.5687129957781784;, score=(train=0.888, test=-0.118) total time=  25.8s\n"
     ]
    },
    {
     "name": "stdout",
     "output_type": "stream",
     "text": [
      "[CV 2/5] END learning_rate=1.0, max_depth=5, min_child_weight=2, n_estimators=113, reg_alpha=3.864656460258445, reg_lambda=1.7725646250966287, subsample=0.5687129957781784;, score=(train=0.890, test=-0.335) total time=  26.2s\n"
     ]
    },
    {
     "name": "stdout",
     "output_type": "stream",
     "text": [
      "[CV 3/5] END learning_rate=1.0, max_depth=5, min_child_weight=2, n_estimators=113, reg_alpha=3.864656460258445, reg_lambda=1.7725646250966287, subsample=0.5687129957781784;, score=(train=0.892, test=-0.343) total time=  26.4s\n"
     ]
    },
    {
     "name": "stdout",
     "output_type": "stream",
     "text": [
      "[CV 4/5] END learning_rate=1.0, max_depth=5, min_child_weight=2, n_estimators=113, reg_alpha=3.864656460258445, reg_lambda=1.7725646250966287, subsample=0.5687129957781784;, score=(train=0.900, test=0.066) total time=  30.2s\n"
     ]
    },
    {
     "name": "stdout",
     "output_type": "stream",
     "text": [
      "[CV 5/5] END learning_rate=1.0, max_depth=5, min_child_weight=2, n_estimators=113, reg_alpha=3.864656460258445, reg_lambda=1.7725646250966287, subsample=0.5687129957781784;, score=(train=0.892, test=0.142) total time=  26.9s\n"
     ]
    },
    {
     "name": "stdout",
     "output_type": "stream",
     "text": [
      "[CV 1/5] END learning_rate=1.0, max_depth=7, min_child_weight=13, n_estimators=69, reg_alpha=1.314186413925611, reg_lambda=1.6249604806868296, subsample=0.800561791391917;, score=(train=0.978, test=0.282) total time=  22.0s\n"
     ]
    },
    {
     "name": "stdout",
     "output_type": "stream",
     "text": [
      "[CV 2/5] END learning_rate=1.0, max_depth=7, min_child_weight=13, n_estimators=69, reg_alpha=1.314186413925611, reg_lambda=1.6249604806868296, subsample=0.800561791391917;, score=(train=0.977, test=-0.030) total time=  25.2s\n"
     ]
    },
    {
     "name": "stdout",
     "output_type": "stream",
     "text": [
      "[CV 3/5] END learning_rate=1.0, max_depth=7, min_child_weight=13, n_estimators=69, reg_alpha=1.314186413925611, reg_lambda=1.6249604806868296, subsample=0.800561791391917;, score=(train=0.976, test=0.091) total time=  22.7s\n"
     ]
    },
    {
     "name": "stdout",
     "output_type": "stream",
     "text": [
      "[CV 4/5] END learning_rate=1.0, max_depth=7, min_child_weight=13, n_estimators=69, reg_alpha=1.314186413925611, reg_lambda=1.6249604806868296, subsample=0.800561791391917;, score=(train=0.977, test=0.225) total time=  22.6s\n"
     ]
    },
    {
     "name": "stdout",
     "output_type": "stream",
     "text": [
      "[CV 5/5] END learning_rate=1.0, max_depth=7, min_child_weight=13, n_estimators=69, reg_alpha=1.314186413925611, reg_lambda=1.6249604806868296, subsample=0.800561791391917;, score=(train=0.978, test=0.275) total time=  25.7s\n"
     ]
    },
    {
     "name": "stdout",
     "output_type": "stream",
     "text": [
      "[CV 1/5] END learning_rate=1.0, max_depth=1, min_child_weight=6, n_estimators=139, reg_alpha=0.5666159831855222, reg_lambda=4.106293918592037, subsample=0.9592587591943247;, score=(train=0.670, test=0.690) total time=   7.3s\n"
     ]
    },
    {
     "name": "stdout",
     "output_type": "stream",
     "text": [
      "[CV 2/5] END learning_rate=1.0, max_depth=1, min_child_weight=6, n_estimators=139, reg_alpha=0.5666159831855222, reg_lambda=4.106293918592037, subsample=0.9592587591943247;, score=(train=0.680, test=0.621) total time=   7.3s\n"
     ]
    },
    {
     "name": "stdout",
     "output_type": "stream",
     "text": [
      "[CV 3/5] END learning_rate=1.0, max_depth=1, min_child_weight=6, n_estimators=139, reg_alpha=0.5666159831855222, reg_lambda=4.106293918592037, subsample=0.9592587591943247;, score=(train=0.687, test=0.608) total time=   7.6s\n"
     ]
    },
    {
     "name": "stdout",
     "output_type": "stream",
     "text": [
      "[CV 4/5] END learning_rate=1.0, max_depth=1, min_child_weight=6, n_estimators=139, reg_alpha=0.5666159831855222, reg_lambda=4.106293918592037, subsample=0.9592587591943247;, score=(train=0.717, test=0.498) total time=   7.7s\n"
     ]
    },
    {
     "name": "stdout",
     "output_type": "stream",
     "text": [
      "[CV 5/5] END learning_rate=1.0, max_depth=1, min_child_weight=6, n_estimators=139, reg_alpha=0.5666159831855222, reg_lambda=4.106293918592037, subsample=0.9592587591943247;, score=(train=0.701, test=0.578) total time=   7.1s\n"
     ]
    },
    {
     "name": "stdout",
     "output_type": "stream",
     "text": [
      "[CV 1/5] END learning_rate=0.5, max_depth=8, min_child_weight=13, n_estimators=54, reg_alpha=4.273531344366107, reg_lambda=0.3614847715291919, subsample=0.9827539273587139;, score=(train=0.981, test=0.633) total time=  22.7s\n"
     ]
    },
    {
     "name": "stdout",
     "output_type": "stream",
     "text": [
      "[CV 2/5] END learning_rate=0.5, max_depth=8, min_child_weight=13, n_estimators=54, reg_alpha=4.273531344366107, reg_lambda=0.3614847715291919, subsample=0.9827539273587139;, score=(train=0.981, test=0.466) total time=  19.1s\n"
     ]
    },
    {
     "name": "stdout",
     "output_type": "stream",
     "text": [
      "[CV 3/5] END learning_rate=0.5, max_depth=8, min_child_weight=13, n_estimators=54, reg_alpha=4.273531344366107, reg_lambda=0.3614847715291919, subsample=0.9827539273587139;, score=(train=0.982, test=0.490) total time=  19.0s\n"
     ]
    },
    {
     "name": "stdout",
     "output_type": "stream",
     "text": [
      "[CV 4/5] END learning_rate=0.5, max_depth=8, min_child_weight=13, n_estimators=54, reg_alpha=4.273531344366107, reg_lambda=0.3614847715291919, subsample=0.9827539273587139;, score=(train=0.984, test=0.452) total time=  22.8s\n"
     ]
    },
    {
     "name": "stdout",
     "output_type": "stream",
     "text": [
      "[CV 5/5] END learning_rate=0.5, max_depth=8, min_child_weight=13, n_estimators=54, reg_alpha=4.273531344366107, reg_lambda=0.3614847715291919, subsample=0.9827539273587139;, score=(train=0.982, test=0.513) total time=  18.2s\n"
     ]
    },
    {
     "name": "stdout",
     "output_type": "stream",
     "text": [
      "[CV 1/5] END learning_rate=0.001, max_depth=5, min_child_weight=2, n_estimators=63, reg_alpha=0.9801878684826565, reg_lambda=3.2440249335232716, subsample=0.6101293473191399;, score=(train=-1.978, test=-2.206) total time=  16.1s\n"
     ]
    },
    {
     "name": "stdout",
     "output_type": "stream",
     "text": [
      "[CV 2/5] END learning_rate=0.001, max_depth=5, min_child_weight=2, n_estimators=63, reg_alpha=0.9801878684826565, reg_lambda=3.2440249335232716, subsample=0.6101293473191399;, score=(train=-2.021, test=-2.208) total time=  14.3s\n"
     ]
    },
    {
     "name": "stdout",
     "output_type": "stream",
     "text": [
      "[CV 3/5] END learning_rate=0.001, max_depth=5, min_child_weight=2, n_estimators=63, reg_alpha=0.9801878684826565, reg_lambda=3.2440249335232716, subsample=0.6101293473191399;, score=(train=-1.974, test=-2.241) total time=  18.1s\n"
     ]
    },
    {
     "name": "stdout",
     "output_type": "stream",
     "text": [
      "[CV 4/5] END learning_rate=0.001, max_depth=5, min_child_weight=2, n_estimators=63, reg_alpha=0.9801878684826565, reg_lambda=3.2440249335232716, subsample=0.6101293473191399;, score=(train=-2.053, test=-1.984) total time=  16.4s\n"
     ]
    },
    {
     "name": "stdout",
     "output_type": "stream",
     "text": [
      "[CV 5/5] END learning_rate=0.001, max_depth=5, min_child_weight=2, n_estimators=63, reg_alpha=0.9801878684826565, reg_lambda=3.2440249335232716, subsample=0.6101293473191399;, score=(train=-2.102, test=-1.916) total time=  15.1s\n"
     ]
    },
    {
     "name": "stdout",
     "output_type": "stream",
     "text": [
      "[CV 1/5] END learning_rate=0.001, max_depth=7, min_child_weight=7, n_estimators=92, reg_alpha=0.8102793670033459, reg_lambda=4.0640825981722015, subsample=0.7864895093687088;, score=(train=-1.830, test=-2.038) total time=  33.4s\n"
     ]
    },
    {
     "name": "stdout",
     "output_type": "stream",
     "text": [
      "[CV 2/5] END learning_rate=0.001, max_depth=7, min_child_weight=7, n_estimators=92, reg_alpha=0.8102793670033459, reg_lambda=4.0640825981722015, subsample=0.7864895093687088;, score=(train=-1.871, test=-2.020) total time=  32.6s\n"
     ]
    },
    {
     "name": "stdout",
     "output_type": "stream",
     "text": [
      "[CV 3/5] END learning_rate=0.001, max_depth=7, min_child_weight=7, n_estimators=92, reg_alpha=0.8102793670033459, reg_lambda=4.0640825981722015, subsample=0.7864895093687088;, score=(train=-1.826, test=-2.066) total time=  38.5s\n"
     ]
    },
    {
     "name": "stdout",
     "output_type": "stream",
     "text": [
      "[CV 4/5] END learning_rate=0.001, max_depth=7, min_child_weight=7, n_estimators=92, reg_alpha=0.8102793670033459, reg_lambda=4.0640825981722015, subsample=0.7864895093687088;, score=(train=-1.898, test=-1.863) total time=  35.9s\n"
     ]
    },
    {
     "name": "stdout",
     "output_type": "stream",
     "text": [
      "[CV 5/5] END learning_rate=0.001, max_depth=7, min_child_weight=7, n_estimators=92, reg_alpha=0.8102793670033459, reg_lambda=4.0640825981722015, subsample=0.7864895093687088;, score=(train=-1.945, test=-1.793) total time=  34.8s\n"
     ]
    },
    {
     "name": "stdout",
     "output_type": "stream",
     "text": [
      "[CV 1/5] END learning_rate=0.01, max_depth=5, min_child_weight=7, n_estimators=82, reg_alpha=0.30321968913636976, reg_lambda=2.1414785142199557, subsample=0.1011386086671309;, score=(train=0.045, test=0.087) total time=   9.8s\n"
     ]
    },
    {
     "name": "stdout",
     "output_type": "stream",
     "text": [
      "[CV 2/5] END learning_rate=0.01, max_depth=5, min_child_weight=7, n_estimators=82, reg_alpha=0.30321968913636976, reg_lambda=2.1414785142199557, subsample=0.1011386086671309;, score=(train=0.045, test=0.276) total time=   9.6s\n"
     ]
    },
    {
     "name": "stdout",
     "output_type": "stream",
     "text": [
      "[CV 3/5] END learning_rate=0.01, max_depth=5, min_child_weight=7, n_estimators=82, reg_alpha=0.30321968913636976, reg_lambda=2.1414785142199557, subsample=0.1011386086671309;, score=(train=0.059, test=0.131) total time=  15.3s\n"
     ]
    },
    {
     "name": "stdout",
     "output_type": "stream",
     "text": [
      "[CV 4/5] END learning_rate=0.01, max_depth=5, min_child_weight=7, n_estimators=82, reg_alpha=0.30321968913636976, reg_lambda=2.1414785142199557, subsample=0.1011386086671309;, score=(train=0.068, test=-0.193) total time=  14.9s\n"
     ]
    },
    {
     "name": "stdout",
     "output_type": "stream",
     "text": [
      "[CV 5/5] END learning_rate=0.01, max_depth=5, min_child_weight=7, n_estimators=82, reg_alpha=0.30321968913636976, reg_lambda=2.1414785142199557, subsample=0.1011386086671309;, score=(train=0.049, test=-0.131) total time=  14.3s\n"
     ]
    },
    {
     "name": "stdout",
     "output_type": "stream",
     "text": [
      "[CV 1/5] END learning_rate=0.01, max_depth=4, min_child_weight=8, n_estimators=111, reg_alpha=0.7229439539293253, reg_lambda=0.3349256024541525, subsample=0.7008610044172657;, score=(train=0.310, test=0.383) total time=  25.9s\n"
     ]
    },
    {
     "name": "stdout",
     "output_type": "stream",
     "text": [
      "[CV 2/5] END learning_rate=0.01, max_depth=4, min_child_weight=8, n_estimators=111, reg_alpha=0.7229439539293253, reg_lambda=0.3349256024541525, subsample=0.7008610044172657;, score=(train=0.315, test=0.528) total time=  22.8s\n"
     ]
    },
    {
     "name": "stdout",
     "output_type": "stream",
     "text": [
      "[CV 3/5] END learning_rate=0.01, max_depth=4, min_child_weight=8, n_estimators=111, reg_alpha=0.7229439539293253, reg_lambda=0.3349256024541525, subsample=0.7008610044172657;, score=(train=0.327, test=0.417) total time=  24.6s\n"
     ]
    },
    {
     "name": "stdout",
     "output_type": "stream",
     "text": [
      "[CV 4/5] END learning_rate=0.01, max_depth=4, min_child_weight=8, n_estimators=111, reg_alpha=0.7229439539293253, reg_lambda=0.3349256024541525, subsample=0.7008610044172657;, score=(train=0.346, test=0.078) total time=  21.0s\n"
     ]
    },
    {
     "name": "stdout",
     "output_type": "stream",
     "text": [
      "[CV 5/5] END learning_rate=0.01, max_depth=4, min_child_weight=8, n_estimators=111, reg_alpha=0.7229439539293253, reg_lambda=0.3349256024541525, subsample=0.7008610044172657;, score=(train=0.328, test=0.120) total time=  21.0s\n"
     ]
    },
    {
     "name": "stdout",
     "output_type": "stream",
     "text": [
      "[CV 1/5] END learning_rate=0.001, max_depth=7, min_child_weight=6, n_estimators=29, reg_alpha=1.886943911774372, reg_lambda=2.9210985939085354, subsample=0.7971405738498868;, score=(train=-2.158, test=-2.411) total time=  13.2s\n"
     ]
    },
    {
     "name": "stdout",
     "output_type": "stream",
     "text": [
      "[CV 2/5] END learning_rate=0.001, max_depth=7, min_child_weight=6, n_estimators=29, reg_alpha=1.886943911774372, reg_lambda=2.9210985939085354, subsample=0.7971405738498868;, score=(train=-2.206, test=-2.444) total time=  10.0s\n"
     ]
    },
    {
     "name": "stdout",
     "output_type": "stream",
     "text": [
      "[CV 3/5] END learning_rate=0.001, max_depth=7, min_child_weight=6, n_estimators=29, reg_alpha=1.886943911774372, reg_lambda=2.9210985939085354, subsample=0.7971405738498868;, score=(train=-2.155, test=-2.460) total time=  10.9s\n"
     ]
    },
    {
     "name": "stdout",
     "output_type": "stream",
     "text": [
      "[CV 4/5] END learning_rate=0.001, max_depth=7, min_child_weight=6, n_estimators=29, reg_alpha=1.886943911774372, reg_lambda=2.9210985939085354, subsample=0.7971405738498868;, score=(train=-2.241, test=-2.140) total time=  10.1s\n"
     ]
    },
    {
     "name": "stdout",
     "output_type": "stream",
     "text": [
      "[CV 5/5] END learning_rate=0.001, max_depth=7, min_child_weight=6, n_estimators=29, reg_alpha=1.886943911774372, reg_lambda=2.9210985939085354, subsample=0.7971405738498868;, score=(train=-2.293, test=-2.068) total time=  10.3s\n"
     ]
    },
    {
     "name": "stdout",
     "output_type": "stream",
     "text": [
      "[CV 1/5] END learning_rate=0.1, max_depth=2, min_child_weight=2, n_estimators=115, reg_alpha=1.1298003538030903, reg_lambda=4.607840214514044, subsample=0.7428130082444454;, score=(train=0.667, test=0.728) total time=  10.9s\n"
     ]
    },
    {
     "name": "stdout",
     "output_type": "stream",
     "text": [
      "[CV 2/5] END learning_rate=0.1, max_depth=2, min_child_weight=2, n_estimators=115, reg_alpha=1.1298003538030903, reg_lambda=4.607840214514044, subsample=0.7428130082444454;, score=(train=0.679, test=0.641) total time=  13.1s\n"
     ]
    },
    {
     "name": "stdout",
     "output_type": "stream",
     "text": [
      "[CV 3/5] END learning_rate=0.1, max_depth=2, min_child_weight=2, n_estimators=115, reg_alpha=1.1298003538030903, reg_lambda=4.607840214514044, subsample=0.7428130082444454;, score=(train=0.684, test=0.649) total time=  13.7s\n"
     ]
    },
    {
     "name": "stdout",
     "output_type": "stream",
     "text": [
      "[CV 4/5] END learning_rate=0.1, max_depth=2, min_child_weight=2, n_estimators=115, reg_alpha=1.1298003538030903, reg_lambda=4.607840214514044, subsample=0.7428130082444454;, score=(train=0.718, test=0.495) total time=  11.4s\n"
     ]
    },
    {
     "name": "stdout",
     "output_type": "stream",
     "text": [
      "[CV 5/5] END learning_rate=0.1, max_depth=2, min_child_weight=2, n_estimators=115, reg_alpha=1.1298003538030903, reg_lambda=4.607840214514044, subsample=0.7428130082444454;, score=(train=0.703, test=0.578) total time=  11.5s\n"
     ]
    },
    {
     "name": "stdout",
     "output_type": "stream",
     "text": [
      "[CV 1/5] END learning_rate=0.5, max_depth=7, min_child_weight=12, n_estimators=130, reg_alpha=4.175359500017819, reg_lambda=1.5219206856594676, subsample=0.5325715834283595;, score=(train=0.987, test=0.514) total time=  45.5s\n"
     ]
    },
    {
     "name": "stdout",
     "output_type": "stream",
     "text": [
      "[CV 2/5] END learning_rate=0.5, max_depth=7, min_child_weight=12, n_estimators=130, reg_alpha=4.175359500017819, reg_lambda=1.5219206856594676, subsample=0.5325715834283595;, score=(train=0.988, test=0.275) total time=  43.5s\n"
     ]
    },
    {
     "name": "stdout",
     "output_type": "stream",
     "text": [
      "[CV 3/5] END learning_rate=0.5, max_depth=7, min_child_weight=12, n_estimators=130, reg_alpha=4.175359500017819, reg_lambda=1.5219206856594676, subsample=0.5325715834283595;, score=(train=0.987, test=0.377) total time=  47.0s\n"
     ]
    },
    {
     "name": "stdout",
     "output_type": "stream",
     "text": [
      "[CV 4/5] END learning_rate=0.5, max_depth=7, min_child_weight=12, n_estimators=130, reg_alpha=4.175359500017819, reg_lambda=1.5219206856594676, subsample=0.5325715834283595;, score=(train=0.989, test=0.403) total time=  46.9s\n"
     ]
    },
    {
     "name": "stdout",
     "output_type": "stream",
     "text": [
      "[CV 5/5] END learning_rate=0.5, max_depth=7, min_child_weight=12, n_estimators=130, reg_alpha=4.175359500017819, reg_lambda=1.5219206856594676, subsample=0.5325715834283595;, score=(train=0.987, test=0.415) total time=  42.1s\n"
     ]
    },
    {
     "name": "stdout",
     "output_type": "stream",
     "text": [
      "[CV 1/5] END learning_rate=0.01, max_depth=9, min_child_weight=14, n_estimators=105, reg_alpha=2.7044406556842597, reg_lambda=3.833684466432273, subsample=0.07410363925406072;, score=(train=0.232, test=0.287) total time=  20.2s\n"
     ]
    },
    {
     "name": "stdout",
     "output_type": "stream",
     "text": [
      "[CV 2/5] END learning_rate=0.01, max_depth=9, min_child_weight=14, n_estimators=105, reg_alpha=2.7044406556842597, reg_lambda=3.833684466432273, subsample=0.07410363925406072;, score=(train=0.240, test=0.468) total time=  16.8s\n"
     ]
    },
    {
     "name": "stdout",
     "output_type": "stream",
     "text": [
      "[CV 3/5] END learning_rate=0.01, max_depth=9, min_child_weight=14, n_estimators=105, reg_alpha=2.7044406556842597, reg_lambda=3.833684466432273, subsample=0.07410363925406072;, score=(train=0.253, test=0.337) total time=  16.5s\n"
     ]
    },
    {
     "name": "stdout",
     "output_type": "stream",
     "text": [
      "[CV 4/5] END learning_rate=0.01, max_depth=9, min_child_weight=14, n_estimators=105, reg_alpha=2.7044406556842597, reg_lambda=3.833684466432273, subsample=0.07410363925406072;, score=(train=0.271, test=-0.006) total time=  16.0s\n"
     ]
    },
    {
     "name": "stdout",
     "output_type": "stream",
     "text": [
      "[CV 5/5] END learning_rate=0.01, max_depth=9, min_child_weight=14, n_estimators=105, reg_alpha=2.7044406556842597, reg_lambda=3.833684466432273, subsample=0.07410363925406072;, score=(train=0.252, test=0.049) total time=  18.6s\n"
     ]
    },
    {
     "name": "stdout",
     "output_type": "stream",
     "text": [
      "[CV 1/5] END learning_rate=0.5, max_depth=8, min_child_weight=17, n_estimators=132, reg_alpha=3.8459613531115067, reg_lambda=3.8956558562223464, subsample=0.3056455306481505;, score=(train=0.948, test=0.172) total time=  39.6s\n"
     ]
    },
    {
     "name": "stdout",
     "output_type": "stream",
     "text": [
      "[CV 2/5] END learning_rate=0.5, max_depth=8, min_child_weight=17, n_estimators=132, reg_alpha=3.8459613531115067, reg_lambda=3.8956558562223464, subsample=0.3056455306481505;, score=(train=0.952, test=-0.075) total time=  41.9s\n"
     ]
    },
    {
     "name": "stdout",
     "output_type": "stream",
     "text": [
      "[CV 3/5] END learning_rate=0.5, max_depth=8, min_child_weight=17, n_estimators=132, reg_alpha=3.8459613531115067, reg_lambda=3.8956558562223464, subsample=0.3056455306481505;, score=(train=0.947, test=-0.047) total time=  39.4s\n"
     ]
    },
    {
     "name": "stdout",
     "output_type": "stream",
     "text": [
      "[CV 4/5] END learning_rate=0.5, max_depth=8, min_child_weight=17, n_estimators=132, reg_alpha=3.8459613531115067, reg_lambda=3.8956558562223464, subsample=0.3056455306481505;, score=(train=0.955, test=0.216) total time=  42.6s\n"
     ]
    },
    {
     "name": "stdout",
     "output_type": "stream",
     "text": [
      "[CV 5/5] END learning_rate=0.5, max_depth=8, min_child_weight=17, n_estimators=132, reg_alpha=3.8459613531115067, reg_lambda=3.8956558562223464, subsample=0.3056455306481505;, score=(train=0.953, test=0.237) total time=  43.6s\n"
     ]
    },
    {
     "name": "stdout",
     "output_type": "stream",
     "text": [
      "[CV 1/5] END learning_rate=0.5, max_depth=5, min_child_weight=19, n_estimators=45, reg_alpha=1.7344939796082244, reg_lambda=0.7232156315891902, subsample=0.943862478733438;, score=(train=0.858, test=0.647) total time=  10.7s\n"
     ]
    },
    {
     "name": "stdout",
     "output_type": "stream",
     "text": [
      "[CV 2/5] END learning_rate=0.5, max_depth=5, min_child_weight=19, n_estimators=45, reg_alpha=1.7344939796082244, reg_lambda=0.7232156315891902, subsample=0.943862478733438;, score=(train=0.866, test=0.521) total time=   9.8s\n"
     ]
    },
    {
     "name": "stdout",
     "output_type": "stream",
     "text": [
      "[CV 3/5] END learning_rate=0.5, max_depth=5, min_child_weight=19, n_estimators=45, reg_alpha=1.7344939796082244, reg_lambda=0.7232156315891902, subsample=0.943862478733438;, score=(train=0.872, test=0.544) total time=   9.5s\n"
     ]
    },
    {
     "name": "stdout",
     "output_type": "stream",
     "text": [
      "[CV 4/5] END learning_rate=0.5, max_depth=5, min_child_weight=19, n_estimators=45, reg_alpha=1.7344939796082244, reg_lambda=0.7232156315891902, subsample=0.943862478733438;, score=(train=0.871, test=0.494) total time=   9.7s\n"
     ]
    },
    {
     "name": "stdout",
     "output_type": "stream",
     "text": [
      "[CV 5/5] END learning_rate=0.5, max_depth=5, min_child_weight=19, n_estimators=45, reg_alpha=1.7344939796082244, reg_lambda=0.7232156315891902, subsample=0.943862478733438;, score=(train=0.866, test=0.550) total time=  11.2s\n"
     ]
    },
    {
     "name": "stdout",
     "output_type": "stream",
     "text": [
      "[CV 1/5] END learning_rate=0.001, max_depth=8, min_child_weight=18, n_estimators=46, reg_alpha=1.2785771298063353, reg_lambda=2.9170626991390614, subsample=0.9831650802396265;, score=(train=-2.064, test=-2.306) total time=  19.6s\n"
     ]
    },
    {
     "name": "stdout",
     "output_type": "stream",
     "text": [
      "[CV 2/5] END learning_rate=0.001, max_depth=8, min_child_weight=18, n_estimators=46, reg_alpha=1.2785771298063353, reg_lambda=2.9170626991390614, subsample=0.9831650802396265;, score=(train=-2.110, test=-2.322) total time=  17.0s\n"
     ]
    },
    {
     "name": "stdout",
     "output_type": "stream",
     "text": [
      "[CV 3/5] END learning_rate=0.001, max_depth=8, min_child_weight=18, n_estimators=46, reg_alpha=1.2785771298063353, reg_lambda=2.9170626991390614, subsample=0.9831650802396265;, score=(train=-2.061, test=-2.349) total time=  17.6s\n"
     ]
    },
    {
     "name": "stdout",
     "output_type": "stream",
     "text": [
      "[CV 4/5] END learning_rate=0.001, max_depth=8, min_child_weight=18, n_estimators=46, reg_alpha=1.2785771298063353, reg_lambda=2.9170626991390614, subsample=0.9831650802396265;, score=(train=-2.143, test=-2.063) total time=  21.8s\n"
     ]
    },
    {
     "name": "stdout",
     "output_type": "stream",
     "text": [
      "[CV 5/5] END learning_rate=0.001, max_depth=8, min_child_weight=18, n_estimators=46, reg_alpha=1.2785771298063353, reg_lambda=2.9170626991390614, subsample=0.9831650802396265;, score=(train=-2.194, test=-1.989) total time=  17.4s\n"
     ]
    },
    {
     "name": "stdout",
     "output_type": "stream",
     "text": [
      "[CV 1/5] END learning_rate=1.0, max_depth=1, min_child_weight=4, n_estimators=131, reg_alpha=3.1041629785855616, reg_lambda=0.01929629964663948, subsample=0.40982956946412674;, score=(train=0.655, test=0.668) total time=   7.1s\n"
     ]
    },
    {
     "name": "stdout",
     "output_type": "stream",
     "text": [
      "[CV 2/5] END learning_rate=1.0, max_depth=1, min_child_weight=4, n_estimators=131, reg_alpha=3.1041629785855616, reg_lambda=0.01929629964663948, subsample=0.40982956946412674;, score=(train=0.666, test=0.583) total time=   6.8s\n"
     ]
    },
    {
     "name": "stdout",
     "output_type": "stream",
     "text": [
      "[CV 3/5] END learning_rate=1.0, max_depth=1, min_child_weight=4, n_estimators=131, reg_alpha=3.1041629785855616, reg_lambda=0.01929629964663948, subsample=0.40982956946412674;, score=(train=0.668, test=0.571) total time=   7.3s\n"
     ]
    },
    {
     "name": "stdout",
     "output_type": "stream",
     "text": [
      "[CV 4/5] END learning_rate=1.0, max_depth=1, min_child_weight=4, n_estimators=131, reg_alpha=3.1041629785855616, reg_lambda=0.01929629964663948, subsample=0.40982956946412674;, score=(train=0.701, test=0.477) total time=   7.7s\n"
     ]
    },
    {
     "name": "stdout",
     "output_type": "stream",
     "text": [
      "[CV 5/5] END learning_rate=1.0, max_depth=1, min_child_weight=4, n_estimators=131, reg_alpha=3.1041629785855616, reg_lambda=0.01929629964663948, subsample=0.40982956946412674;, score=(train=0.691, test=0.577) total time=   7.2s\n"
     ]
    },
    {
     "name": "stdout",
     "output_type": "stream",
     "text": [
      "[CV 1/5] END learning_rate=0.001, max_depth=9, min_child_weight=16, n_estimators=131, reg_alpha=3.469924363919446, reg_lambda=4.297783085841308, subsample=0.365845785200668;, score=(train=-1.653, test=-1.838) total time=  43.8s\n"
     ]
    },
    {
     "name": "stdout",
     "output_type": "stream",
     "text": [
      "[CV 2/5] END learning_rate=0.001, max_depth=9, min_child_weight=16, n_estimators=131, reg_alpha=3.469924363919446, reg_lambda=4.297783085841308, subsample=0.365845785200668;, score=(train=-1.690, test=-1.787) total time=  45.3s\n"
     ]
    },
    {
     "name": "stdout",
     "output_type": "stream",
     "text": [
      "[CV 3/5] END learning_rate=0.001, max_depth=9, min_child_weight=16, n_estimators=131, reg_alpha=3.469924363919446, reg_lambda=4.297783085841308, subsample=0.365845785200668;, score=(train=-1.648, test=-1.851) total time=  39.7s\n"
     ]
    },
    {
     "name": "stdout",
     "output_type": "stream",
     "text": [
      "[CV 4/5] END learning_rate=0.001, max_depth=9, min_child_weight=16, n_estimators=131, reg_alpha=3.469924363919446, reg_lambda=4.297783085841308, subsample=0.365845785200668;, score=(train=-1.713, test=-1.710) total time=  43.4s\n"
     ]
    },
    {
     "name": "stdout",
     "output_type": "stream",
     "text": [
      "[CV 5/5] END learning_rate=0.001, max_depth=9, min_child_weight=16, n_estimators=131, reg_alpha=3.469924363919446, reg_lambda=4.297783085841308, subsample=0.365845785200668;, score=(train=-1.757, test=-1.641) total time=  37.9s\n"
     ]
    },
    {
     "name": "stdout",
     "output_type": "stream",
     "text": [
      "[CV 1/5] END learning_rate=0.1, max_depth=1, min_child_weight=6, n_estimators=116, reg_alpha=3.1739106230917202, reg_lambda=1.9656732503808838, subsample=0.39108979357638013;, score=(train=0.622, test=0.709) total time=   8.8s\n"
     ]
    },
    {
     "name": "stdout",
     "output_type": "stream",
     "text": [
      "[CV 2/5] END learning_rate=0.1, max_depth=1, min_child_weight=6, n_estimators=116, reg_alpha=3.1739106230917202, reg_lambda=1.9656732503808838, subsample=0.39108979357638013;, score=(train=0.639, test=0.622) total time=   7.0s\n"
     ]
    },
    {
     "name": "stdout",
     "output_type": "stream",
     "text": [
      "[CV 3/5] END learning_rate=0.1, max_depth=1, min_child_weight=6, n_estimators=116, reg_alpha=3.1739106230917202, reg_lambda=1.9656732503808838, subsample=0.39108979357638013;, score=(train=0.643, test=0.624) total time=   6.5s\n"
     ]
    },
    {
     "name": "stdout",
     "output_type": "stream",
     "text": [
      "[CV 4/5] END learning_rate=0.1, max_depth=1, min_child_weight=6, n_estimators=116, reg_alpha=3.1739106230917202, reg_lambda=1.9656732503808838, subsample=0.39108979357638013;, score=(train=0.679, test=0.499) total time=   6.7s\n"
     ]
    },
    {
     "name": "stdout",
     "output_type": "stream",
     "text": [
      "[CV 5/5] END learning_rate=0.1, max_depth=1, min_child_weight=6, n_estimators=116, reg_alpha=3.1739106230917202, reg_lambda=1.9656732503808838, subsample=0.39108979357638013;, score=(train=0.664, test=0.551) total time=   6.0s\n"
     ]
    },
    {
     "name": "stdout",
     "output_type": "stream",
     "text": [
      "[CV 1/5] END learning_rate=0.1, max_depth=5, min_child_weight=3, n_estimators=90, reg_alpha=0.0779818555278633, reg_lambda=2.0197777886252033, subsample=0.5562207632724095;, score=(train=0.801, test=0.716) total time=  21.4s\n"
     ]
    },
    {
     "name": "stdout",
     "output_type": "stream",
     "text": [
      "[CV 2/5] END learning_rate=0.1, max_depth=5, min_child_weight=3, n_estimators=90, reg_alpha=0.0779818555278633, reg_lambda=2.0197777886252033, subsample=0.5562207632724095;, score=(train=0.805, test=0.630) total time=  26.3s\n"
     ]
    },
    {
     "name": "stdout",
     "output_type": "stream",
     "text": [
      "[CV 3/5] END learning_rate=0.1, max_depth=5, min_child_weight=3, n_estimators=90, reg_alpha=0.0779818555278633, reg_lambda=2.0197777886252033, subsample=0.5562207632724095;, score=(train=0.812, test=0.631) total time=  22.8s\n"
     ]
    },
    {
     "name": "stdout",
     "output_type": "stream",
     "text": [
      "[CV 4/5] END learning_rate=0.1, max_depth=5, min_child_weight=3, n_estimators=90, reg_alpha=0.0779818555278633, reg_lambda=2.0197777886252033, subsample=0.5562207632724095;, score=(train=0.823, test=0.515) total time=  20.6s\n"
     ]
    },
    {
     "name": "stdout",
     "output_type": "stream",
     "text": [
      "[CV 5/5] END learning_rate=0.1, max_depth=5, min_child_weight=3, n_estimators=90, reg_alpha=0.0779818555278633, reg_lambda=2.0197777886252033, subsample=0.5562207632724095;, score=(train=0.819, test=0.568) total time=  22.1s\n"
     ]
    },
    {
     "name": "stdout",
     "output_type": "stream",
     "text": [
      "[CV 1/5] END learning_rate=0.01, max_depth=9, min_child_weight=18, n_estimators=133, reg_alpha=1.9686141364147336, reg_lambda=1.8602945852482544, subsample=0.892727603183955;, score=(train=0.547, test=0.504) total time= 1.1min\n"
     ]
    },
    {
     "name": "stdout",
     "output_type": "stream",
     "text": [
      "[CV 2/5] END learning_rate=0.01, max_depth=9, min_child_weight=18, n_estimators=133, reg_alpha=1.9686141364147336, reg_lambda=1.8602945852482544, subsample=0.892727603183955;, score=(train=0.546, test=0.644) total time= 1.1min\n"
     ]
    },
    {
     "name": "stdout",
     "output_type": "stream",
     "text": [
      "[CV 3/5] END learning_rate=0.01, max_depth=9, min_child_weight=18, n_estimators=133, reg_alpha=1.9686141364147336, reg_lambda=1.8602945852482544, subsample=0.892727603183955;, score=(train=0.565, test=0.514) total time= 1.1min\n"
     ]
    },
    {
     "name": "stdout",
     "output_type": "stream",
     "text": [
      "[CV 4/5] END learning_rate=0.01, max_depth=9, min_child_weight=18, n_estimators=133, reg_alpha=1.9686141364147336, reg_lambda=1.8602945852482544, subsample=0.892727603183955;, score=(train=0.576, test=0.189) total time= 1.1min\n"
     ]
    },
    {
     "name": "stdout",
     "output_type": "stream",
     "text": [
      "[CV 5/5] END learning_rate=0.01, max_depth=9, min_child_weight=18, n_estimators=133, reg_alpha=1.9686141364147336, reg_lambda=1.8602945852482544, subsample=0.892727603183955;, score=(train=0.551, test=0.252) total time= 1.1min\n"
     ]
    },
    {
     "name": "stdout",
     "output_type": "stream",
     "text": [
      "[CV 1/5] END learning_rate=0.5, max_depth=9, min_child_weight=3, n_estimators=77, reg_alpha=3.6148290637041782, reg_lambda=4.948658608672223, subsample=0.13563646572210744;, score=(train=0.135, test=-2.436) total time=  18.7s\n"
     ]
    },
    {
     "name": "stdout",
     "output_type": "stream",
     "text": [
      "[CV 2/5] END learning_rate=0.5, max_depth=9, min_child_weight=3, n_estimators=77, reg_alpha=3.6148290637041782, reg_lambda=4.948658608672223, subsample=0.13563646572210744;, score=(train=0.088, test=-2.415) total time=  18.3s\n"
     ]
    },
    {
     "name": "stdout",
     "output_type": "stream",
     "text": [
      "[CV 3/5] END learning_rate=0.5, max_depth=9, min_child_weight=3, n_estimators=77, reg_alpha=3.6148290637041782, reg_lambda=4.948658608672223, subsample=0.13563646572210744;, score=(train=0.129, test=-2.891) total time=  20.3s\n"
     ]
    },
    {
     "name": "stdout",
     "output_type": "stream",
     "text": [
      "[CV 4/5] END learning_rate=0.5, max_depth=9, min_child_weight=3, n_estimators=77, reg_alpha=3.6148290637041782, reg_lambda=4.948658608672223, subsample=0.13563646572210744;, score=(train=0.314, test=-0.649) total time=  18.5s\n"
     ]
    },
    {
     "name": "stdout",
     "output_type": "stream",
     "text": [
      "[CV 5/5] END learning_rate=0.5, max_depth=9, min_child_weight=3, n_estimators=77, reg_alpha=3.6148290637041782, reg_lambda=4.948658608672223, subsample=0.13563646572210744;, score=(train=0.177, test=-1.097) total time=  19.2s\n"
     ]
    },
    {
     "name": "stdout",
     "output_type": "stream",
     "text": [
      "[CV 1/5] END learning_rate=0.01, max_depth=8, min_child_weight=3, n_estimators=57, reg_alpha=3.0082148084324114, reg_lambda=0.5972782957467299, subsample=0.8810230939396445;, score=(train=-0.262, test=-0.317) total time=  24.1s\n"
     ]
    },
    {
     "name": "stdout",
     "output_type": "stream",
     "text": [
      "[CV 2/5] END learning_rate=0.01, max_depth=8, min_child_weight=3, n_estimators=57, reg_alpha=3.0082148084324114, reg_lambda=0.5972782957467299, subsample=0.8810230939396445;, score=(train=-0.276, test=-0.119) total time=  26.1s\n"
     ]
    },
    {
     "name": "stdout",
     "output_type": "stream",
     "text": [
      "[CV 3/5] END learning_rate=0.01, max_depth=8, min_child_weight=3, n_estimators=57, reg_alpha=3.0082148084324114, reg_lambda=0.5972782957467299, subsample=0.8810230939396445;, score=(train=-0.249, test=-0.276) total time=  23.9s\n"
     ]
    },
    {
     "name": "stdout",
     "output_type": "stream",
     "text": [
      "[CV 4/5] END learning_rate=0.01, max_depth=8, min_child_weight=3, n_estimators=57, reg_alpha=3.0082148084324114, reg_lambda=0.5972782957467299, subsample=0.8810230939396445;, score=(train=-0.258, test=-0.529) total time=  23.0s\n"
     ]
    },
    {
     "name": "stdout",
     "output_type": "stream",
     "text": [
      "[CV 5/5] END learning_rate=0.01, max_depth=8, min_child_weight=3, n_estimators=57, reg_alpha=3.0082148084324114, reg_lambda=0.5972782957467299, subsample=0.8810230939396445;, score=(train=-0.290, test=-0.464) total time=  27.2s\n"
     ]
    },
    {
     "name": "stdout",
     "output_type": "stream",
     "text": [
      "[CV 1/5] END learning_rate=0.001, max_depth=7, min_child_weight=19, n_estimators=98, reg_alpha=4.689922618477601, reg_lambda=4.394932415452323, subsample=0.9051027773322918;, score=(train=-1.801, test=-2.004) total time=  31.0s\n"
     ]
    },
    {
     "name": "stdout",
     "output_type": "stream",
     "text": [
      "[CV 2/5] END learning_rate=0.001, max_depth=7, min_child_weight=19, n_estimators=98, reg_alpha=4.689922618477601, reg_lambda=4.394932415452323, subsample=0.9051027773322918;, score=(train=-1.841, test=-1.981) total time=  34.3s\n"
     ]
    },
    {
     "name": "stdout",
     "output_type": "stream",
     "text": [
      "[CV 3/5] END learning_rate=0.001, max_depth=7, min_child_weight=19, n_estimators=98, reg_alpha=4.689922618477601, reg_lambda=4.394932415452323, subsample=0.9051027773322918;, score=(train=-1.797, test=-2.031) total time=  32.9s\n"
     ]
    },
    {
     "name": "stdout",
     "output_type": "stream",
     "text": [
      "[CV 4/5] END learning_rate=0.001, max_depth=7, min_child_weight=19, n_estimators=98, reg_alpha=4.689922618477601, reg_lambda=4.394932415452323, subsample=0.9051027773322918;, score=(train=-1.867, test=-1.838) total time=  35.2s\n"
     ]
    },
    {
     "name": "stdout",
     "output_type": "stream",
     "text": [
      "[CV 5/5] END learning_rate=0.001, max_depth=7, min_child_weight=19, n_estimators=98, reg_alpha=4.689922618477601, reg_lambda=4.394932415452323, subsample=0.9051027773322918;, score=(train=-1.914, test=-1.767) total time=  33.9s\n"
     ]
    },
    {
     "name": "stdout",
     "output_type": "stream",
     "text": [
      "[CV 1/5] END learning_rate=0.001, max_depth=1, min_child_weight=5, n_estimators=101, reg_alpha=3.8275864206036605, reg_lambda=2.892160124873701, subsample=0.8905927888033333;, score=(train=-1.824, test=-2.038) total time=   5.7s\n"
     ]
    },
    {
     "name": "stdout",
     "output_type": "stream",
     "text": [
      "[CV 2/5] END learning_rate=0.001, max_depth=1, min_child_weight=5, n_estimators=101, reg_alpha=3.8275864206036605, reg_lambda=2.892160124873701, subsample=0.8905927888033333;, score=(train=-1.867, test=-2.006) total time=   5.5s\n"
     ]
    },
    {
     "name": "stdout",
     "output_type": "stream",
     "text": [
      "[CV 3/5] END learning_rate=0.001, max_depth=1, min_child_weight=5, n_estimators=101, reg_alpha=3.8275864206036605, reg_lambda=2.892160124873701, subsample=0.8905927888033333;, score=(train=-1.821, test=-2.044) total time=   5.1s\n"
     ]
    },
    {
     "name": "stdout",
     "output_type": "stream",
     "text": [
      "[CV 4/5] END learning_rate=0.001, max_depth=1, min_child_weight=5, n_estimators=101, reg_alpha=3.8275864206036605, reg_lambda=2.892160124873701, subsample=0.8905927888033333;, score=(train=-1.898, test=-1.837) total time=   5.8s\n"
     ]
    },
    {
     "name": "stdout",
     "output_type": "stream",
     "text": [
      "[CV 5/5] END learning_rate=0.001, max_depth=1, min_child_weight=5, n_estimators=101, reg_alpha=3.8275864206036605, reg_lambda=2.892160124873701, subsample=0.8905927888033333;, score=(train=-1.940, test=-1.788) total time=   8.5s\n"
     ]
    },
    {
     "data": {
      "text/plain": [
       "RandomizedSearchCV(cv=5,\n",
       "                   estimator=XGBRegressor(base_score=0.5, booster='gbtree',\n",
       "                                          colsample_bylevel=1,\n",
       "                                          colsample_bynode=1,\n",
       "                                          colsample_bytree=1, gamma=0,\n",
       "                                          gpu_id=-1, importance_type='gain',\n",
       "                                          interaction_constraints='',\n",
       "                                          learning_rate=0.300000012,\n",
       "                                          max_delta_step=0, max_depth=6,\n",
       "                                          min_child_weight=1, missing=nan,\n",
       "                                          monotone_constraints='()',\n",
       "                                          n_estimators=100, n_jobs=0,\n",
       "                                          num_par...\n",
       "                                        'n_estimators': <scipy.stats._distn_infrastructure.rv_frozen object at 0x7f29c80bdf40>,\n",
       "                                        'reg_alpha': <scipy.stats._distn_infrastructure.rv_frozen object at 0x7f29c80400a0>,\n",
       "                                        'reg_lambda': <scipy.stats._distn_infrastructure.rv_frozen object at 0x7f29c80403d0>,\n",
       "                                        'subsample': <scipy.stats._distn_infrastructure.rv_frozen object at 0x7f29c80a5400>},\n",
       "                   random_state=8675309, return_train_score=True, verbose=5)"
      ]
     },
     "execution_count": 29,
     "metadata": {
     },
     "output_type": "execute_result"
    }
   ],
   "source": [
    "# RandomizedSearchCV for XGBoost Re\n",
    "\n",
    "params = {\n",
    "    \"learning_rate\": [0.001, 0.01, 0.1, 0.5, 1.],\n",
    "    \"max_depth\": randint(1, 10),\n",
    "    \"n_estimators\": randint(10, 150),\n",
    "    \"subsample\": uniform(0.05, 0.95),  # so uniform on [.05,.05+.95] = [.05,1.]\n",
    "    \"min_child_weight\": randint(1, 20),\n",
    "    \"reg_alpha\": uniform(0, 5),\n",
    "    \"reg_lambda\": uniform(0, 5)\n",
    "}\n",
    "\n",
    "random_search_xgb = RandomizedSearchCV(\n",
    "    xgbr_model,\n",
    "    param_distributions=params,\n",
    "    random_state=8675309,\n",
    "    n_iter=25,\n",
    "    cv=5,\n",
    "    verbose=5,\n",
    "    n_jobs=1,\n",
    "    return_train_score=True)\n",
    "\n",
    "random_search_xgb.fit(X_train, y_train)"
   ]
  },
  {
   "cell_type": "code",
   "execution_count": 30,
   "metadata": {
    "collapsed": false
   },
   "outputs": [
    {
     "data": {
      "text/plain": [
       "{'learning_rate': 0.1,\n",
       " 'max_depth': 2,\n",
       " 'min_child_weight': 2,\n",
       " 'n_estimators': 115,\n",
       " 'reg_alpha': 1.1298003538030903,\n",
       " 'reg_lambda': 4.607840214514044,\n",
       " 'subsample': 0.7428130082444454}"
      ]
     },
     "execution_count": 30,
     "metadata": {
     },
     "output_type": "execute_result"
    }
   ],
   "source": [
    "random_search_xgb.best_params_"
   ]
  },
  {
   "cell_type": "code",
   "execution_count": 31,
   "metadata": {
    "collapsed": false
   },
   "outputs": [
    {
     "name": "stdout",
     "output_type": "stream",
     "text": [
      "Model r-squared score from test data: 0.4965\n",
      "Mean squared error on test data: 869.52\n",
      "Root mean squared error on test data: 29.49\n"
     ]
    },
    {
     "data": {
      "image/png": "[encoded data removed]",
      "text/plain": [
       "<Figure size 648x432 with 1 Axes>"
      ]
     },
     "execution_count": 31,
     "metadata": {
      "image/png": {
       "height": 370,
       "width": 556
      }
     },
     "output_type": "execute_result"
    }
   ],
   "source": [
    "my_regression_results(random_search_xgb)"
   ]
  },
  {
   "cell_type": "code",
   "execution_count": 85,
   "metadata": {
    "collapsed": false
   },
   "outputs": [
    {
     "name": "stdout",
     "output_type": "stream",
     "text": [
      "Fitting 5 folds for each of 288 candidates, totalling 1440 fits\n"
     ]
    }
   ],
   "source": [
    "#Use grid search for our Xgboost regression model \n",
    "# define the grid\n",
    "params = {\n",
    "    \"learning_rate\": [0.01, 0.1],\n",
    "    \"max_depth\": [2, 4, 6],\n",
    "    \"n_estimators\": [10, 100,150],\n",
    "    \"subsample\": [0.8, 1],\n",
    "    \"min_child_weight\": [1, 3],\n",
    "    \"reg_lambda\": [1, 3],\n",
    "    \"reg_alpha\": [1, 3]\n",
    "}\n",
    "\n",
    "# setup the grid search\n",
    "grid_search_xgb = GridSearchCV(xgbr_model,\n",
    "                           param_grid=params,\n",
    "                           cv=5,\n",
    "                           verbose=1,\n",
    "                           n_jobs=1,\n",
    "                           return_train_score=True)\n",
    "\n",
    "grid_search_xgb.fit(X_train, y_train)\n"
   ]
  },
  {
   "cell_type": "code",
   "execution_count": 53,
   "metadata": {
    "collapsed": false
   },
   "outputs": [
    {
     "data": {
      "text/plain": [
       "{'learning_rate': 0.1,\n",
       " 'max_depth': 4,\n",
       " 'min_child_weight': 1,\n",
       " 'n_estimators': 100,\n",
       " 'reg_alpha': 3,\n",
       " 'reg_lambda': 3,\n",
       " 'subsample': 1}"
      ]
     },
     "execution_count": 53,
     "metadata": {
     },
     "output_type": "execute_result"
    }
   ],
   "source": [
    "grid_search_xgb.best_params_"
   ]
  },
  {
   "cell_type": "code",
   "execution_count": 54,
   "metadata": {
    "collapsed": false
   },
   "outputs": [
    {
     "name": "stdout",
     "output_type": "stream",
     "text": [
      "Model r-squared score from test data: 0.0829\n",
      "Mean squared error on test data: 1583.78\n",
      "Root mean squared error on test data: 39.80\n"
     ]
    },
    {
     "data": {
      "image/png": "[encoded data removed]",
      "text/plain": [
       "<Figure size 648x432 with 1 Axes>"
      ]
     },
     "execution_count": 54,
     "metadata": {
      "image/png": {
       "height": 370,
       "width": 556
      }
     },
     "output_type": "execute_result"
    }
   ],
   "source": [
    "my_regression_results(grid_search_xgb)"
   ]
  },
  {
   "cell_type": "markdown",
   "metadata": {
    "collapsed": false
   },
   "source": [
    "#### Results following Tree Hyperparameter Tuning\n",
    "Our most useful models have been from the tree-based models run on the dataset with the 10 lags and rolling aggregates. What would happen if we tuned the hyperparmeters? For a direct comparison to past approaches, we must stay consistent with the same X train and X test transformations we had last time we trained these models. "
   ]
  },
  {
   "cell_type": "code",
   "execution_count": 32,
   "metadata": {
    "collapsed": false
   },
   "outputs": [
    {
     "data": {
      "text/html": [
       "<div>\n",
       "<style scoped>\n",
       "    .dataframe tbody tr th:only-of-type {\n",
       "        vertical-align: middle;\n",
       "    }\n",
       "\n",
       "    .dataframe tbody tr th {\n",
       "        vertical-align: top;\n",
       "    }\n",
       "\n",
       "    .dataframe thead th {\n",
       "        text-align: right;\n",
       "    }\n",
       "</style>\n",
       "<table border=\"1\" class=\"dataframe\">\n",
       "  <thead>\n",
       "    <tr style=\"text-align: right;\">\n",
       "      <th></th>\n",
       "      <th>Algorithm</th>\n",
       "      <th>Data Transformations</th>\n",
       "      <th>Train R-squared</th>\n",
       "      <th>Test R-squared</th>\n",
       "      <th>Test Mean Squared Error</th>\n",
       "      <th>Test Root Mean Squared Error</th>\n",
       "    </tr>\n",
       "  </thead>\n",
       "  <tbody>\n",
       "    <tr>\n",
       "      <th>0</th>\n",
       "      <td>XGBoost Regression</td>\n",
       "      <td>Random Search Hyperparameter Tuning</td>\n",
       "      <td>0.68</td>\n",
       "      <td>0.5</td>\n",
       "      <td>869.52</td>\n",
       "      <td>29.49</td>\n",
       "    </tr>\n",
       "  </tbody>\n",
       "</table>\n",
       "</div>"
      ],
      "text/plain": [
       "            Algorithm                 Data Transformations  Train R-squared  \\\n",
       "0  XGBoost Regression  Random Search Hyperparameter Tuning             0.68   \n",
       "\n",
       "   Test R-squared  Test Mean Squared Error  Test Root Mean Squared Error  \n",
       "0             0.5                   869.52                         29.49  "
      ]
     },
     "execution_count": 32,
     "metadata": {
     },
     "output_type": "execute_result"
    }
   ],
   "source": [
    "d = {'Algorithm' : ['XGBoost Regression']\n",
    "     ,'Data Transformations':['Random Search Hyperparameter Tuning']\n",
    "     ,'Train R-squared':[round(random_search_xgb.score(X_train,y_train),2)]\n",
    "     ,'Test R-squared':[round(my_short_regression_results(random_search_xgb)[0],2)]\n",
    "     ,'Test Mean Squared Error':[round(my_short_regression_results(random_search_xgb)[1],2)]\n",
    "     ,'Test Root Mean Squared Error':[round(my_short_regression_results(random_search_xgb)[2],2)]}\n",
    "df = pd.DataFrame(data=d)\n",
    "df"
   ]
  }
 ],
 "metadata": {
  "kernelspec": {
   "display_name": "Python 3 (system-wide)",
   "language": "python",
   "metadata": {
    "cocalc": {
     "description": "Python 3 programming language",
     "priority": 100,
     "url": "https://www.python.org/"
    }
   },
   "name": "python3",
   "resource_dir": "/ext/jupyter/kernels/python3"
  },
  "language_info": {
   "codemirror_mode": {
    "name": "ipython",
    "version": 3
   },
   "file_extension": ".py",
   "mimetype": "text/x-python",
   "name": "python",
   "nbconvert_exporter": "python",
   "pygments_lexer": "ipython3",
   "version": "3.8.10"
  }
 },
 "nbformat": 4,
 "nbformat_minor": 4
}